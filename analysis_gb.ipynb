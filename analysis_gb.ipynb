{
 "cells": [
  {
   "cell_type": "markdown",
   "metadata": {},
   "source": [
    "# Gradient Tree Boosting"
   ]
  },
  {
   "cell_type": "code",
   "execution_count": null,
   "metadata": {},
   "outputs": [],
   "source": [
    "import pandas as pd\n",
    "from sklearn.model_selection import GridSearchCV, RandomizedSearchCV, train_test_split\n",
    "from src.gradboost import GradBoost\n",
    "import src.utils as utils"
   ]
  },
  {
   "cell_type": "code",
   "execution_count": null,
   "metadata": {},
   "outputs": [],
   "source": [
    "df = pd.read_csv(\"data/diamonds.csv\")\n",
    "X_train, X_test, y_train, y_test = utils.preprocessing_LOS(df)"
   ]
  },
  {
   "cell_type": "code",
   "execution_count": null,
   "metadata": {},
   "outputs": [],
   "source": [
    "param_grid = {\n",
    "\t\"loss\": [\"log_loss\", \"exponential\"],\n",
    "\t\"learning_rate\": [0.01, 0.1, 0.5, 1.0],\n",
    "\t\"subsample\": [0.5, 0.75, 1.0],\n",
    "\t\"criterion\": [\"friedman_mse\", \"squared_error\"],\n",
    "}\n",
    "\n",
    "grid_search = RandomizedSearchCV(GradBoost(), param_grid, cv=5, scoring=\"accuracy\", \n",
    "\t\t\t\t\t\t\t\t return_train_score=True, verbose=10, n_iter=10, n_jobs=-1)\n",
    "grid_search.fit(X_train, y_train)"
   ]
  }
 ],
 "metadata": {
  "kernelspec": {
   "display_name": "base",
   "language": "python",
   "name": "python3"
  },
  "language_info": {
   "codemirror_mode": {
    "name": "ipython",
    "version": 3
   },
   "file_extension": ".py",
   "mimetype": "text/x-python",
   "name": "python",
   "nbconvert_exporter": "python",
   "pygments_lexer": "ipython3",
   "version": "3.9.17"
  }
 },
 "nbformat": 4,
 "nbformat_minor": 2
}
