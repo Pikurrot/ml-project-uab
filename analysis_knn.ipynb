{
 "cells": [
  {
   "cell_type": "markdown",
   "metadata": {},
   "source": [
    "# K-Nearest Neighbors"
   ]
  },
  {
   "cell_type": "code",
   "execution_count": 59,
   "metadata": {},
   "outputs": [],
   "source": [
    "import numpy as np\n",
    "import matplotlib.pyplot as plt\n",
    "from src.knn import KNN_model\n",
    "import pandas as pd\n",
    "import seaborn as sns\n",
    "from sklearn.model_selection import train_test_split\n",
    "import src.utils as utils\n",
    "from sklearn.preprocessing import LabelEncoder, StandardScaler"
   ]
  },
  {
   "cell_type": "code",
   "execution_count": 60,
   "metadata": {},
   "outputs": [
    {
     "data": {
      "text/plain": [
       "<module 'src.knn' from 'c:\\\\Users\\\\musta\\\\OneDrive\\\\Escritorio\\\\machine_learning_project\\\\ml-project-uab\\\\src\\\\knn.py'>"
      ]
     },
     "execution_count": 60,
     "metadata": {},
     "output_type": "execute_result"
    }
   ],
   "source": [
    "import importlib\n",
    "import src.svm_mod\n",
    "importlib.reload(utils)\n",
    "importlib.reload(src.knn)"
   ]
  },
  {
   "cell_type": "markdown",
   "metadata": {},
   "source": [
    "### Without outliers"
   ]
  },
  {
   "cell_type": "code",
   "execution_count": 61,
   "metadata": {},
   "outputs": [],
   "source": [
    "df = pd.read_csv('data/diamonds.csv')\n",
    "X_train, X_test, y_train, y_test = utils.preprocessing_LOS(df)"
   ]
  },
  {
   "cell_type": "markdown",
   "metadata": {},
   "source": [
    "Let's train KNN using the parameters that go by default in the model and observe the score we get on a validation set created from splitting our data."
   ]
  },
  {
   "cell_type": "code",
   "execution_count": 62,
   "metadata": {},
   "outputs": [
    {
     "name": "stdout",
     "output_type": "stream",
     "text": [
      "0.6536334913112164\n"
     ]
    }
   ],
   "source": [
    "# Splitting the data into train and validation sets\n",
    "X_train2, X_val, y_train2, y_val = train_test_split(X_train, y_train, test_size=0.2, random_state=42)\n",
    "\n",
    "# KNN\n",
    "knn = KNN_model(n_neighbors=5)\n",
    "knn.fit(X_train2, y_train2)\n",
    "\n",
    "score = knn.score(X_val, y_val)\n",
    "\n",
    "print(score)"
   ]
  },
  {
   "cell_type": "markdown",
   "metadata": {},
   "source": [
    "There is a way to improve this score, for starters, `n_neighbors` should be higher given that we have high dimensional data.\n",
    "\n",
    "We can compute **grid search** and try to identify which value is best setting an initial range of values (1,20)."
   ]
  },
  {
   "cell_type": "code",
   "execution_count": 63,
   "metadata": {},
   "outputs": [
    {
     "name": "stdout",
     "output_type": "stream",
     "text": [
      "Best value for n_neighbors: 19 with score: 0.6954919102635704\n"
     ]
    }
   ],
   "source": [
    "from sklearn.model_selection import GridSearchCV\n",
    "\n",
    "param_grid = {'n_neighbors': range(1, 20)}  # Set a range for the hyperparameter n_neighbors to try\n",
    "\n",
    "knn = KNN_model(algorithm = 'auto') # Create the model to use for hyperparameter tuning\n",
    "grid_search = GridSearchCV(knn, param_grid, cv=5)  # Adjust the cv parameter as needed for cross-validation\n",
    "\n",
    "grid_search.fit(X_train, y_train)  # Fit the hyperparameter search model\n",
    "\n",
    "# Retrieve the best parameter value\n",
    "best_n_neighbors = grid_search.best_params_['n_neighbors']\n",
    "print(\"Best value for n_neighbors:\", best_n_neighbors, \"with score:\", grid_search.best_score_)\n",
    "\n"
   ]
  },
  {
   "cell_type": "markdown",
   "metadata": {},
   "source": [
    "Let's now see how it performs on our validation set."
   ]
  },
  {
   "cell_type": "code",
   "execution_count": 64,
   "metadata": {},
   "outputs": [
    {
     "name": "stdout",
     "output_type": "stream",
     "text": [
      "Accuracy: 0.6972090573986308\n"
     ]
    }
   ],
   "source": [
    "best_model = KNN_model(n_neighbors=best_n_neighbors)\n",
    "best_model.fit(X_train2, y_train2)\n",
    "score = best_model.score(X_val, y_val)\n",
    "print(\"Accuracy:\",score)\n"
   ]
  },
  {
   "cell_type": "markdown",
   "metadata": {},
   "source": [
    "How can we increase this accuracy?\n",
    "\n",
    "1. Try to set the parameter `p` (metric used) to 1 so that we apply manhattan since we have somewhat high-dimensional data\n",
    "2. See if changing the `weighting` method has any effect on the accuracy of the model\n",
    "3. Apply a broader range for `n_neighbors` to have more simplicity (reducing overfitting) since our data is high-dimensional, and have a random          value for the variable for every iteration to speed up computation.\n",
    "\n",
    "In order to perform that we apply a randomized search specifying a parameter grid with the mentioned above factors."
   ]
  },
  {
   "cell_type": "code",
   "execution_count": 65,
   "metadata": {},
   "outputs": [
    {
     "name": "stdout",
     "output_type": "stream",
     "text": [
      "Best hyperparameters: {'n_neighbors': 25, 'p': 1, 'weights': 'uniform'}\n",
      "Best score: 0.7002053019138654\n"
     ]
    }
   ],
   "source": [
    "from sklearn.model_selection import train_test_split, RandomizedSearchCV\n",
    "from scipy.stats import uniform, randint\n",
    "\n",
    "# Define the parameter grid for hyperparameter tuning\n",
    "param_grid = {\n",
    "    'n_neighbors': randint(1, 45),  # Range of values for n_neighbors\n",
    "    'weights': ['uniform', 'distance'],  # Weighting method\n",
    "    'p': [1, 2]  # Power parameter for Minkowski distance (1 for Manhattan, 2 for Euclidean)\n",
    "}\n",
    "\n",
    "knn = KNN_model(algorithm = 'auto') # Create the model to use for hyperparameter tuning\n",
    "knn_random = RandomizedSearchCV(knn, param_distributions=param_grid, n_iter = 30, cv = 5, random_state = 42)  # Define the random search model\n",
    "knn_random.fit(X_train, y_train)  # Fit the random search model\n",
    "\n",
    "# Retrieve the best hyperparameters\n",
    "best_params = knn_random.best_params_\n",
    "print(\"Best hyperparameters:\", best_params)\n",
    "\n",
    "best_score = knn_random.best_score_\n",
    "print(\"Best score:\", best_score)"
   ]
  },
  {
   "cell_type": "code",
   "execution_count": 66,
   "metadata": {},
   "outputs": [
    {
     "name": "stdout",
     "output_type": "stream",
     "text": [
      "Accuracy: 0.6969457609268036\n"
     ]
    }
   ],
   "source": [
    "knn = KNN_model(**best_params)  # Create a new model with the best parameters\n",
    "knn.fit(X_train2, y_train2)  # Fit this model to the data\n",
    "score = knn.score(X_val, y_val)  # Calculate the accuracy score\n",
    "print(\"Accuracy:\", score)"
   ]
  },
  {
   "cell_type": "markdown",
   "metadata": {},
   "source": [
    "Hyperparameter tuning beyond just `n_neighbors` doesn't seem to have a large increment to the accuracy in our model.\n",
    "\n",
    "We conclude that using **Manhattan** as a metric is needed for our problem due to high dimensionality and that the weighting method needs to be uniform.\n",
    "However, `n_neighbors` remains a variable that we can still somehow manipulate manually in order to get a higher score.\n",
    "\n",
    "Let's try for k in {25, 30, 35, 40, 45, 50, 55, 60, 65, 70}, considering that our actual best is 25 so that we can compare."
   ]
  },
  {
   "cell_type": "code",
   "execution_count": 83,
   "metadata": {},
   "outputs": [
    {
     "name": "stdout",
     "output_type": "stream",
     "text": [
      "+---------+--------------------+\n",
      "| K-Value |      Accuracy      |\n",
      "+---------+--------------------+\n",
      "|    25   | 0.6969457609268036 |\n",
      "|    30   |  0.69971037388099  |\n",
      "|    35   | 0.7003686150605581 |\n",
      "|    40   | 0.6998420221169036 |\n",
      "|    45   | 0.6965508162190627 |\n",
      "|    50   | 0.6961558715113217 |\n",
      "|    55   | 0.6957609268035808 |\n",
      "|    60   |  0.69681411269089  |\n",
      "|    65   | 0.6965508162190627 |\n",
      "|    70   | 0.6977356503422855 |\n",
      "+---------+--------------------+\n"
     ]
    }
   ],
   "source": [
    "import prettytable as pt # Visualize the results in a pretty table\n",
    "\n",
    "k_list = [25, 30, 35, 40, 45, 50, 55, 60, 65, 70]\n",
    "table = pt.PrettyTable()\n",
    "table.field_names = [\"K-Value\", \"Accuracy\"]\n",
    "\n",
    "for k in k_list:\n",
    "    knn = KNN_model(n_neighbors=k, algorithm='auto', weights='uniform', p=1)\n",
    "    knn.fit(X_train2, y_train2)\n",
    "    score = knn.score(X_val, y_val)\n",
    "    table.add_row([k, score])\n",
    "\n",
    "print(table)"
   ]
  },
  {
   "cell_type": "markdown",
   "metadata": {},
   "source": [
    "The best model is the one with 35 `n_neighbors`, with an accuracy of 0.7 approx."
   ]
  },
  {
   "cell_type": "code",
   "execution_count": 74,
   "metadata": {},
   "outputs": [
    {
     "name": "stdout",
     "output_type": "stream",
     "text": [
      "Accuracy: 0.7003686150605581\n"
     ]
    }
   ],
   "source": [
    "knn = KNN_model(n_neighbors=35, algorithm = 'auto', weights = 'uniform', p = 1)\n",
    "knn.fit(X_train2, y_train2)\n",
    "score = knn.score(X_val, y_val)\n",
    "print(f\"Accuracy:\", score)"
   ]
  },
  {
   "cell_type": "markdown",
   "metadata": {},
   "source": [
    "In conclusion, hyperparameter tuning in the KNearestNeighbors algorithm doesn't seem to be as effective as setting a predefined range of values for the parameter `n_neighbors`. The model is able to get a decent accuracy. However, the rest of the metrics need to be computed in order to evaluate its performance."
   ]
  },
  {
   "cell_type": "code",
   "execution_count": 76,
   "metadata": {},
   "outputs": [
    {
     "name": "stderr",
     "output_type": "stream",
     "text": [
      "c:\\Users\\musta\\anaconda3\\lib\\site-packages\\sklearn\\metrics\\_classification.py:1344: UndefinedMetricWarning: Precision and F-score are ill-defined and being set to 0.0 in labels with no predicted samples. Use `zero_division` parameter to control this behavior.\n",
      "  _warn_prf(average, modifier, msg_start, len(result))\n",
      "c:\\Users\\musta\\anaconda3\\lib\\site-packages\\sklearn\\metrics\\_classification.py:1344: UndefinedMetricWarning: Precision and F-score are ill-defined and being set to 0.0 in labels with no predicted samples. Use `zero_division` parameter to control this behavior.\n",
      "  _warn_prf(average, modifier, msg_start, len(result))\n",
      "c:\\Users\\musta\\anaconda3\\lib\\site-packages\\sklearn\\metrics\\_classification.py:1344: UndefinedMetricWarning: Precision and F-score are ill-defined and being set to 0.0 in labels with no predicted samples. Use `zero_division` parameter to control this behavior.\n",
      "  _warn_prf(average, modifier, msg_start, len(result))\n"
     ]
    },
    {
     "data": {
      "text/plain": [
       "{'accuracy': 0.7003686150605581,\n",
       " 'precision': 0.6941489361702128,\n",
       " 'recall': 0.4423728813559322,\n",
       " 'f1': 0.5403726708074534}"
      ]
     },
     "execution_count": 76,
     "metadata": {},
     "output_type": "execute_result"
    }
   ],
   "source": [
    "knn.compute_metrics(X_val, y_val) # Using our own function to compute the metrics\n"
   ]
  },
  {
   "cell_type": "markdown",
   "metadata": {},
   "source": [
    "The **precision** and **accuracy** seem to be really close to each other in value implying that the model is making correct predictions overall at a rate comparable to the rate of correct predictions within the positive predictions. \n",
    "\n",
    "Nevertheless, the **recall** and **f1 scores** are low implying that KNN doesn't generalize well in this particular problem.\n",
    "\n",
    "As we can see in the following code, setting a lower value for `n_neighbors` in the algorithm does make a small improvement in generalization by improving recall and f1, but it is not necessarily better as it decreases accuracy and a lot of precision."
   ]
  },
  {
   "cell_type": "code",
   "execution_count": 84,
   "metadata": {},
   "outputs": [
    {
     "data": {
      "text/plain": [
       "{'accuracy': 0.6615323854660348,\n",
       " 'precision': 0.5575539568345323,\n",
       " 'recall': 0.5254237288135594,\n",
       " 'f1': 0.5410122164048865}"
      ]
     },
     "execution_count": 84,
     "metadata": {},
     "output_type": "execute_result"
    }
   ],
   "source": [
    "knn = KNN_model(n_neighbors=5, algorithm = 'auto', weights = 'uniform', p = 1)\n",
    "knn.fit(X_train2, y_train2)\n",
    "score = knn.score(X_val, y_val)\n",
    "knn.compute_metrics(X_val, y_val) # Using our own function to compute the metrics\n"
   ]
  },
  {
   "cell_type": "code",
   "execution_count": 85,
   "metadata": {},
   "outputs": [
    {
     "data": {
      "image/png": "[encoded data removed]",
      "text/plain": [
       "<Figure size 500x400 with 2 Axes>"
      ]
     },
     "metadata": {},
     "output_type": "display_data"
    }
   ],
   "source": [
    "conf_matrix = knn.conf_matrix(X_test, y_test)\n",
    "plt.figure(figsize=(5, 4))\n",
    "sns.heatmap(conf_matrix, annot=True, fmt=\"d\", cmap=\"Oranges\")\n",
    "plt.title(\"Confusion Matrix\")\n",
    "plt.xlabel(\"Predicted\")\n",
    "plt.ylabel(\"Actual\")\n",
    "plt.show()"
   ]
  }
 ],
 "metadata": {
  "kernelspec": {
   "display_name": "base",
   "language": "python",
   "name": "python3"
  },
  "language_info": {
   "codemirror_mode": {
    "name": "ipython",
    "version": 3
   },
   "file_extension": ".py",
   "mimetype": "text/x-python",
   "name": "python",
   "nbconvert_exporter": "python",
   "pygments_lexer": "ipython3",
   "version": "3.10.9"
  }
 },
 "nbformat": 4,
 "nbformat_minor": 2
}
