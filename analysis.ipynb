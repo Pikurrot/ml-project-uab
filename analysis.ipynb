{
 "cells": [
  {
   "cell_type": "markdown",
   "metadata": {},
   "source": [
    "# ML Project: Diamond Quality\n",
    "Eric López & Mustapha El Aichouni\n",
    "## First analysis"
   ]
  },
  {
   "cell_type": "code",
   "execution_count": 1,
   "metadata": {},
   "outputs": [],
   "source": [
    "import pandas as pd\n",
    "from sklearn.preprocessing import LabelEncoder, StandardScaler\n",
    "from sklearn.model_selection import train_test_split\n",
    "from ydata_profiling import ProfileReport\n",
    "import src.utils as utils"
   ]
  },
  {
   "cell_type": "code",
   "execution_count": 2,
   "metadata": {},
   "outputs": [],
   "source": [
    "df = pd.read_csv(\"data/diamonds.csv\")"
   ]
  },
  {
   "cell_type": "code",
   "execution_count": 3,
   "metadata": {},
   "outputs": [
    {
     "data": {
      "text/html": [
       "<div>\n",
       "<style scoped>\n",
       "    .dataframe tbody tr th:only-of-type {\n",
       "        vertical-align: middle;\n",
       "    }\n",
       "\n",
       "    .dataframe tbody tr th {\n",
       "        vertical-align: top;\n",
       "    }\n",
       "\n",
       "    .dataframe thead th {\n",
       "        text-align: right;\n",
       "    }\n",
       "</style>\n",
       "<table border=\"1\" class=\"dataframe\">\n",
       "  <thead>\n",
       "    <tr style=\"text-align: right;\">\n",
       "      <th></th>\n",
       "      <th>Unnamed: 0</th>\n",
       "      <th>carat</th>\n",
       "      <th>cut</th>\n",
       "      <th>color</th>\n",
       "      <th>clarity</th>\n",
       "      <th>depth</th>\n",
       "      <th>table</th>\n",
       "      <th>price</th>\n",
       "      <th>x</th>\n",
       "      <th>y</th>\n",
       "      <th>z</th>\n",
       "    </tr>\n",
       "  </thead>\n",
       "  <tbody>\n",
       "    <tr>\n",
       "      <th>0</th>\n",
       "      <td>1</td>\n",
       "      <td>0.23</td>\n",
       "      <td>Ideal</td>\n",
       "      <td>E</td>\n",
       "      <td>SI2</td>\n",
       "      <td>61.5</td>\n",
       "      <td>55.0</td>\n",
       "      <td>326</td>\n",
       "      <td>3.95</td>\n",
       "      <td>3.98</td>\n",
       "      <td>2.43</td>\n",
       "    </tr>\n",
       "    <tr>\n",
       "      <th>1</th>\n",
       "      <td>2</td>\n",
       "      <td>0.21</td>\n",
       "      <td>Premium</td>\n",
       "      <td>E</td>\n",
       "      <td>SI1</td>\n",
       "      <td>59.8</td>\n",
       "      <td>61.0</td>\n",
       "      <td>326</td>\n",
       "      <td>3.89</td>\n",
       "      <td>3.84</td>\n",
       "      <td>2.31</td>\n",
       "    </tr>\n",
       "    <tr>\n",
       "      <th>2</th>\n",
       "      <td>3</td>\n",
       "      <td>0.23</td>\n",
       "      <td>Good</td>\n",
       "      <td>E</td>\n",
       "      <td>VS1</td>\n",
       "      <td>56.9</td>\n",
       "      <td>65.0</td>\n",
       "      <td>327</td>\n",
       "      <td>4.05</td>\n",
       "      <td>4.07</td>\n",
       "      <td>2.31</td>\n",
       "    </tr>\n",
       "    <tr>\n",
       "      <th>3</th>\n",
       "      <td>4</td>\n",
       "      <td>0.29</td>\n",
       "      <td>Premium</td>\n",
       "      <td>I</td>\n",
       "      <td>VS2</td>\n",
       "      <td>62.4</td>\n",
       "      <td>58.0</td>\n",
       "      <td>334</td>\n",
       "      <td>4.20</td>\n",
       "      <td>4.23</td>\n",
       "      <td>2.63</td>\n",
       "    </tr>\n",
       "    <tr>\n",
       "      <th>4</th>\n",
       "      <td>5</td>\n",
       "      <td>0.31</td>\n",
       "      <td>Good</td>\n",
       "      <td>J</td>\n",
       "      <td>SI2</td>\n",
       "      <td>63.3</td>\n",
       "      <td>58.0</td>\n",
       "      <td>335</td>\n",
       "      <td>4.34</td>\n",
       "      <td>4.35</td>\n",
       "      <td>2.75</td>\n",
       "    </tr>\n",
       "  </tbody>\n",
       "</table>\n",
       "</div>"
      ],
      "text/plain": [
       "   Unnamed: 0  carat      cut color clarity  depth  table  price     x     y  \\\n",
       "0           1   0.23    Ideal     E     SI2   61.5   55.0    326  3.95  3.98   \n",
       "1           2   0.21  Premium     E     SI1   59.8   61.0    326  3.89  3.84   \n",
       "2           3   0.23     Good     E     VS1   56.9   65.0    327  4.05  4.07   \n",
       "3           4   0.29  Premium     I     VS2   62.4   58.0    334  4.20  4.23   \n",
       "4           5   0.31     Good     J     SI2   63.3   58.0    335  4.34  4.35   \n",
       "\n",
       "      z  \n",
       "0  2.43  \n",
       "1  2.31  \n",
       "2  2.31  \n",
       "3  2.63  \n",
       "4  2.75  "
      ]
     },
     "execution_count": 3,
     "metadata": {},
     "output_type": "execute_result"
    }
   ],
   "source": [
    "df.head()"
   ]
  },
  {
   "cell_type": "code",
   "execution_count": 31,
   "metadata": {},
   "outputs": [
    {
     "data": {
      "application/vnd.jupyter.widget-view+json": {
       "model_id": "1b5210e19591492d8cde8b74d9832d3a",
       "version_major": 2,
       "version_minor": 0
      },
      "text/plain": [
       "Summarize dataset:   0%|          | 0/5 [00:00<?, ?it/s]"
      ]
     },
     "metadata": {},
     "output_type": "display_data"
    },
    {
     "data": {
      "application/vnd.jupyter.widget-view+json": {
       "model_id": "75cbb66960bb4f37b80318c6db7159b7",
       "version_major": 2,
       "version_minor": 0
      },
      "text/plain": [
       "Generate report structure:   0%|          | 0/1 [00:00<?, ?it/s]"
      ]
     },
     "metadata": {},
     "output_type": "display_data"
    },
    {
     "data": {
      "application/vnd.jupyter.widget-view+json": {
       "model_id": "48014c995f334adab64c7ef14345c10e",
       "version_major": 2,
       "version_minor": 0
      },
      "text/plain": [
       "Render HTML:   0%|          | 0/1 [00:00<?, ?it/s]"
      ]
     },
     "metadata": {},
     "output_type": "display_data"
    },
    {
     "data": {
      "application/vnd.jupyter.widget-view+json": {
       "model_id": "1caa24e674454c7f919db58255c0b29d",
       "version_major": 2,
       "version_minor": 0
      },
      "text/plain": [
       "Export report to file:   0%|          | 0/1 [00:00<?, ?it/s]"
      ]
     },
     "metadata": {},
     "output_type": "display_data"
    }
   ],
   "source": [
    "# profile_minimal = ProfileReport(df, minimal=True)\n",
    "# profile_minimal.to_file(\"reports/diamonds_minimal_profiling_report.html\")"
   ]
  },
  {
   "cell_type": "markdown",
   "metadata": {},
   "source": [
    "The minimal profiling report allows us to get a first impression of the whole dataset, while still not showing important statistics, as we haven't yet splitted into train and test set, and we are not interested in knowing about the test set.\n",
    "\n",
    "We see that the dataset has no missing values, 3 categorical features and that the \"Unnamed: 0\" column corresponds to ids. We also get an idea of the type of values of each feature, so we can understand their meaning.\n",
    "\n",
    "Now we do some basic preprocessing to handle these few problems we've seen, and separate into train and test set. Then we generate a more elaborated profiling report of the training data."
   ]
  },
  {
   "cell_type": "code",
   "execution_count": 4,
   "metadata": {},
   "outputs": [],
   "source": [
    "def basic_preprocessing(df: pd.DataFrame):\n",
    "\tdf_copy = df.copy()\n",
    "\n",
    "\t# Encode categorical to numerical\n",
    "\tdf_copy = utils.preprocessing_L(df_copy)\n",
    "\n",
    "\t# Split into X and y\n",
    "\ty = df_copy[\"cut\"]\n",
    "\tX = df_copy.drop(columns=[\"cut\", \"Unnamed: 0\"])\n",
    "\n",
    "\t# Split into train and test\n",
    "\tX_train, X_test, y_train, y_test = train_test_split(X, y, test_size=0.2, random_state=42)\n",
    "\n",
    "\treturn X_train, X_test, y_train, y_test"
   ]
  },
  {
   "cell_type": "code",
   "execution_count": 5,
   "metadata": {},
   "outputs": [
    {
     "data": {
      "text/html": [
       "<div>\n",
       "<style scoped>\n",
       "    .dataframe tbody tr th:only-of-type {\n",
       "        vertical-align: middle;\n",
       "    }\n",
       "\n",
       "    .dataframe tbody tr th {\n",
       "        vertical-align: top;\n",
       "    }\n",
       "\n",
       "    .dataframe thead th {\n",
       "        text-align: right;\n",
       "    }\n",
       "</style>\n",
       "<table border=\"1\" class=\"dataframe\">\n",
       "  <thead>\n",
       "    <tr style=\"text-align: right;\">\n",
       "      <th></th>\n",
       "      <th>carat</th>\n",
       "      <th>color</th>\n",
       "      <th>clarity</th>\n",
       "      <th>depth</th>\n",
       "      <th>table</th>\n",
       "      <th>price</th>\n",
       "      <th>x</th>\n",
       "      <th>y</th>\n",
       "      <th>z</th>\n",
       "    </tr>\n",
       "  </thead>\n",
       "  <tbody>\n",
       "    <tr>\n",
       "      <th>26546</th>\n",
       "      <td>2.01</td>\n",
       "      <td>4</td>\n",
       "      <td>1</td>\n",
       "      <td>58.1</td>\n",
       "      <td>64.0</td>\n",
       "      <td>16231</td>\n",
       "      <td>8.23</td>\n",
       "      <td>8.19</td>\n",
       "      <td>4.77</td>\n",
       "    </tr>\n",
       "    <tr>\n",
       "      <th>9159</th>\n",
       "      <td>1.01</td>\n",
       "      <td>5</td>\n",
       "      <td>1</td>\n",
       "      <td>60.0</td>\n",
       "      <td>60.0</td>\n",
       "      <td>4540</td>\n",
       "      <td>6.57</td>\n",
       "      <td>6.49</td>\n",
       "      <td>3.92</td>\n",
       "    </tr>\n",
       "    <tr>\n",
       "      <th>14131</th>\n",
       "      <td>1.10</td>\n",
       "      <td>2</td>\n",
       "      <td>3</td>\n",
       "      <td>62.5</td>\n",
       "      <td>58.0</td>\n",
       "      <td>5729</td>\n",
       "      <td>6.59</td>\n",
       "      <td>6.54</td>\n",
       "      <td>4.10</td>\n",
       "    </tr>\n",
       "    <tr>\n",
       "      <th>15757</th>\n",
       "      <td>1.50</td>\n",
       "      <td>5</td>\n",
       "      <td>1</td>\n",
       "      <td>61.5</td>\n",
       "      <td>65.0</td>\n",
       "      <td>6300</td>\n",
       "      <td>7.21</td>\n",
       "      <td>7.17</td>\n",
       "      <td>4.42</td>\n",
       "    </tr>\n",
       "    <tr>\n",
       "      <th>24632</th>\n",
       "      <td>1.52</td>\n",
       "      <td>3</td>\n",
       "      <td>4</td>\n",
       "      <td>62.1</td>\n",
       "      <td>57.0</td>\n",
       "      <td>12968</td>\n",
       "      <td>7.27</td>\n",
       "      <td>7.32</td>\n",
       "      <td>4.53</td>\n",
       "    </tr>\n",
       "  </tbody>\n",
       "</table>\n",
       "</div>"
      ],
      "text/plain": [
       "       carat  color  clarity  depth  table  price     x     y     z\n",
       "26546   2.01      4        1   58.1   64.0  16231  8.23  8.19  4.77\n",
       "9159    1.01      5        1   60.0   60.0   4540  6.57  6.49  3.92\n",
       "14131   1.10      2        3   62.5   58.0   5729  6.59  6.54  4.10\n",
       "15757   1.50      5        1   61.5   65.0   6300  7.21  7.17  4.42\n",
       "24632   1.52      3        4   62.1   57.0  12968  7.27  7.32  4.53"
      ]
     },
     "execution_count": 5,
     "metadata": {},
     "output_type": "execute_result"
    }
   ],
   "source": [
    "X_train, X_test, y_train, y_test = basic_preprocessing(df)\n",
    "X_train.head()"
   ]
  },
  {
   "cell_type": "code",
   "execution_count": 6,
   "metadata": {},
   "outputs": [
    {
     "data": {
      "application/vnd.jupyter.widget-view+json": {
       "model_id": "2734ca554f524bdc9bf1773ffb480362",
       "version_major": 2,
       "version_minor": 0
      },
      "text/plain": [
       "Summarize dataset:   0%|          | 0/5 [00:00<?, ?it/s]"
      ]
     },
     "metadata": {},
     "output_type": "display_data"
    },
    {
     "data": {
      "application/vnd.jupyter.widget-view+json": {
       "model_id": "e6d347c20d6543a48a12b978ac492971",
       "version_major": 2,
       "version_minor": 0
      },
      "text/plain": [
       "Generate report structure:   0%|          | 0/1 [00:00<?, ?it/s]"
      ]
     },
     "metadata": {},
     "output_type": "display_data"
    },
    {
     "data": {
      "application/vnd.jupyter.widget-view+json": {
       "model_id": "41381e5b3a374a88b2258044fd3efe03",
       "version_major": 2,
       "version_minor": 0
      },
      "text/plain": [
       "Render HTML:   0%|          | 0/1 [00:00<?, ?it/s]"
      ]
     },
     "metadata": {},
     "output_type": "display_data"
    },
    {
     "data": {
      "application/vnd.jupyter.widget-view+json": {
       "model_id": "dbe0847a7e594f4899caa1e255b5268f",
       "version_major": 2,
       "version_minor": 0
      },
      "text/plain": [
       "Export report to file:   0%|          | 0/1 [00:00<?, ?it/s]"
      ]
     },
     "metadata": {},
     "output_type": "display_data"
    }
   ],
   "source": [
    "# Generate the profiling report\n",
    "# profile = ProfileReport(pd.concat([X_train, y_train], axis=1))\n",
    "\n",
    "# Save the report as an HTML file\n",
    "# profile.to_file(\"reports/diamonds_train_profiling_report.html\")"
   ]
  },
  {
   "cell_type": "code",
   "execution_count": 12,
   "metadata": {},
   "outputs": [
    {
     "data": {
      "image/png": "[encoded data removed]",
      "text/plain": [
       "<Figure size 2000x600 with 10 Axes>"
      ]
     },
     "metadata": {},
     "output_type": "display_data"
    }
   ],
   "source": [
    "import matplotlib.pyplot as plt\n",
    "\n",
    "df_train = pd.concat([X_train, y_train], axis=1)\n",
    "features = df_train.columns\n",
    "features_min = df_train.min()\n",
    "features_max = df_train.max()\n",
    "\n",
    "fig, axs = plt.subplots(1, len(features), figsize=(20, 6))\n",
    "\n",
    "for i, feature in enumerate(features):\n",
    "    axs[i].boxplot(df_train[feature])\n",
    "    axs[i].set_ylim(features_min[feature], features_max[feature])\n",
    "    axs[i].set_title(feature)\n",
    "\n",
    "plt.tight_layout()"
   ]
  },
  {
   "cell_type": "code",
   "execution_count": 13,
   "metadata": {},
   "outputs": [],
   "source": [
    "df_train_no_outliers = df_train.copy()\n",
    "\n",
    "for feature in features:\n",
    "\tQ1 = df_train_no_outliers[feature].quantile(0.25)\n",
    "\tQ3 = df_train_no_outliers[feature].quantile(0.75)\n",
    "\tIQR = Q3 - Q1\n",
    "\n",
    "\tlower_bound = Q1 - 1.5 * IQR\n",
    "\tupper_bound = Q3 + 1.5 * IQR\n",
    "\n",
    "\tdf_train_no_outliers = df_train_no_outliers[(df_train_no_outliers[feature] >= lower_bound) &\n",
    "\t\t\t\t\t\t\t\t\t\t\t\t(df_train_no_outliers[feature] <= upper_bound)]"
   ]
  },
  {
   "cell_type": "code",
   "execution_count": 15,
   "metadata": {},
   "outputs": [
    {
     "data": {
      "text/plain": [
       "<Figure size 2000x600 with 0 Axes>"
      ]
     },
     "metadata": {},
     "output_type": "display_data"
    },
    {
     "data": {
      "image/png": "[encoded data removed]",
      "text/plain": [
       "<Figure size 2000x600 with 10 Axes>"
      ]
     },
     "metadata": {},
     "output_type": "display_data"
    }
   ],
   "source": [
    "plt.figure(figsize=(20, 6))  # Adjust the size as needed\n",
    "\n",
    "fig, axs = plt.subplots(1, len(features), figsize=(20, 6))\n",
    "\n",
    "for i, feature in enumerate(features):\n",
    "    axs[i].boxplot(df_train_no_outliers[feature])\n",
    "    axs[i].set_ylim(features_min[feature], features_max[feature])\n",
    "    axs[i].set_title(feature)\n",
    "\n",
    "plt.tight_layout()"
   ]
  },
  {
   "cell_type": "code",
   "execution_count": 16,
   "metadata": {},
   "outputs": [
    {
     "data": {
      "text/plain": [
       "5583"
      ]
     },
     "execution_count": 16,
     "metadata": {},
     "output_type": "execute_result"
    }
   ],
   "source": [
    "len(df_train) - len(df_train_no_outliers)"
   ]
  },
  {
   "cell_type": "markdown",
   "metadata": {},
   "source": [
    "## Ensemble\n",
    "The models that achieved the best performance and we are interested in making an ensemble with them are: Random Forest, AdaBoost, Gradient Boosting, SVM and GMM."
   ]
  },
  {
   "cell_type": "code",
   "execution_count": 1,
   "metadata": {},
   "outputs": [],
   "source": [
    "import pandas as pd\n",
    "import src.utils as utils\n",
    "from sklearn.model_selection import train_test_split\n",
    "from src.randomforest import RandomForest\n",
    "from src.adaboost import AdaBoost\n",
    "from src.gradboost import GradBoost\n",
    "from src.svm_mod import SVM_model\n",
    "from src.gmm import GMM\n",
    "from src.ensemble import Ensemble"
   ]
  },
  {
   "cell_type": "markdown",
   "metadata": {},
   "source": [
    "First, we split our data into train and test. We won't preprocess the test for now, as if it was a real case scenario, the test data doesn't come preprocessed, but raw."
   ]
  },
  {
   "cell_type": "code",
   "execution_count": 2,
   "metadata": {},
   "outputs": [],
   "source": [
    "df = pd.read_csv(\"data/diamonds.csv\")\n",
    "df_train, df_test = train_test_split(df, test_size=0.2, random_state=73)\n",
    "df_train2, df_val = train_test_split(df_train, test_size=0.2, random_state=73)"
   ]
  },
  {
   "cell_type": "markdown",
   "metadata": {},
   "source": [
    "We train a specific selection of our models (the ones that performed better), plus the GMM, that didn't have such good performance but we want to see if its unique perspective of gaussian distributions in the data can be useful in combination with other models."
   ]
  },
  {
   "cell_type": "code",
   "execution_count": 3,
   "metadata": {},
   "outputs": [],
   "source": [
    "rf = RandomForest(n_estimators=100, max_depth=16, bootstrap=True, class_weight=\"balanced\")\n",
    "ab = AdaBoost(n_estimators=100, max_depth=15, learning_rate=1.0, algorithm=\"SAMME\")\n",
    "gb = GradBoost(criterion=\"squared_error\", max_depth=7, n_estimators=200)\n",
    "gmm = GMM(n_components=10, max_iter=200, n_init=5, covariance_type=\"full\", init_params=\"random\")\n",
    "svm = SVM_model(C=15, class_weight = 'balanced', max_iter=30000)"
   ]
  },
  {
   "cell_type": "code",
   "execution_count": 4,
   "metadata": {},
   "outputs": [],
   "source": [
    "X_train_LS, y_train_LS = utils.preprocessing_LS_simple(df_train2)\n",
    "X_train_LOS, y_train_LOS = utils.preprocessing_LOS_simple(df_train2)\n",
    "X_val, y_val = utils.preprocessing_LS_simple(df_val)"
   ]
  },
  {
   "cell_type": "markdown",
   "metadata": {},
   "source": [
    "Now we train each model."
   ]
  },
  {
   "cell_type": "code",
   "execution_count": 5,
   "metadata": {},
   "outputs": [
    {
     "name": "stdout",
     "output_type": "stream",
     "text": [
      "Train accuracy: 0.88, Val accuracy: 0.76\n"
     ]
    }
   ],
   "source": [
    "rf.fit(X_train_LS, y_train_LS)\n",
    "print(f\"Train accuracy: {rf.score(X_train_LS, y_train_LS):.2f}, Val accuracy: {rf.score(X_val, y_val):.2f}\")"
   ]
  },
  {
   "cell_type": "code",
   "execution_count": 6,
   "metadata": {},
   "outputs": [
    {
     "name": "stdout",
     "output_type": "stream",
     "text": [
      "Train accuracy: 1.00, Val accuracy: 0.76\n"
     ]
    }
   ],
   "source": [
    "ab.fit(X_train_LS, y_train_LS)\n",
    "print(f\"Train accuracy: {ab.score(X_train_LS, y_train_LS):.2f}, Val accuracy: {ab.score(X_val, y_val):.2f}\")"
   ]
  },
  {
   "cell_type": "code",
   "execution_count": 7,
   "metadata": {},
   "outputs": [
    {
     "name": "stdout",
     "output_type": "stream",
     "text": [
      "Train accuracy: 0.94, Val accuracy: 0.74\n"
     ]
    }
   ],
   "source": [
    "gb.fit(X_train_LS, y_train_LS)\n",
    "print(f\"Train accuracy: {gb.score(X_train_LS, y_train_LS):.2f}, Val accuracy: {gb.score(X_val, y_val):.2f}\")"
   ]
  },
  {
   "cell_type": "code",
   "execution_count": 8,
   "metadata": {},
   "outputs": [
    {
     "name": "stdout",
     "output_type": "stream",
     "text": [
      "Train accuracy: 0.70, Val accuracy: 0.49\n"
     ]
    }
   ],
   "source": [
    "gmm.fit(X_train_LOS, y_train_LOS)\n",
    "gmm_pred_train = gmm.predict(X_train_LOS)\n",
    "gmm_pred_val = gmm.predict(X_val)\n",
    "print(f\"Train accuracy: {gmm.score(y_train_LOS, gmm_pred_train):.2f}, Val accuracy: {gmm.score(y_val, gmm_pred_val):.2f}\")"
   ]
  },
  {
   "cell_type": "markdown",
   "metadata": {},
   "source": [
    "Note that GMM has a very low accuracy on the validation set, as it contains outliers and the model was trained without. Despite this, we know from its analysis that it should have learned the overall distribution without outliers, so it might still be useful."
   ]
  },
  {
   "cell_type": "code",
   "execution_count": 9,
   "metadata": {},
   "outputs": [
    {
     "name": "stderr",
     "output_type": "stream",
     "text": [
      "c:\\Users\\pikur\\Anaconda3\\lib\\site-packages\\sklearn\\svm\\_base.py:297: ConvergenceWarning: Solver terminated early (max_iter=30000).  Consider pre-processing your data with StandardScaler or MinMaxScaler.\n",
      "  warnings.warn(\n"
     ]
    },
    {
     "name": "stdout",
     "output_type": "stream",
     "text": [
      "Train accuracy: 0.78, Val accuracy: 0.74\n"
     ]
    }
   ],
   "source": [
    "svm.fit(X_train_LS, y_train_LS)\n",
    "print(f\"Train accuracy: {svm.score(X_train_LS, y_train_LS):.2f}, Val accuracy: {svm.score(X_val, y_val):.2f}\")"
   ]
  },
  {
   "cell_type": "markdown",
   "metadata": {},
   "source": [
    "Let's build our ensemble model, but first we try out custom class works well."
   ]
  },
  {
   "cell_type": "code",
   "execution_count": 21,
   "metadata": {},
   "outputs": [
    {
     "data": {
      "text/plain": [
       "(0.7628316533426023, 0.7628316533426023, 0.7628316533426023)"
      ]
     },
     "execution_count": 21,
     "metadata": {},
     "output_type": "execute_result"
    }
   ],
   "source": [
    "model_hard = Ensemble([rf, rf, rf],\n",
    "\t\t\t\t\t  voting=\"hard\")\n",
    "\n",
    "model_soft = Ensemble([rf, rf, rf],\n",
    "\t\t\t\t\t  voting=\"soft\",\n",
    "\t\t\t\t\t  weights=None)\n",
    "\n",
    "a_hard = model_hard.compute_metrics(X_val, y_val)[\"accuracy\"]\n",
    "a_soft = model_soft.compute_metrics(X_val, y_val)[\"accuracy\"]\n",
    "a_rf = rf.compute_metrics(X_val, y_val)[\"accuracy\"]\n",
    "a_hard, a_soft, a_rf"
   ]
  },
  {
   "cell_type": "markdown",
   "metadata": {},
   "source": [
    "It does, so we will now make an analysis on the best combination of models we can assemble and weather to use hard or soft voting and the weights."
   ]
  },
  {
   "cell_type": "code",
   "execution_count": 22,
   "metadata": {},
   "outputs": [],
   "source": [
    "model_hard = Ensemble([rf, ab, gb, gmm, svm],\n",
    "\t\t\t\t voting=\"hard\",\n",
    "\t\t\t\t weights=None)"
   ]
  },
  {
   "cell_type": "code",
   "execution_count": 23,
   "metadata": {},
   "outputs": [
    {
     "data": {
      "text/plain": [
       "{'accuracy': 0.778241223496698,\n",
       " 'precision': 0.7774692180809339,\n",
       " 'recall': 0.7632237538297497,\n",
       " 'f1': 0.7684842225523514}"
      ]
     },
     "execution_count": 23,
     "metadata": {},
     "output_type": "execute_result"
    }
   ],
   "source": [
    "model_hard.compute_metrics(X_val, y_val)"
   ]
  },
  {
   "cell_type": "code",
   "execution_count": 24,
   "metadata": {},
   "outputs": [],
   "source": [
    "model_soft = Ensemble([rf, ab, gb, gmm, svm],\n",
    "\t\t\t\t voting=\"soft\",\n",
    "\t\t\t\t weights=None)"
   ]
  },
  {
   "cell_type": "code",
   "execution_count": 25,
   "metadata": {},
   "outputs": [
    {
     "data": {
      "text/plain": [
       "{'accuracy': 0.7809060363804889,\n",
       " 'precision': 0.7782302866587046,\n",
       " 'recall': 0.7677011060629247,\n",
       " 'f1': 0.7702440810503675}"
      ]
     },
     "execution_count": 25,
     "metadata": {},
     "output_type": "execute_result"
    }
   ],
   "source": [
    "model_soft.compute_metrics(X_val, y_val)"
   ]
  },
  {
   "cell_type": "markdown",
   "metadata": {},
   "source": [
    "At first glance, hard voting seems to perform very similar to soft voting, but for this last one we can still tune the weights and try to improve it. \n",
    "\n",
    "We know the best model we achieved was Random Forest, and the worst GMM. We will balance this in the weights."
   ]
  },
  {
   "cell_type": "code",
   "execution_count": 26,
   "metadata": {},
   "outputs": [
    {
     "data": {
      "text/plain": [
       "{'accuracy': 0.7822963735372495,\n",
       " 'precision': 0.7795449376712487,\n",
       " 'recall': 0.7689108830362813,\n",
       " 'f1': 0.77182097877623}"
      ]
     },
     "execution_count": 26,
     "metadata": {},
     "output_type": "execute_result"
    }
   ],
   "source": [
    "model_soft = Ensemble([rf, ab, gb, gmm, svm],\n",
    "\t\t\t\t voting=\"soft\",\n",
    "\t\t\t\t weights=[0.3, 0.2, 0.2, 0.1, 0.2])\n",
    "model_soft.compute_metrics(X_val, y_val)"
   ]
  },
  {
   "cell_type": "markdown",
   "metadata": {},
   "source": [
    "It seems to improve in accuracy and precision, but decrease in recall. Maybe GMM was having a bad influence. Let's remove it."
   ]
  },
  {
   "cell_type": "code",
   "execution_count": 27,
   "metadata": {},
   "outputs": [
    {
     "data": {
      "text/plain": [
       "{'accuracy': 0.7718688448615456,\n",
       " 'precision': 0.7715245698693056,\n",
       " 'recall': 0.7638057317264579,\n",
       " 'f1': 0.7656110562284331}"
      ]
     },
     "execution_count": 27,
     "metadata": {},
     "output_type": "execute_result"
    }
   ],
   "source": [
    "model_hard = Ensemble([rf, ab, gb, svm],\n",
    "\t\t\t\t voting=\"hard\",\n",
    "\t\t\t\t weights=None)\n",
    "model_hard.compute_metrics(X_val, y_val)"
   ]
  },
  {
   "cell_type": "code",
   "execution_count": 28,
   "metadata": {},
   "outputs": [
    {
     "data": {
      "text/plain": [
       "{'accuracy': 0.7690881705480246,\n",
       " 'precision': 0.765108363061749,\n",
       " 'recall': 0.757100093624031,\n",
       " 'f1': 0.7580371607809739}"
      ]
     },
     "execution_count": 28,
     "metadata": {},
     "output_type": "execute_result"
    }
   ],
   "source": [
    "model_soft = Ensemble([rf, ab, gb, svm],\n",
    "\t\t\t\t voting=\"soft\",\n",
    "\t\t\t\t weights=None)\n",
    "model_soft.compute_metrics(X_val, y_val)"
   ]
  },
  {
   "cell_type": "markdown",
   "metadata": {},
   "source": [
    "Interestingly, both hard and soft voting ensembles decreased their metrics, so GMM has actually a good influence as we predicted at the beggining.  \n",
    "Let's continue tunning the weights for the soft voting."
   ]
  },
  {
   "cell_type": "code",
   "execution_count": 29,
   "metadata": {},
   "outputs": [
    {
     "data": {
      "text/plain": [
       "{'accuracy': 0.7855404935696907,\n",
       " 'precision': 0.784848922633518,\n",
       " 'recall': 0.7716462800385322,\n",
       " 'f1': 0.7761080330099327}"
      ]
     },
     "execution_count": 29,
     "metadata": {},
     "output_type": "execute_result"
    }
   ],
   "source": [
    "model_soft = Ensemble([rf, ab, gb, gmm, svm],\n",
    "\t\t\t\t voting=\"soft\",\n",
    "\t\t\t\t weights=[0.3, 0.3, 0.1, 0.1, 0.2])\n",
    "model_soft.compute_metrics(X_val, y_val)"
   ]
  },
  {
   "cell_type": "code",
   "execution_count": 30,
   "metadata": {},
   "outputs": [
    {
     "data": {
      "text/plain": [
       "{'accuracy': 0.7851929092805006,\n",
       " 'precision': 0.7854640861543261,\n",
       " 'recall': 0.7673999198889506,\n",
       " 'f1': 0.7731529504975783}"
      ]
     },
     "execution_count": 30,
     "metadata": {},
     "output_type": "execute_result"
    }
   ],
   "source": [
    "model_soft = Ensemble([rf, ab, gb, gmm, svm],\n",
    "\t\t\t\t voting=\"soft\",\n",
    "\t\t\t\t weights=[0.4, 0.3, 0.1, 0.1, 0.1])\n",
    "model_soft.compute_metrics(X_val, y_val)"
   ]
  },
  {
   "cell_type": "code",
   "execution_count": 31,
   "metadata": {},
   "outputs": [
    {
     "data": {
      "text/plain": [
       "{'accuracy': 0.786235662148071,\n",
       " 'precision': 0.785591917898857,\n",
       " 'recall': 0.7699235853533363,\n",
       " 'f1': 0.7750805071685475}"
      ]
     },
     "execution_count": 31,
     "metadata": {},
     "output_type": "execute_result"
    }
   ],
   "source": [
    "model_soft = Ensemble([rf, ab, gb, gmm, svm],\n",
    "\t\t\t\t voting=\"soft\",\n",
    "\t\t\t\t weights=[0.3, 0.4, 0.1, 0.1, 0.1])\n",
    "model_soft.compute_metrics(X_val, y_val)"
   ]
  },
  {
   "cell_type": "code",
   "execution_count": 32,
   "metadata": {},
   "outputs": [
    {
     "data": {
      "text/plain": [
       "{'accuracy': 0.7822963735372495,\n",
       " 'precision': 0.778126929602766,\n",
       " 'recall': 0.7670086607538757,\n",
       " 'f1': 0.7701341080004603}"
      ]
     },
     "execution_count": 32,
     "metadata": {},
     "output_type": "execute_result"
    }
   ],
   "source": [
    "model_soft = Ensemble([rf, ab, gb, gmm, svm],\n",
    "\t\t\t\t voting=\"soft\",\n",
    "\t\t\t\t weights=[0.3, 0.3, 0.2, 0.1, 0.1])\n",
    "model_soft.compute_metrics(X_val, y_val)"
   ]
  },
  {
   "cell_type": "code",
   "execution_count": 33,
   "metadata": {},
   "outputs": [
    {
     "data": {
      "text/plain": [
       "{'accuracy': 0.7861198007183409,\n",
       " 'precision': 0.7837657730720438,\n",
       " 'recall': 0.7713566980872996,\n",
       " 'f1': 0.7751514682036997}"
      ]
     },
     "execution_count": 33,
     "metadata": {},
     "output_type": "execute_result"
    }
   ],
   "source": [
    "model_soft = Ensemble([rf, ab, gb, gmm, svm],\n",
    "\t\t\t\t voting=\"soft\",\n",
    "\t\t\t\t weights=[2, 2, 1, 1, 1])\n",
    "model_soft.compute_metrics(X_val, y_val)"
   ]
  },
  {
   "cell_type": "code",
   "execution_count": 34,
   "metadata": {},
   "outputs": [
    {
     "data": {
      "text/plain": [
       "{'accuracy': 0.7744177963156066,\n",
       " 'precision': 0.769146420835347,\n",
       " 'recall': 0.760227430992007,\n",
       " 'f1': 0.761546623743658}"
      ]
     },
     "execution_count": 34,
     "metadata": {},
     "output_type": "execute_result"
    }
   ],
   "source": [
    "model_soft = Ensemble([rf, ab, gb, gmm, svm],\n",
    "\t\t\t\t voting=\"soft\",\n",
    "\t\t\t\t weights=[3, 3, 3, 1, 1])\n",
    "model_soft.compute_metrics(X_val, y_val)"
   ]
  },
  {
   "cell_type": "code",
   "execution_count": 35,
   "metadata": {},
   "outputs": [
    {
     "data": {
      "text/plain": [
       "{'accuracy': 0.7855404935696907,\n",
       " 'precision': 0.7850666865435147,\n",
       " 'recall': 0.7686843342242722,\n",
       " 'f1': 0.7738588644026813}"
      ]
     },
     "execution_count": 35,
     "metadata": {},
     "output_type": "execute_result"
    }
   ],
   "source": [
    "model_soft = Ensemble([rf, ab, gb, gmm, svm],\n",
    "\t\t\t\t voting=\"soft\",\n",
    "\t\t\t\t weights=[0.35, 0.35, 0.1, 0.1, 0.1])\n",
    "model_soft.compute_metrics(X_val, y_val)"
   ]
  },
  {
   "cell_type": "markdown",
   "metadata": {},
   "source": [
    "The weigths that increase the overall metrics are: rf=0.3, ab=0.4, gb=0.1, gmm=0.1, svm=0.1, altough the difference is minimal with other similar combinations. The results are better than with hard voting and, most importantly, better than the best single model, the Random Forest (0.786 vs 0.76)."
   ]
  },
  {
   "cell_type": "code",
   "execution_count": 36,
   "metadata": {},
   "outputs": [
    {
     "data": {
      "text/plain": [
       "{'accuracy': 0.786235662148071,\n",
       " 'precision': 0.785591917898857,\n",
       " 'recall': 0.7699235853533363,\n",
       " 'f1': 0.7750805071685475}"
      ]
     },
     "execution_count": 36,
     "metadata": {},
     "output_type": "execute_result"
    }
   ],
   "source": [
    "model_soft = Ensemble([rf, ab, gb, gmm, svm],\n",
    "\t\t\t\t voting=\"soft\",\n",
    "\t\t\t\t weights=[0.3, 0.4, 0.1, 0.1, 0.1])\n",
    "model_soft.compute_metrics(X_val, y_val)"
   ]
  },
  {
   "cell_type": "markdown",
   "metadata": {},
   "source": [
    "### Testing time\n",
    "Let's evaluate the ensemble model on the test set."
   ]
  },
  {
   "cell_type": "code",
   "execution_count": 37,
   "metadata": {},
   "outputs": [
    {
     "name": "stdout",
     "output_type": "stream",
     "text": [
      "Random Forest trained\n",
      "AdaBoost trained\n",
      "Gradient Boost trained\n",
      "GMM trained\n",
      "SVM trained\n"
     ]
    },
    {
     "name": "stderr",
     "output_type": "stream",
     "text": [
      "c:\\Users\\pikur\\Anaconda3\\lib\\site-packages\\sklearn\\svm\\_base.py:297: ConvergenceWarning: Solver terminated early (max_iter=30000).  Consider pre-processing your data with StandardScaler or MinMaxScaler.\n",
      "  warnings.warn(\n"
     ]
    }
   ],
   "source": [
    "df = pd.read_csv(\"data/diamonds.csv\")\n",
    "df_train, df_test = train_test_split(df, test_size=0.2, random_state=73)\n",
    "\n",
    "X_train_LS, y_train_LS = utils.preprocessing_LS_simple(df_train2)\n",
    "X_train_LOS, y_train_LOS = utils.preprocessing_LOS_simple(df_train2)\n",
    "\n",
    "rf = RandomForest(n_estimators=100, max_depth=19, bootstrap=True, class_weight=\"balanced\")\n",
    "ab = AdaBoost(n_estimators=100, max_depth=15, learning_rate=1.0, algorithm=\"SAMME\")\n",
    "gb = GradBoost(criterion=\"squared_error\", max_depth=7)\n",
    "gmm = GMM(n_components=10, max_iter=200, n_init=5, covariance_type=\"full\", init_params=\"random\")\n",
    "svm = SVM_model(C=15, class_weight = 'balanced', max_iter=30000)\n",
    "\n",
    "rf.fit(X_train_LS, y_train_LS)\n",
    "print(\"Random Forest trained\")\n",
    "ab.fit(X_train_LS, y_train_LS)\n",
    "print(\"AdaBoost trained\")\n",
    "gb.fit(X_train_LS, y_train_LS)\n",
    "print(\"Gradient Boost trained\")\n",
    "gmm.fit(X_train_LOS, y_train_LOS)\n",
    "print(\"GMM trained\")\n",
    "svm.fit(X_train_LS, y_train_LS)\n",
    "print(\"SVM trained\")"
   ]
  },
  {
   "cell_type": "code",
   "execution_count": 68,
   "metadata": {},
   "outputs": [
    {
     "data": {
      "text/plain": [
       "0         Good\n",
       "1        Ideal\n",
       "2    Very Good\n",
       "3        Ideal\n",
       "4      Premium\n",
       "dtype: object"
      ]
     },
     "execution_count": 68,
     "metadata": {},
     "output_type": "execute_result"
    }
   ],
   "source": [
    "X_test, y_test = df_test.drop(columns=[\"cut\"]), df_test[\"cut\"]\n",
    "\n",
    "model_soft = Ensemble([rf, ab, gb, gmm, svm],\n",
    "\t\t\t\t voting=\"soft\",\n",
    "\t\t\t\t weights=[0.3, 0.4, 0.1, 0.1, 0.2])\n",
    "model_soft(X_test[:5])"
   ]
  },
  {
   "cell_type": "code",
   "execution_count": 40,
   "metadata": {},
   "outputs": [
    {
     "data": {
      "text/plain": [
       "{'accuracy': 0.7733592880978866,\n",
       " 'precision': 0.7642314394920249,\n",
       " 'recall': 0.759179604733822,\n",
       " 'f1': 0.7589454254554306}"
      ]
     },
     "execution_count": 40,
     "metadata": {},
     "output_type": "execute_result"
    }
   ],
   "source": [
    "model_soft.compute_metrics(X_test, y_test)"
   ]
  },
  {
   "cell_type": "code",
   "execution_count": 44,
   "metadata": {},
   "outputs": [
    {
     "data": {
      "text/plain": [
       "{'accuracy': 0.7599184278828328,\n",
       " 'precision': 0.7496187348193593,\n",
       " 'recall': 0.7378590393150486,\n",
       " 'f1': 0.7366812272376133}"
      ]
     },
     "execution_count": 44,
     "metadata": {},
     "output_type": "execute_result"
    }
   ],
   "source": [
    "X_test_prep, y_test_prep = utils.preprocessing_LS_simple(df_test)\n",
    "rf.compute_metrics(X_test_prep, y_test_prep)"
   ]
  },
  {
   "cell_type": "markdown",
   "metadata": {},
   "source": [
    "The ensemble model performed better than the best single model on the test set."
   ]
  },
  {
   "cell_type": "code",
   "execution_count": 69,
   "metadata": {},
   "outputs": [
    {
     "data": {
      "image/png": "[encoded data removed]",
      "text/plain": [
       "<Figure size 500x400 with 2 Axes>"
      ]
     },
     "metadata": {},
     "output_type": "display_data"
    }
   ],
   "source": [
    "import seaborn as sns\n",
    "import matplotlib.pyplot as plt\n",
    "\n",
    "class_names = [\"Fair\", \"Good\", \"Very Good\", \"Premium\", \"Ideal\"]\n",
    "conf_mat = model_soft.conf_matrix(X_test, y_test, labels=class_names)\n",
    "plt.figure(figsize=(5, 4))\n",
    "sns.heatmap(conf_mat, annot=True, fmt=\"d\", cmap=\"Blues\", xticklabels=class_names, yticklabels=class_names)\n",
    "plt.title(\"Ensemble model\")\n",
    "plt.xlabel(\"Predicted\")\n",
    "plt.ylabel(\"Actual\")\n",
    "plt.show()"
   ]
  },
  {
   "cell_type": "code",
   "execution_count": 64,
   "metadata": {},
   "outputs": [
    {
     "data": {
      "image/png": "[encoded data removed]",
      "text/plain": [
       "<Figure size 500x400 with 2 Axes>"
      ]
     },
     "metadata": {},
     "output_type": "display_data"
    }
   ],
   "source": [
    "conf_mat = model_soft.conf_matrix(X_test, y_test, labels=class_names, normalize=\"true\")\n",
    "plt.figure(figsize=(5, 4))\n",
    "sns.heatmap(conf_mat, annot=True, fmt=\".2f\", cmap=\"Blues\", xticklabels=class_names, yticklabels=class_names)\n",
    "plt.title(\"Ensemble model\")\n",
    "plt.xlabel(\"Predicted\")\n",
    "plt.ylabel(\"Actual\")\n",
    "plt.show()"
   ]
  },
  {
   "cell_type": "markdown",
   "metadata": {},
   "source": [
    "Like some all of the single models, the ensemble struggles with class \"Very good\" (class 2). It has a good precision with the edge cases \"Fair\" and \"Ideal\"."
   ]
  }
 ],
 "metadata": {
  "kernelspec": {
   "display_name": "base",
   "language": "python",
   "name": "python3"
  },
  "language_info": {
   "codemirror_mode": {
    "name": "ipython",
    "version": 3
   },
   "file_extension": ".py",
   "mimetype": "text/x-python",
   "name": "python",
   "nbconvert_exporter": "python",
   "pygments_lexer": "ipython3",
   "version": "3.9.17"
  }
 },
 "nbformat": 4,
 "nbformat_minor": 2
}
