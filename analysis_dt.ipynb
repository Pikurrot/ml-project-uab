{
 "cells": [
  {
   "cell_type": "markdown",
   "metadata": {},
   "source": [
    "# Decision Tree"
   ]
  },
  {
   "cell_type": "code",
   "execution_count": 2,
   "metadata": {},
   "outputs": [],
   "source": [
    "import pandas as pd\n",
    "import matplotlib.pyplot as plt\n",
    "import numpy as np\n",
    "from sklearn.model_selection import train_test_split\n",
    "from sklearn.tree import plot_tree\n",
    "from src.decisiontree import DecisionTree\n",
    "import src.utils as utils"
   ]
  },
  {
   "cell_type": "code",
   "execution_count": 2,
   "metadata": {},
   "outputs": [
    {
     "data": {
      "text/plain": [
       "((46377, 9), (46377,))"
      ]
     },
     "execution_count": 2,
     "metadata": {},
     "output_type": "execute_result"
    }
   ],
   "source": [
    "df = pd.read_csv(\"data/diamonds.csv\")\n",
    "df_copy = df.copy()\n",
    "X, y, scaler = utils.preprocessing_no_drop(df)\n",
    "X.shape, y.shape"
   ]
  },
  {
   "cell_type": "code",
   "execution_count": 3,
   "metadata": {},
   "outputs": [],
   "source": [
    "X_train, X_test, y_train, y_test = train_test_split(X, y, test_size=0.2, random_state=42)"
   ]
  },
  {
   "cell_type": "code",
   "execution_count": 4,
   "metadata": {},
   "outputs": [
    {
     "data": {
      "text/plain": [
       "[(0.7553167288430043, {'max_depth': 10}),\n",
       " (0.7481201812732935, {'max_depth': 8}),\n",
       " (0.7471228476338909, {'max_depth': 15}),\n",
       " (0.7374464503189209, {'max_depth': 5}),\n",
       " (0.7154793873726888, {'max_depth': 3})]"
      ]
     },
     "execution_count": 4,
     "metadata": {},
     "output_type": "execute_result"
    }
   ],
   "source": [
    "from sklearn.model_selection import GridSearchCV\n",
    "\n",
    "param_grid = {\n",
    "\t'max_depth': [3, 5, 8, 10, 15]\n",
    "}\n",
    "\n",
    "grid_search = GridSearchCV(DecisionTree(random_state=42), param_grid, cv=5, scoring='accuracy', return_train_score=True)\n",
    "grid_search.fit(X_train, y_train)\n",
    "sorted(zip(grid_search.cv_results_['mean_test_score'], grid_search.cv_results_['params']), reverse=True)"
   ]
  },
  {
   "cell_type": "markdown",
   "metadata": {},
   "source": [
    "Seems the optimal max_depth is between 10 and 8"
   ]
  },
  {
   "cell_type": "code",
   "execution_count": 5,
   "metadata": {},
   "outputs": [
    {
     "data": {
      "text/plain": [
       "[(0.7553167288430043, {'max_depth': 10}),\n",
       " (0.7532412970985304, {'max_depth': 11}),\n",
       " (0.7504380771257788, {'max_depth': 9}),\n",
       " (0.7481201812732935, {'max_depth': 8}),\n",
       " (0.7437537606362944, {'max_depth': 7})]"
      ]
     },
     "execution_count": 5,
     "metadata": {},
     "output_type": "execute_result"
    }
   ],
   "source": [
    "param_grid = {\n",
    "\t'max_depth': [7, 8, 9, 10, 11]\n",
    "}\n",
    "\n",
    "grid_search2 = GridSearchCV(DecisionTree(random_state=42), param_grid, cv=5, scoring='accuracy', return_train_score=True)\n",
    "grid_search2.fit(X_train, y_train)\n",
    "sorted(zip(grid_search2.cv_results_['mean_test_score'], grid_search2.cv_results_['params']), reverse=True)"
   ]
  },
  {
   "cell_type": "code",
   "execution_count": 6,
   "metadata": {},
   "outputs": [],
   "source": [
    "model = DecisionTree(random_state=42, max_depth=10)"
   ]
  },
  {
   "cell_type": "code",
   "execution_count": 7,
   "metadata": {},
   "outputs": [
    {
     "name": "stdout",
     "output_type": "stream",
     "text": [
      "Performing cross validation\n"
     ]
    },
    {
     "name": "stderr",
     "output_type": "stream",
     "text": [
      "[Parallel(n_jobs=-1)]: Using backend LokyBackend with 12 concurrent workers.\n"
     ]
    },
    {
     "name": "stdout",
     "output_type": "stream",
     "text": [
      "Cross validation (accuracy) scores:\n",
      "\tmean: 0.753375555855006 std: 0.002923109416619036\n"
     ]
    },
    {
     "name": "stderr",
     "output_type": "stream",
     "text": [
      "[Parallel(n_jobs=-1)]: Done   2 out of   5 | elapsed:    2.5s remaining:    3.7s\n",
      "[Parallel(n_jobs=-1)]: Done   3 out of   5 | elapsed:    2.5s remaining:    1.6s\n",
      "[Parallel(n_jobs=-1)]: Done   5 out of   5 | elapsed:    2.5s finished\n"
     ]
    }
   ],
   "source": [
    "model.cross_validation(X_train, y_train, n_splits=5, val_size=0.2)"
   ]
  },
  {
   "cell_type": "code",
   "execution_count": 8,
   "metadata": {},
   "outputs": [
    {
     "data": {
      "text/html": [
       "<style>#sk-container-id-1 {color: black;}#sk-container-id-1 pre{padding: 0;}#sk-container-id-1 div.sk-toggleable {background-color: white;}#sk-container-id-1 label.sk-toggleable__label {cursor: pointer;display: block;width: 100%;margin-bottom: 0;padding: 0.3em;box-sizing: border-box;text-align: center;}#sk-container-id-1 label.sk-toggleable__label-arrow:before {content: \"▸\";float: left;margin-right: 0.25em;color: #696969;}#sk-container-id-1 label.sk-toggleable__label-arrow:hover:before {color: black;}#sk-container-id-1 div.sk-estimator:hover label.sk-toggleable__label-arrow:before {color: black;}#sk-container-id-1 div.sk-toggleable__content {max-height: 0;max-width: 0;overflow: hidden;text-align: left;background-color: #f0f8ff;}#sk-container-id-1 div.sk-toggleable__content pre {margin: 0.2em;color: black;border-radius: 0.25em;background-color: #f0f8ff;}#sk-container-id-1 input.sk-toggleable__control:checked~div.sk-toggleable__content {max-height: 200px;max-width: 100%;overflow: auto;}#sk-container-id-1 input.sk-toggleable__control:checked~label.sk-toggleable__label-arrow:before {content: \"▾\";}#sk-container-id-1 div.sk-estimator input.sk-toggleable__control:checked~label.sk-toggleable__label {background-color: #d4ebff;}#sk-container-id-1 div.sk-label input.sk-toggleable__control:checked~label.sk-toggleable__label {background-color: #d4ebff;}#sk-container-id-1 input.sk-hidden--visually {border: 0;clip: rect(1px 1px 1px 1px);clip: rect(1px, 1px, 1px, 1px);height: 1px;margin: -1px;overflow: hidden;padding: 0;position: absolute;width: 1px;}#sk-container-id-1 div.sk-estimator {font-family: monospace;background-color: #f0f8ff;border: 1px dotted black;border-radius: 0.25em;box-sizing: border-box;margin-bottom: 0.5em;}#sk-container-id-1 div.sk-estimator:hover {background-color: #d4ebff;}#sk-container-id-1 div.sk-parallel-item::after {content: \"\";width: 100%;border-bottom: 1px solid gray;flex-grow: 1;}#sk-container-id-1 div.sk-label:hover label.sk-toggleable__label {background-color: #d4ebff;}#sk-container-id-1 div.sk-serial::before {content: \"\";position: absolute;border-left: 1px solid gray;box-sizing: border-box;top: 0;bottom: 0;left: 50%;z-index: 0;}#sk-container-id-1 div.sk-serial {display: flex;flex-direction: column;align-items: center;background-color: white;padding-right: 0.2em;padding-left: 0.2em;position: relative;}#sk-container-id-1 div.sk-item {position: relative;z-index: 1;}#sk-container-id-1 div.sk-parallel {display: flex;align-items: stretch;justify-content: center;background-color: white;position: relative;}#sk-container-id-1 div.sk-item::before, #sk-container-id-1 div.sk-parallel-item::before {content: \"\";position: absolute;border-left: 1px solid gray;box-sizing: border-box;top: 0;bottom: 0;left: 50%;z-index: -1;}#sk-container-id-1 div.sk-parallel-item {display: flex;flex-direction: column;z-index: 1;position: relative;background-color: white;}#sk-container-id-1 div.sk-parallel-item:first-child::after {align-self: flex-end;width: 50%;}#sk-container-id-1 div.sk-parallel-item:last-child::after {align-self: flex-start;width: 50%;}#sk-container-id-1 div.sk-parallel-item:only-child::after {width: 0;}#sk-container-id-1 div.sk-dashed-wrapped {border: 1px dashed gray;margin: 0 0.4em 0.5em 0.4em;box-sizing: border-box;padding-bottom: 0.4em;background-color: white;}#sk-container-id-1 div.sk-label label {font-family: monospace;font-weight: bold;display: inline-block;line-height: 1.2em;}#sk-container-id-1 div.sk-label-container {text-align: center;}#sk-container-id-1 div.sk-container {/* jupyter's `normalize.less` sets `[hidden] { display: none; }` but bootstrap.min.css set `[hidden] { display: none !important; }` so we also need the `!important` here to be able to override the default hidden behavior on the sphinx rendered scikit-learn.org. See: https://github.com/scikit-learn/scikit-learn/issues/21755 */display: inline-block !important;position: relative;}#sk-container-id-1 div.sk-text-repr-fallback {display: none;}</style><div id=\"sk-container-id-1\" class=\"sk-top-container\"><div class=\"sk-text-repr-fallback\"><pre>DecisionTree(max_depth=10)</pre><b>In a Jupyter environment, please rerun this cell to show the HTML representation or trust the notebook. <br />On GitHub, the HTML representation is unable to render, please try loading this page with nbviewer.org.</b></div><div class=\"sk-container\" hidden><div class=\"sk-item\"><div class=\"sk-estimator sk-toggleable\"><input class=\"sk-toggleable__control sk-hidden--visually\" id=\"sk-estimator-id-1\" type=\"checkbox\" checked><label for=\"sk-estimator-id-1\" class=\"sk-toggleable__label sk-toggleable__label-arrow\">DecisionTree</label><div class=\"sk-toggleable__content\"><pre>DecisionTree(max_depth=10)</pre></div></div></div></div></div>"
      ],
      "text/plain": [
       "DecisionTree(max_depth=10)"
      ]
     },
     "execution_count": 8,
     "metadata": {},
     "output_type": "execute_result"
    }
   ],
   "source": [
    "model.fit(X_train, y_train)"
   ]
  },
  {
   "cell_type": "code",
   "execution_count": 9,
   "metadata": {},
   "outputs": [],
   "source": [
    "# DEPRECATED, this was for 6 features and depth = 6\n",
    "# plt.figure(figsize=(170, 20))\n",
    "# class_names = df_copy[\"cut\"].unique()\n",
    "# plot_tree(model, feature_names=X_train.columns, class_names=class_names, filled=True, fontsize=10)\n",
    "# plt.show()"
   ]
  },
  {
   "cell_type": "code",
   "execution_count": 10,
   "metadata": {},
   "outputs": [
    {
     "data": {
      "image/png": "[encoded data removed]",
      "text/plain": [
       "<Figure size 640x480 with 1 Axes>"
      ]
     },
     "metadata": {},
     "output_type": "display_data"
    }
   ],
   "source": [
    "model.importances(features=X_train.columns, show=True)"
   ]
  },
  {
   "cell_type": "markdown",
   "metadata": {},
   "source": [
    "Now let's remove some not important features and repeat the process."
   ]
  },
  {
   "cell_type": "code",
   "execution_count": 11,
   "metadata": {},
   "outputs": [
    {
     "data": {
      "text/html": [
       "<div>\n",
       "<style scoped>\n",
       "    .dataframe tbody tr th:only-of-type {\n",
       "        vertical-align: middle;\n",
       "    }\n",
       "\n",
       "    .dataframe tbody tr th {\n",
       "        vertical-align: top;\n",
       "    }\n",
       "\n",
       "    .dataframe thead th {\n",
       "        text-align: right;\n",
       "    }\n",
       "</style>\n",
       "<table border=\"1\" class=\"dataframe\">\n",
       "  <thead>\n",
       "    <tr style=\"text-align: right;\">\n",
       "      <th></th>\n",
       "      <th>color</th>\n",
       "      <th>clarity</th>\n",
       "      <th>depth</th>\n",
       "      <th>table</th>\n",
       "      <th>price</th>\n",
       "      <th>x</th>\n",
       "      <th>y</th>\n",
       "      <th>z</th>\n",
       "    </tr>\n",
       "  </thead>\n",
       "  <tbody>\n",
       "    <tr>\n",
       "      <th>0</th>\n",
       "      <td>-0.937163</td>\n",
       "      <td>-0.484264</td>\n",
       "      <td>-0.174092</td>\n",
       "      <td>-1.099672</td>\n",
       "      <td>-0.904095</td>\n",
       "      <td>-1.587837</td>\n",
       "      <td>-1.536196</td>\n",
       "      <td>-1.571129</td>\n",
       "    </tr>\n",
       "    <tr>\n",
       "      <th>1</th>\n",
       "      <td>-0.937163</td>\n",
       "      <td>-1.064117</td>\n",
       "      <td>-1.360738</td>\n",
       "      <td>1.585529</td>\n",
       "      <td>-0.904095</td>\n",
       "      <td>-1.641325</td>\n",
       "      <td>-1.658774</td>\n",
       "      <td>-1.741175</td>\n",
       "    </tr>\n",
       "    <tr>\n",
       "      <th>3</th>\n",
       "      <td>1.414272</td>\n",
       "      <td>0.675442</td>\n",
       "      <td>0.454133</td>\n",
       "      <td>0.242928</td>\n",
       "      <td>-0.902090</td>\n",
       "      <td>-1.364971</td>\n",
       "      <td>-1.317305</td>\n",
       "      <td>-1.287720</td>\n",
       "    </tr>\n",
       "    <tr>\n",
       "      <th>4</th>\n",
       "      <td>2.002131</td>\n",
       "      <td>-0.484264</td>\n",
       "      <td>1.082358</td>\n",
       "      <td>0.242928</td>\n",
       "      <td>-0.901839</td>\n",
       "      <td>-1.240167</td>\n",
       "      <td>-1.212238</td>\n",
       "      <td>-1.117674</td>\n",
       "    </tr>\n",
       "    <tr>\n",
       "      <th>5</th>\n",
       "      <td>2.002131</td>\n",
       "      <td>1.835148</td>\n",
       "      <td>0.733344</td>\n",
       "      <td>-0.204605</td>\n",
       "      <td>-0.901589</td>\n",
       "      <td>-1.596752</td>\n",
       "      <td>-1.553707</td>\n",
       "      <td>-1.500277</td>\n",
       "    </tr>\n",
       "  </tbody>\n",
       "</table>\n",
       "</div>"
      ],
      "text/plain": [
       "      color   clarity     depth     table     price         x         y  \\\n",
       "0 -0.937163 -0.484264 -0.174092 -1.099672 -0.904095 -1.587837 -1.536196   \n",
       "1 -0.937163 -1.064117 -1.360738  1.585529 -0.904095 -1.641325 -1.658774   \n",
       "3  1.414272  0.675442  0.454133  0.242928 -0.902090 -1.364971 -1.317305   \n",
       "4  2.002131 -0.484264  1.082358  0.242928 -0.901839 -1.240167 -1.212238   \n",
       "5  2.002131  1.835148  0.733344 -0.204605 -0.901589 -1.596752 -1.553707   \n",
       "\n",
       "          z  \n",
       "0 -1.571129  \n",
       "1 -1.741175  \n",
       "3 -1.287720  \n",
       "4 -1.117674  \n",
       "5 -1.500277  "
      ]
     },
     "execution_count": 11,
     "metadata": {},
     "output_type": "execute_result"
    }
   ],
   "source": [
    "from sklearn.preprocessing import LabelEncoder, StandardScaler\n",
    "\n",
    "def preprocessing_temp(df: pd.DataFrame):\n",
    "\t# Encode categorical to numerical\n",
    "\tle_cut = LabelEncoder()\n",
    "\tle_color = LabelEncoder()\n",
    "\tle_clarity = LabelEncoder()\n",
    "\tdf[\"cut\"] = le_cut.fit_transform(df[\"cut\"])\n",
    "\tdf[\"color\"] = le_color.fit_transform(df[\"color\"])\n",
    "\tdf[\"clarity\"] = le_clarity.fit_transform(df[\"clarity\"])\n",
    "\n",
    "\t# Drop unnecesary columns\n",
    "\tdf = df.drop(columns=[\"Unnamed: 0\", \"carat\"])\n",
    "\n",
    "\t# Separate X and y\n",
    "\ty_scaled = df[\"cut\"]\n",
    "\tX_scaled = df.drop(columns=[\"cut\"])\n",
    "\n",
    "\t# Standarize\n",
    "\tfeatures = [\"color\", \"clarity\", \"depth\", \"table\", \"price\", \"x\", \"y\", \"z\"]\n",
    "\tscaler = StandardScaler()\n",
    "\tX_scaled = pd.DataFrame(scaler.fit_transform(\n",
    "\t\tX_scaled.to_numpy()), columns=features)\n",
    "\n",
    "\t# Remove outliers\n",
    "\tfor feature in features:\n",
    "\t\tQ1 = X_scaled[feature].quantile(0.25)\n",
    "\t\tQ3 = X_scaled[feature].quantile(0.75)\n",
    "\t\tIQR = Q3 - Q1\n",
    "\n",
    "\t\tlower_bound = Q1 - 1.5 * IQR\n",
    "\t\tupper_bound = Q3 + 1.5 * IQR\n",
    "\n",
    "\t\tcondition = (X_scaled[feature] >= lower_bound) & (X_scaled[feature] <= upper_bound)\n",
    "\t\tX_scaled = X_scaled[condition]\n",
    "\t\ty_scaled = y_scaled[condition]\n",
    "\n",
    "\treturn X_scaled, y_scaled, scaler\n",
    "\n",
    "df = pd.read_csv(\"data/diamonds.csv\")\n",
    "df_copy = df.copy()\n",
    "X, y, scaler = preprocessing_temp(df)\n",
    "X.head()"
   ]
  },
  {
   "cell_type": "code",
   "execution_count": 12,
   "metadata": {},
   "outputs": [
    {
     "data": {
      "text/plain": [
       "[(0.7505243838489774, {'max_depth': 10}),\n",
       " (0.7449659150498165, {'max_depth': 8}),\n",
       " (0.7407184058730991, {'max_depth': 15}),\n",
       " (0.7334294703723125, {'max_depth': 5}),\n",
       " (0.7087572102779234, {'max_depth': 3})]"
      ]
     },
     "execution_count": 12,
     "metadata": {},
     "output_type": "execute_result"
    }
   ],
   "source": [
    "from sklearn.model_selection import GridSearchCV\n",
    "X_train, X_test, y_train, y_test = train_test_split(X, y, test_size=0.2, random_state=42)\n",
    "\n",
    "param_grid = {\n",
    "\t'max_depth': [3, 5, 8, 10, 15]\n",
    "}\n",
    "\n",
    "grid_search = GridSearchCV(DecisionTree(random_state=42), param_grid, cv=5, scoring='accuracy', return_train_score=True)\n",
    "grid_search.fit(X_train, y_train)\n",
    "sorted(zip(grid_search.cv_results_['mean_test_score'], grid_search.cv_results_['params']), reverse=True)"
   ]
  },
  {
   "cell_type": "code",
   "execution_count": 13,
   "metadata": {},
   "outputs": [
    {
     "data": {
      "text/plain": [
       "[(0.7505243838489774, {'max_depth': 10}),\n",
       " (0.7501048767697954, {'max_depth': 11}),\n",
       " (0.7459360251704248, {'max_depth': 9}),\n",
       " (0.7449659150498165, {'max_depth': 8}),\n",
       " (0.7407184058730991, {'max_depth': 7})]"
      ]
     },
     "execution_count": 13,
     "metadata": {},
     "output_type": "execute_result"
    }
   ],
   "source": [
    "param_grid = {\n",
    "\t'max_depth': [7, 8, 9, 10, 11]\n",
    "}\n",
    "\n",
    "grid_search2 = GridSearchCV(DecisionTree(random_state=42), param_grid, cv=5, scoring='accuracy', return_train_score=True)\n",
    "grid_search2.fit(X_train, y_train)\n",
    "sorted(zip(grid_search2.cv_results_['mean_test_score'], grid_search2.cv_results_['params']), reverse=True)"
   ]
  },
  {
   "cell_type": "code",
   "execution_count": 14,
   "metadata": {},
   "outputs": [
    {
     "name": "stdout",
     "output_type": "stream",
     "text": [
      "Performing cross validation\n"
     ]
    },
    {
     "name": "stderr",
     "output_type": "stream",
     "text": [
      "[Parallel(n_jobs=-1)]: Using backend LokyBackend with 12 concurrent workers.\n"
     ]
    },
    {
     "name": "stdout",
     "output_type": "stream",
     "text": [
      "Cross validation (accuracy) scores:\n",
      "\tmean: 0.7511798636601993 std: 0.002712134355738985\n"
     ]
    },
    {
     "name": "stderr",
     "output_type": "stream",
     "text": [
      "[Parallel(n_jobs=-1)]: Done   2 out of   5 | elapsed:    1.8s remaining:    2.8s\n",
      "[Parallel(n_jobs=-1)]: Done   3 out of   5 | elapsed:    1.8s remaining:    1.2s\n",
      "[Parallel(n_jobs=-1)]: Done   5 out of   5 | elapsed:    1.8s finished\n"
     ]
    }
   ],
   "source": [
    "model = DecisionTree(random_state=42, max_depth=10)\n",
    "model.cross_validation(X_train, y_train, n_splits=5, val_size=0.2)"
   ]
  },
  {
   "cell_type": "code",
   "execution_count": 15,
   "metadata": {},
   "outputs": [
    {
     "data": {
      "image/png": "[encoded data removed]",
      "text/plain": [
       "<Figure size 640x480 with 1 Axes>"
      ]
     },
     "metadata": {},
     "output_type": "display_data"
    }
   ],
   "source": [
    "model.fit(X_train, y_train)\n",
    "model.importances(features=X_train.columns, show=True)"
   ]
  },
  {
   "cell_type": "markdown",
   "metadata": {},
   "source": [
    "We observe that without `carat`, the model has less accuracy (mean: 0.753 -> 0.751) but less variance (std: 0.0029 -> 0.0027). But the change is minimal.\n",
    "\n",
    "Now let's try combining `x`, `y` and `z` into one single feature."
   ]
  },
  {
   "cell_type": "code",
   "execution_count": 16,
   "metadata": {},
   "outputs": [
    {
     "data": {
      "text/html": [
       "<div>\n",
       "<style scoped>\n",
       "    .dataframe tbody tr th:only-of-type {\n",
       "        vertical-align: middle;\n",
       "    }\n",
       "\n",
       "    .dataframe tbody tr th {\n",
       "        vertical-align: top;\n",
       "    }\n",
       "\n",
       "    .dataframe thead th {\n",
       "        text-align: right;\n",
       "    }\n",
       "</style>\n",
       "<table border=\"1\" class=\"dataframe\">\n",
       "  <thead>\n",
       "    <tr style=\"text-align: right;\">\n",
       "      <th></th>\n",
       "      <th>carat</th>\n",
       "      <th>color</th>\n",
       "      <th>clarity</th>\n",
       "      <th>depth</th>\n",
       "      <th>table</th>\n",
       "      <th>price</th>\n",
       "      <th>volume</th>\n",
       "    </tr>\n",
       "  </thead>\n",
       "  <tbody>\n",
       "    <tr>\n",
       "      <th>0</th>\n",
       "      <td>-1.198168</td>\n",
       "      <td>-0.937163</td>\n",
       "      <td>-0.484264</td>\n",
       "      <td>-0.174092</td>\n",
       "      <td>-1.099672</td>\n",
       "      <td>-0.904095</td>\n",
       "      <td>-1.171294</td>\n",
       "    </tr>\n",
       "    <tr>\n",
       "      <th>1</th>\n",
       "      <td>-1.240361</td>\n",
       "      <td>-0.937163</td>\n",
       "      <td>-1.064117</td>\n",
       "      <td>-1.360738</td>\n",
       "      <td>1.585529</td>\n",
       "      <td>-0.904095</td>\n",
       "      <td>-1.218533</td>\n",
       "    </tr>\n",
       "    <tr>\n",
       "      <th>3</th>\n",
       "      <td>-1.071587</td>\n",
       "      <td>1.414272</td>\n",
       "      <td>0.675442</td>\n",
       "      <td>0.454133</td>\n",
       "      <td>0.242928</td>\n",
       "      <td>-0.902090</td>\n",
       "      <td>-1.062372</td>\n",
       "    </tr>\n",
       "    <tr>\n",
       "      <th>4</th>\n",
       "      <td>-1.029394</td>\n",
       "      <td>2.002131</td>\n",
       "      <td>-0.484264</td>\n",
       "      <td>1.082358</td>\n",
       "      <td>0.242928</td>\n",
       "      <td>-0.901839</td>\n",
       "      <td>-0.996008</td>\n",
       "    </tr>\n",
       "    <tr>\n",
       "      <th>5</th>\n",
       "      <td>-1.177071</td>\n",
       "      <td>2.002131</td>\n",
       "      <td>1.835148</td>\n",
       "      <td>0.733344</td>\n",
       "      <td>-0.204605</td>\n",
       "      <td>-0.901589</td>\n",
       "      <td>-1.165007</td>\n",
       "    </tr>\n",
       "  </tbody>\n",
       "</table>\n",
       "</div>"
      ],
      "text/plain": [
       "      carat     color   clarity     depth     table     price    volume\n",
       "0 -1.198168 -0.937163 -0.484264 -0.174092 -1.099672 -0.904095 -1.171294\n",
       "1 -1.240361 -0.937163 -1.064117 -1.360738  1.585529 -0.904095 -1.218533\n",
       "3 -1.071587  1.414272  0.675442  0.454133  0.242928 -0.902090 -1.062372\n",
       "4 -1.029394  2.002131 -0.484264  1.082358  0.242928 -0.901839 -0.996008\n",
       "5 -1.177071  2.002131  1.835148  0.733344 -0.204605 -0.901589 -1.165007"
      ]
     },
     "execution_count": 16,
     "metadata": {},
     "output_type": "execute_result"
    }
   ],
   "source": [
    "from sklearn.preprocessing import LabelEncoder, StandardScaler\n",
    "\n",
    "def preprocessing_temp(df: pd.DataFrame):\n",
    "\t# Encode categorical to numerical\n",
    "\tle_cut = LabelEncoder()\n",
    "\tle_color = LabelEncoder()\n",
    "\tle_clarity = LabelEncoder()\n",
    "\tdf[\"cut\"] = le_cut.fit_transform(df[\"cut\"])\n",
    "\tdf[\"color\"] = le_color.fit_transform(df[\"color\"])\n",
    "\tdf[\"clarity\"] = le_clarity.fit_transform(df[\"clarity\"])\n",
    "\n",
    "\t# Drop unnecesary columns\n",
    "\tdf = df.drop(columns=[\"Unnamed: 0\"])\n",
    "\n",
    "\t# Define combination of x, y, z\n",
    "\tdf[\"volume\"] = df[\"x\"] * df[\"y\"] * df[\"z\"]\n",
    "\tdf = df.drop(columns=[\"x\", \"y\", \"z\"])\n",
    "\n",
    "\t# Separate X and y\n",
    "\ty_scaled = df[\"cut\"]\n",
    "\tX_scaled = df.drop(columns=[\"cut\"])\n",
    "\n",
    "\t# Standarize\n",
    "\tfeatures = [\"carat\", \"color\", \"clarity\", \"depth\", \"table\", \"price\", \"volume\"]\n",
    "\tscaler = StandardScaler()\n",
    "\tX_scaled = pd.DataFrame(scaler.fit_transform(\n",
    "\t\tX_scaled.to_numpy()), columns=features)\n",
    "\n",
    "\t# Remove outliers\n",
    "\tfor feature in features:\n",
    "\t\tQ1 = X_scaled[feature].quantile(0.25)\n",
    "\t\tQ3 = X_scaled[feature].quantile(0.75)\n",
    "\t\tIQR = Q3 - Q1\n",
    "\n",
    "\t\tlower_bound = Q1 - 1.5 * IQR\n",
    "\t\tupper_bound = Q3 + 1.5 * IQR\n",
    "\n",
    "\t\tcondition = (X_scaled[feature] >= lower_bound) & (X_scaled[feature] <= upper_bound)\n",
    "\t\tX_scaled = X_scaled[condition]\n",
    "\t\ty_scaled = y_scaled[condition]\n",
    "\n",
    "\treturn X_scaled, y_scaled, scaler\n",
    "\n",
    "df = pd.read_csv(\"data/diamonds.csv\")\n",
    "df_copy = df.copy()\n",
    "X, y, scaler = preprocessing_temp(df)\n",
    "X.head()"
   ]
  },
  {
   "cell_type": "code",
   "execution_count": 17,
   "metadata": {},
   "outputs": [
    {
     "data": {
      "text/plain": [
       "[(0.73735717537364, {'max_depth': 8}),\n",
       " (0.7348231956341424, {'max_depth': 5}),\n",
       " (0.734257063436961, {'max_depth': 10}),\n",
       " (0.7134731542709783, {'max_depth': 3}),\n",
       " (0.7083782478803421, {'max_depth': 15})]"
      ]
     },
     "execution_count": 17,
     "metadata": {},
     "output_type": "execute_result"
    }
   ],
   "source": [
    "from sklearn.model_selection import GridSearchCV\n",
    "X_train, X_test, y_train, y_test = train_test_split(X, y, test_size=0.2, random_state=42)\n",
    "\n",
    "param_grid = {\n",
    "\t'max_depth': [3, 5, 8, 10, 15]\n",
    "}\n",
    "\n",
    "grid_search = GridSearchCV(DecisionTree(random_state=42), param_grid, cv=5, scoring='accuracy', return_train_score=True)\n",
    "grid_search.fit(X_train, y_train)\n",
    "sorted(zip(grid_search.cv_results_['mean_test_score'], grid_search.cv_results_['params']), reverse=True)"
   ]
  },
  {
   "cell_type": "code",
   "execution_count": 18,
   "metadata": {},
   "outputs": [
    {
     "data": {
      "text/plain": [
       "[(0.737572925056922, {'max_depth': 7}),\n",
       " (0.73735717537364, {'max_depth': 8}),\n",
       " (0.7364675930416876, {'max_depth': 9}),\n",
       " (0.7364406751950717, {'max_depth': 6}),\n",
       " (0.7348231956341424, {'max_depth': 5}),\n",
       " (0.7288928332550395, {'max_depth': 4})]"
      ]
     },
     "execution_count": 18,
     "metadata": {},
     "output_type": "execute_result"
    }
   ],
   "source": [
    "param_grid = {\n",
    "\t'max_depth': [4, 5, 6, 7, 8, 9]\n",
    "}\n",
    "\n",
    "grid_search2 = GridSearchCV(DecisionTree(random_state=42), param_grid, cv=5, scoring='accuracy', return_train_score=True)\n",
    "grid_search2.fit(X_train, y_train)\n",
    "sorted(zip(grid_search2.cv_results_['mean_test_score'], grid_search2.cv_results_['params']), reverse=True)"
   ]
  },
  {
   "cell_type": "code",
   "execution_count": 19,
   "metadata": {},
   "outputs": [
    {
     "name": "stdout",
     "output_type": "stream",
     "text": [
      "Performing cross validation\n"
     ]
    },
    {
     "name": "stderr",
     "output_type": "stream",
     "text": [
      "[Parallel(n_jobs=-1)]: Using backend LokyBackend with 12 concurrent workers.\n"
     ]
    },
    {
     "name": "stdout",
     "output_type": "stream",
     "text": [
      "Cross validation (accuracy) scores:\n",
      "\tmean: 0.7380862533692724 std: 0.0019854821413156877\n"
     ]
    },
    {
     "name": "stderr",
     "output_type": "stream",
     "text": [
      "[Parallel(n_jobs=-1)]: Done   2 out of   5 | elapsed:    3.5s remaining:    5.3s\n",
      "[Parallel(n_jobs=-1)]: Done   3 out of   5 | elapsed:    3.5s remaining:    2.3s\n",
      "[Parallel(n_jobs=-1)]: Done   5 out of   5 | elapsed:    3.5s finished\n"
     ]
    }
   ],
   "source": [
    "model = DecisionTree(random_state=42, max_depth=7)\n",
    "model.cross_validation(X_train, y_train, n_splits=5, val_size=0.2)"
   ]
  },
  {
   "cell_type": "code",
   "execution_count": 20,
   "metadata": {},
   "outputs": [
    {
     "data": {
      "image/png": "[encoded data removed]",
      "text/plain": [
       "<Figure size 640x480 with 1 Axes>"
      ]
     },
     "metadata": {},
     "output_type": "display_data"
    }
   ],
   "source": [
    "model.fit(X_train, y_train)\n",
    "model.importances(features=X_train.columns, show=True)"
   ]
  },
  {
   "cell_type": "markdown",
   "metadata": {},
   "source": [
    "The accuracy has decreased a bit more (mean: 0.753 -> 0.738). Also, we observe that, after this combination of features, `carat` gains more much importance, which make us think that maybe we should keep it, as its importance agains other features is not clear at all.\n",
    "\n",
    "Let's make one last attempt, this time we will use one hot encoding for the categorical features (except the `cut`, which makes more sense to encode it to a range [0,4])"
   ]
  },
  {
   "cell_type": "code",
   "execution_count": 11,
   "metadata": {},
   "outputs": [
    {
     "name": "stdout",
     "output_type": "stream",
     "text": [
      "19\n"
     ]
    },
    {
     "data": {
      "text/html": [
       "<div>\n",
       "<style scoped>\n",
       "    .dataframe tbody tr th:only-of-type {\n",
       "        vertical-align: middle;\n",
       "    }\n",
       "\n",
       "    .dataframe tbody tr th {\n",
       "        vertical-align: top;\n",
       "    }\n",
       "\n",
       "    .dataframe thead th {\n",
       "        text-align: right;\n",
       "    }\n",
       "</style>\n",
       "<table border=\"1\" class=\"dataframe\">\n",
       "  <thead>\n",
       "    <tr style=\"text-align: right;\">\n",
       "      <th></th>\n",
       "      <th>carat</th>\n",
       "      <th>depth</th>\n",
       "      <th>table</th>\n",
       "      <th>price</th>\n",
       "      <th>color_D</th>\n",
       "      <th>color_E</th>\n",
       "      <th>color_F</th>\n",
       "      <th>color_G</th>\n",
       "      <th>color_H</th>\n",
       "      <th>color_I</th>\n",
       "      <th>color_J</th>\n",
       "      <th>clarity_I1</th>\n",
       "      <th>clarity_IF</th>\n",
       "      <th>clarity_SI1</th>\n",
       "      <th>clarity_SI2</th>\n",
       "      <th>clarity_VS1</th>\n",
       "      <th>clarity_VS2</th>\n",
       "      <th>clarity_VVS1</th>\n",
       "      <th>clarity_VVS2</th>\n",
       "    </tr>\n",
       "  </thead>\n",
       "  <tbody>\n",
       "    <tr>\n",
       "      <th>0</th>\n",
       "      <td>-1.198168</td>\n",
       "      <td>-0.174092</td>\n",
       "      <td>-1.099672</td>\n",
       "      <td>-0.904095</td>\n",
       "      <td>0</td>\n",
       "      <td>1</td>\n",
       "      <td>0</td>\n",
       "      <td>0</td>\n",
       "      <td>0</td>\n",
       "      <td>0</td>\n",
       "      <td>0</td>\n",
       "      <td>0</td>\n",
       "      <td>0</td>\n",
       "      <td>0</td>\n",
       "      <td>1</td>\n",
       "      <td>0</td>\n",
       "      <td>0</td>\n",
       "      <td>0</td>\n",
       "      <td>0</td>\n",
       "    </tr>\n",
       "    <tr>\n",
       "      <th>1</th>\n",
       "      <td>-1.240361</td>\n",
       "      <td>-1.360738</td>\n",
       "      <td>1.585529</td>\n",
       "      <td>-0.904095</td>\n",
       "      <td>0</td>\n",
       "      <td>1</td>\n",
       "      <td>0</td>\n",
       "      <td>0</td>\n",
       "      <td>0</td>\n",
       "      <td>0</td>\n",
       "      <td>0</td>\n",
       "      <td>0</td>\n",
       "      <td>0</td>\n",
       "      <td>1</td>\n",
       "      <td>0</td>\n",
       "      <td>0</td>\n",
       "      <td>0</td>\n",
       "      <td>0</td>\n",
       "      <td>0</td>\n",
       "    </tr>\n",
       "    <tr>\n",
       "      <th>3</th>\n",
       "      <td>-1.071587</td>\n",
       "      <td>0.454133</td>\n",
       "      <td>0.242928</td>\n",
       "      <td>-0.902090</td>\n",
       "      <td>0</td>\n",
       "      <td>0</td>\n",
       "      <td>0</td>\n",
       "      <td>0</td>\n",
       "      <td>0</td>\n",
       "      <td>1</td>\n",
       "      <td>0</td>\n",
       "      <td>0</td>\n",
       "      <td>0</td>\n",
       "      <td>0</td>\n",
       "      <td>0</td>\n",
       "      <td>0</td>\n",
       "      <td>1</td>\n",
       "      <td>0</td>\n",
       "      <td>0</td>\n",
       "    </tr>\n",
       "    <tr>\n",
       "      <th>4</th>\n",
       "      <td>-1.029394</td>\n",
       "      <td>1.082358</td>\n",
       "      <td>0.242928</td>\n",
       "      <td>-0.901839</td>\n",
       "      <td>0</td>\n",
       "      <td>0</td>\n",
       "      <td>0</td>\n",
       "      <td>0</td>\n",
       "      <td>0</td>\n",
       "      <td>0</td>\n",
       "      <td>1</td>\n",
       "      <td>0</td>\n",
       "      <td>0</td>\n",
       "      <td>0</td>\n",
       "      <td>1</td>\n",
       "      <td>0</td>\n",
       "      <td>0</td>\n",
       "      <td>0</td>\n",
       "      <td>0</td>\n",
       "    </tr>\n",
       "    <tr>\n",
       "      <th>5</th>\n",
       "      <td>-1.177071</td>\n",
       "      <td>0.733344</td>\n",
       "      <td>-0.204605</td>\n",
       "      <td>-0.901589</td>\n",
       "      <td>0</td>\n",
       "      <td>0</td>\n",
       "      <td>0</td>\n",
       "      <td>0</td>\n",
       "      <td>0</td>\n",
       "      <td>0</td>\n",
       "      <td>1</td>\n",
       "      <td>0</td>\n",
       "      <td>0</td>\n",
       "      <td>0</td>\n",
       "      <td>0</td>\n",
       "      <td>0</td>\n",
       "      <td>0</td>\n",
       "      <td>0</td>\n",
       "      <td>1</td>\n",
       "    </tr>\n",
       "  </tbody>\n",
       "</table>\n",
       "</div>"
      ],
      "text/plain": [
       "      carat     depth     table     price  color_D  color_E  color_F  color_G  \\\n",
       "0 -1.198168 -0.174092 -1.099672 -0.904095        0        1        0        0   \n",
       "1 -1.240361 -1.360738  1.585529 -0.904095        0        1        0        0   \n",
       "3 -1.071587  0.454133  0.242928 -0.902090        0        0        0        0   \n",
       "4 -1.029394  1.082358  0.242928 -0.901839        0        0        0        0   \n",
       "5 -1.177071  0.733344 -0.204605 -0.901589        0        0        0        0   \n",
       "\n",
       "   color_H  color_I  color_J  clarity_I1  clarity_IF  clarity_SI1  \\\n",
       "0        0        0        0           0           0            0   \n",
       "1        0        0        0           0           0            1   \n",
       "3        0        1        0           0           0            0   \n",
       "4        0        0        1           0           0            0   \n",
       "5        0        0        1           0           0            0   \n",
       "\n",
       "   clarity_SI2  clarity_VS1  clarity_VS2  clarity_VVS1  clarity_VVS2  \n",
       "0            1            0            0             0             0  \n",
       "1            0            0            0             0             0  \n",
       "3            0            0            1             0             0  \n",
       "4            1            0            0             0             0  \n",
       "5            0            0            0             0             1  "
      ]
     },
     "execution_count": 11,
     "metadata": {},
     "output_type": "execute_result"
    }
   ],
   "source": [
    "from sklearn.preprocessing import LabelEncoder, StandardScaler\n",
    "\n",
    "def preprocessing_temp(df: pd.DataFrame):\n",
    "\t# Encode categorical to numerical\n",
    "\tle_cut = LabelEncoder()\n",
    "\n",
    "\tdf[\"cut\"] = le_cut.fit_transform(df[\"cut\"])\n",
    "\tdf = pd.get_dummies(df, columns=[\"color\", \"clarity\"])\n",
    "\n",
    "\t# Drop unnecesary columns\n",
    "\tdf = df.drop(columns=[\"Unnamed: 0\"])\n",
    "\n",
    "\t# Separate X and y\n",
    "\ty = df[\"cut\"]\n",
    "\tX = df.drop(columns=[\"cut\"])\n",
    "\n",
    "\t# Standarize\n",
    "\tone_hot_features = df.columns[df.columns.str.contains(\"color|clarity\")]\n",
    "\tfeatures = [\"carat\", \"depth\", \"table\", \"price\"]\n",
    "\tscaler = StandardScaler()\n",
    "\t# scale only \"features\", then concatenate with \"one_hot_features\"\n",
    "\tX_scaled = pd.DataFrame(scaler.fit_transform(X[features].to_numpy()), columns=features)\n",
    "\tX_scaled = pd.concat([X_scaled, X[one_hot_features]], axis=1)\n",
    "\n",
    "\t# Remove outliers\n",
    "\tfor feature in features:\n",
    "\t\tQ1 = X_scaled[feature].quantile(0.25)\n",
    "\t\tQ3 = X_scaled[feature].quantile(0.75)\n",
    "\t\tIQR = Q3 - Q1\n",
    "\n",
    "\t\tlower_bound = Q1 - 1.5 * IQR\n",
    "\t\tupper_bound = Q3 + 1.5 * IQR\n",
    "\n",
    "\t\tcondition = (X_scaled[feature] >= lower_bound) & (X_scaled[feature] <= upper_bound)\n",
    "\t\tX_scaled = X_scaled[condition]\n",
    "\t\ty = y[condition]\n",
    "\n",
    "\treturn X_scaled, y, scaler\n",
    "\n",
    "df = pd.read_csv(\"data/diamonds.csv\")\n",
    "df_copy = df.copy()\n",
    "X, y, scaler = preprocessing_temp(df)\n",
    "print(len(X.columns))\n",
    "X.head()"
   ]
  },
  {
   "cell_type": "code",
   "execution_count": 12,
   "metadata": {},
   "outputs": [
    {
     "data": {
      "text/plain": [
       "[(0.7369854733877347, {'max_depth': 10}),\n",
       " (0.7342100682428888, {'max_depth': 5}),\n",
       " (0.714351408312987, {'max_depth': 15}),\n",
       " (0.6793493737719287, {'max_depth': 20}),\n",
       " (0.6620773127054211, {'max_depth': 25})]"
      ]
     },
     "execution_count": 12,
     "metadata": {},
     "output_type": "execute_result"
    }
   ],
   "source": [
    "from sklearn.model_selection import GridSearchCV\n",
    "X_train, X_test, y_train, y_test = train_test_split(X, y, test_size=0.2, random_state=42)\n",
    "\n",
    "param_grid = {\n",
    "\t'max_depth': [5, 10, 15, 20, 25]\n",
    "}\n",
    "\n",
    "grid_search = GridSearchCV(DecisionTree(random_state=42), param_grid, cv=5, scoring='accuracy', return_train_score=True)\n",
    "grid_search.fit(X_train, y_train)\n",
    "sorted(zip(grid_search.cv_results_['mean_test_score'], grid_search.cv_results_['params']), reverse=True)"
   ]
  },
  {
   "cell_type": "code",
   "execution_count": 13,
   "metadata": {},
   "outputs": [
    {
     "data": {
      "text/plain": [
       "[(0.7383596534952777, {'max_depth': 8}),\n",
       " (0.738332761033578, {'max_depth': 9}),\n",
       " (0.7372009615797549, {'max_depth': 7}),\n",
       " (0.737093213853553, {'max_depth': 6}),\n",
       " (0.7369854733877347, {'max_depth': 10}),\n",
       " (0.7342100682428888, {'max_depth': 5}),\n",
       " (0.7338867669812119, {'max_depth': 11}),\n",
       " (0.7293059149294292, {'max_depth': 4})]"
      ]
     },
     "execution_count": 13,
     "metadata": {},
     "output_type": "execute_result"
    }
   ],
   "source": [
    "param_grid = {\n",
    "\t'max_depth': [4, 5, 6, 7, 8, 9, 10, 11]\n",
    "}\n",
    "\n",
    "grid_search2 = GridSearchCV(DecisionTree(random_state=42), param_grid, cv=5, scoring='accuracy', return_train_score=True)\n",
    "grid_search2.fit(X_train, y_train)\n",
    "sorted(zip(grid_search2.cv_results_['mean_test_score'], grid_search2.cv_results_['params']), reverse=True)"
   ]
  },
  {
   "cell_type": "code",
   "execution_count": 14,
   "metadata": {},
   "outputs": [
    {
     "name": "stdout",
     "output_type": "stream",
     "text": [
      "Performing cross validation\n"
     ]
    },
    {
     "name": "stderr",
     "output_type": "stream",
     "text": [
      "[Parallel(n_jobs=-1)]: Using backend LokyBackend with 12 concurrent workers.\n"
     ]
    },
    {
     "name": "stdout",
     "output_type": "stream",
     "text": [
      "Cross validation (accuracy) scores:\n",
      "\tmean: 0.7382459921864475 std: 0.006012640065855147\n"
     ]
    },
    {
     "name": "stderr",
     "output_type": "stream",
     "text": [
      "[Parallel(n_jobs=-1)]: Done   2 out of   5 | elapsed:    2.7s remaining:    4.1s\n",
      "[Parallel(n_jobs=-1)]: Done   3 out of   5 | elapsed:    2.7s remaining:    1.8s\n",
      "[Parallel(n_jobs=-1)]: Done   5 out of   5 | elapsed:    2.7s finished\n"
     ]
    }
   ],
   "source": [
    "model = DecisionTree(random_state=42, max_depth=8)\n",
    "model.cross_validation(X_train, y_train, n_splits=5, val_size=0.2)"
   ]
  },
  {
   "cell_type": "code",
   "execution_count": 15,
   "metadata": {},
   "outputs": [
    {
     "data": {
      "image/png": "[encoded data removed]",
      "text/plain": [
       "<Figure size 640x480 with 1 Axes>"
      ]
     },
     "metadata": {},
     "output_type": "display_data"
    }
   ],
   "source": [
    "model.fit(X_train, y_train)\n",
    "model.importances(features=X_train.columns, show=True)"
   ]
  },
  {
   "cell_type": "markdown",
   "metadata": {},
   "source": [
    "We can see the accuracy decreased (mean: 0.753 -> 0.738), and the importance of the hot-encoded features is very low. Due to the nature of Decision Trees, it might not make sense at all to one-hot encode features, but with this experiment we have ensured of it.\n",
    "\n",
    "After all this analysis we made with the help of decision trees, we conclude that the best we can do is train the models with all the features."
   ]
  }
 ],
 "metadata": {
  "kernelspec": {
   "display_name": "base",
   "language": "python",
   "name": "python3"
  },
  "language_info": {
   "codemirror_mode": {
    "name": "ipython",
    "version": 3
   },
   "file_extension": ".py",
   "mimetype": "text/x-python",
   "name": "python",
   "nbconvert_exporter": "python",
   "pygments_lexer": "ipython3",
   "version": "3.9.17"
  }
 },
 "nbformat": 4,
 "nbformat_minor": 2
}
