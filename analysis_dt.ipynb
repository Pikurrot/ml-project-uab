{
 "cells": [
  {
   "cell_type": "markdown",
   "metadata": {},
   "source": [
    "# Decision Tree"
   ]
  },
  {
   "cell_type": "code",
   "execution_count": 1,
   "metadata": {},
   "outputs": [],
   "source": [
    "import pandas as pd\n",
    "import matplotlib.pyplot as plt\n",
    "import numpy as np\n",
    "from sklearn.model_selection import train_test_split\n",
    "from sklearn.tree import plot_tree\n",
    "from src.decisiontree import DecisionTree\n",
    "import src.utils as utils"
   ]
  },
  {
   "cell_type": "code",
   "execution_count": 2,
   "metadata": {},
   "outputs": [],
   "source": [
    "df = pd.read_csv(\"data/diamonds.csv\")\n",
    "X_train, X_test, y_train, y_test = utils.preprocessing_LOS(df)"
   ]
  },
  {
   "cell_type": "code",
   "execution_count": 3,
   "metadata": {},
   "outputs": [
    {
     "data": {
      "text/plain": [
       "[(0.7489923111066482, {'max_depth': 10}),\n",
       " (0.7446660480080395, {'max_depth': 8}),\n",
       " (0.7398559934296677, {'max_depth': 15}),\n",
       " (0.7361746099163099, {'max_depth': 5}),\n",
       " (0.7143817622007521, {'max_depth': 3})]"
      ]
     },
     "execution_count": 3,
     "metadata": {},
     "output_type": "execute_result"
    }
   ],
   "source": [
    "from sklearn.model_selection import GridSearchCV\n",
    "\n",
    "param_grid = {\n",
    "\t'max_depth': [3, 5, 8, 10, 15]\n",
    "}\n",
    "\n",
    "grid_search = GridSearchCV(DecisionTree(random_state=42), param_grid, cv=5, scoring='accuracy', return_train_score=True)\n",
    "grid_search.fit(X_train, y_train)\n",
    "sorted(zip(grid_search.cv_results_['mean_test_score'], grid_search.cv_results_['params']), reverse=True)"
   ]
  },
  {
   "cell_type": "markdown",
   "metadata": {},
   "source": [
    "Seems the optimal max_depth is between 10 and 8"
   ]
  },
  {
   "cell_type": "code",
   "execution_count": 4,
   "metadata": {},
   "outputs": [
    {
     "data": {
      "text/plain": [
       "[(0.749287872792463, {'max_depth': 11}),\n",
       " (0.7489923111066482, {'max_depth': 10}),\n",
       " (0.7457677723627997, {'max_depth': 9}),\n",
       " (0.7446660480080395, {'max_depth': 8}),\n",
       " (0.7406353429845379, {'max_depth': 7})]"
      ]
     },
     "execution_count": 4,
     "metadata": {},
     "output_type": "execute_result"
    }
   ],
   "source": [
    "param_grid = {\n",
    "\t'max_depth': [7, 8, 9, 10, 11]\n",
    "}\n",
    "\n",
    "grid_search2 = GridSearchCV(DecisionTree(random_state=42), param_grid, cv=5, scoring='accuracy', return_train_score=True)\n",
    "grid_search2.fit(X_train, y_train)\n",
    "sorted(zip(grid_search2.cv_results_['mean_test_score'], grid_search2.cv_results_['params']), reverse=True)"
   ]
  },
  {
   "cell_type": "code",
   "execution_count": 5,
   "metadata": {},
   "outputs": [],
   "source": [
    "model = DecisionTree(random_state=42, max_depth=11)"
   ]
  },
  {
   "cell_type": "code",
   "execution_count": 6,
   "metadata": {},
   "outputs": [
    {
     "name": "stdout",
     "output_type": "stream",
     "text": [
      "Performing cross validation\n"
     ]
    },
    {
     "name": "stderr",
     "output_type": "stream",
     "text": [
      "[Parallel(n_jobs=-1)]: Using backend LokyBackend with 12 concurrent workers.\n"
     ]
    },
    {
     "name": "stdout",
     "output_type": "stream",
     "text": [
      "Cross validation (accuracy) scores:\n",
      "\tmean: 0.7524385328496573 std: 0.005038989606276602\n"
     ]
    },
    {
     "name": "stderr",
     "output_type": "stream",
     "text": [
      "[Parallel(n_jobs=-1)]: Done   2 out of   5 | elapsed:    3.6s remaining:    5.4s\n",
      "[Parallel(n_jobs=-1)]: Done   3 out of   5 | elapsed:    3.6s remaining:    2.4s\n",
      "[Parallel(n_jobs=-1)]: Done   5 out of   5 | elapsed:    3.6s finished\n"
     ]
    }
   ],
   "source": [
    "model.cross_validation(X_train, y_train, n_splits=5, val_size=0.2)"
   ]
  },
  {
   "cell_type": "code",
   "execution_count": 7,
   "metadata": {},
   "outputs": [
    {
     "data": {
      "text/html": [
       "<style>#sk-container-id-1 {color: black;}#sk-container-id-1 pre{padding: 0;}#sk-container-id-1 div.sk-toggleable {background-color: white;}#sk-container-id-1 label.sk-toggleable__label {cursor: pointer;display: block;width: 100%;margin-bottom: 0;padding: 0.3em;box-sizing: border-box;text-align: center;}#sk-container-id-1 label.sk-toggleable__label-arrow:before {content: \"▸\";float: left;margin-right: 0.25em;color: #696969;}#sk-container-id-1 label.sk-toggleable__label-arrow:hover:before {color: black;}#sk-container-id-1 div.sk-estimator:hover label.sk-toggleable__label-arrow:before {color: black;}#sk-container-id-1 div.sk-toggleable__content {max-height: 0;max-width: 0;overflow: hidden;text-align: left;background-color: #f0f8ff;}#sk-container-id-1 div.sk-toggleable__content pre {margin: 0.2em;color: black;border-radius: 0.25em;background-color: #f0f8ff;}#sk-container-id-1 input.sk-toggleable__control:checked~div.sk-toggleable__content {max-height: 200px;max-width: 100%;overflow: auto;}#sk-container-id-1 input.sk-toggleable__control:checked~label.sk-toggleable__label-arrow:before {content: \"▾\";}#sk-container-id-1 div.sk-estimator input.sk-toggleable__control:checked~label.sk-toggleable__label {background-color: #d4ebff;}#sk-container-id-1 div.sk-label input.sk-toggleable__control:checked~label.sk-toggleable__label {background-color: #d4ebff;}#sk-container-id-1 input.sk-hidden--visually {border: 0;clip: rect(1px 1px 1px 1px);clip: rect(1px, 1px, 1px, 1px);height: 1px;margin: -1px;overflow: hidden;padding: 0;position: absolute;width: 1px;}#sk-container-id-1 div.sk-estimator {font-family: monospace;background-color: #f0f8ff;border: 1px dotted black;border-radius: 0.25em;box-sizing: border-box;margin-bottom: 0.5em;}#sk-container-id-1 div.sk-estimator:hover {background-color: #d4ebff;}#sk-container-id-1 div.sk-parallel-item::after {content: \"\";width: 100%;border-bottom: 1px solid gray;flex-grow: 1;}#sk-container-id-1 div.sk-label:hover label.sk-toggleable__label {background-color: #d4ebff;}#sk-container-id-1 div.sk-serial::before {content: \"\";position: absolute;border-left: 1px solid gray;box-sizing: border-box;top: 0;bottom: 0;left: 50%;z-index: 0;}#sk-container-id-1 div.sk-serial {display: flex;flex-direction: column;align-items: center;background-color: white;padding-right: 0.2em;padding-left: 0.2em;position: relative;}#sk-container-id-1 div.sk-item {position: relative;z-index: 1;}#sk-container-id-1 div.sk-parallel {display: flex;align-items: stretch;justify-content: center;background-color: white;position: relative;}#sk-container-id-1 div.sk-item::before, #sk-container-id-1 div.sk-parallel-item::before {content: \"\";position: absolute;border-left: 1px solid gray;box-sizing: border-box;top: 0;bottom: 0;left: 50%;z-index: -1;}#sk-container-id-1 div.sk-parallel-item {display: flex;flex-direction: column;z-index: 1;position: relative;background-color: white;}#sk-container-id-1 div.sk-parallel-item:first-child::after {align-self: flex-end;width: 50%;}#sk-container-id-1 div.sk-parallel-item:last-child::after {align-self: flex-start;width: 50%;}#sk-container-id-1 div.sk-parallel-item:only-child::after {width: 0;}#sk-container-id-1 div.sk-dashed-wrapped {border: 1px dashed gray;margin: 0 0.4em 0.5em 0.4em;box-sizing: border-box;padding-bottom: 0.4em;background-color: white;}#sk-container-id-1 div.sk-label label {font-family: monospace;font-weight: bold;display: inline-block;line-height: 1.2em;}#sk-container-id-1 div.sk-label-container {text-align: center;}#sk-container-id-1 div.sk-container {/* jupyter's `normalize.less` sets `[hidden] { display: none; }` but bootstrap.min.css set `[hidden] { display: none !important; }` so we also need the `!important` here to be able to override the default hidden behavior on the sphinx rendered scikit-learn.org. See: https://github.com/scikit-learn/scikit-learn/issues/21755 */display: inline-block !important;position: relative;}#sk-container-id-1 div.sk-text-repr-fallback {display: none;}</style><div id=\"sk-container-id-1\" class=\"sk-top-container\"><div class=\"sk-text-repr-fallback\"><pre>DecisionTree(max_depth=11)</pre><b>In a Jupyter environment, please rerun this cell to show the HTML representation or trust the notebook. <br />On GitHub, the HTML representation is unable to render, please try loading this page with nbviewer.org.</b></div><div class=\"sk-container\" hidden><div class=\"sk-item\"><div class=\"sk-estimator sk-toggleable\"><input class=\"sk-toggleable__control sk-hidden--visually\" id=\"sk-estimator-id-1\" type=\"checkbox\" checked><label for=\"sk-estimator-id-1\" class=\"sk-toggleable__label sk-toggleable__label-arrow\">DecisionTree</label><div class=\"sk-toggleable__content\"><pre>DecisionTree(max_depth=11)</pre></div></div></div></div></div>"
      ],
      "text/plain": [
       "DecisionTree(max_depth=11)"
      ]
     },
     "execution_count": 7,
     "metadata": {},
     "output_type": "execute_result"
    }
   ],
   "source": [
    "model.fit(X_train, y_train)"
   ]
  },
  {
   "cell_type": "code",
   "execution_count": 9,
   "metadata": {},
   "outputs": [],
   "source": [
    "# DEPRECATED, this was for 6 features and depth = 6\n",
    "# plt.figure(figsize=(170, 20))\n",
    "# class_names = df_copy[\"cut\"].unique()\n",
    "# plot_tree(model, feature_names=X_train.columns, class_names=class_names, filled=True, fontsize=10)\n",
    "# plt.show()"
   ]
  },
  {
   "cell_type": "code",
   "execution_count": 8,
   "metadata": {},
   "outputs": [
    {
     "data": {
      "image/png": "[encoded data removed]",
      "text/plain": [
       "<Figure size 640x480 with 1 Axes>"
      ]
     },
     "metadata": {},
     "output_type": "display_data"
    }
   ],
   "source": [
    "model.importances(features=X_train.columns, show=True)"
   ]
  },
  {
   "cell_type": "markdown",
   "metadata": {},
   "source": [
    "Now let's remove some not important features (`carat`) and repeat the process."
   ]
  },
  {
   "cell_type": "code",
   "execution_count": 9,
   "metadata": {},
   "outputs": [
    {
     "data": {
      "text/html": [
       "<div>\n",
       "<style scoped>\n",
       "    .dataframe tbody tr th:only-of-type {\n",
       "        vertical-align: middle;\n",
       "    }\n",
       "\n",
       "    .dataframe tbody tr th {\n",
       "        vertical-align: top;\n",
       "    }\n",
       "\n",
       "    .dataframe thead th {\n",
       "        text-align: right;\n",
       "    }\n",
       "</style>\n",
       "<table border=\"1\" class=\"dataframe\">\n",
       "  <thead>\n",
       "    <tr style=\"text-align: right;\">\n",
       "      <th></th>\n",
       "      <th>color</th>\n",
       "      <th>clarity</th>\n",
       "      <th>depth</th>\n",
       "      <th>table</th>\n",
       "      <th>price</th>\n",
       "      <th>x</th>\n",
       "      <th>y</th>\n",
       "      <th>z</th>\n",
       "    </tr>\n",
       "  </thead>\n",
       "  <tbody>\n",
       "    <tr>\n",
       "      <th>0</th>\n",
       "      <td>-0.263694</td>\n",
       "      <td>-0.682295</td>\n",
       "      <td>-2.138915</td>\n",
       "      <td>0.375030</td>\n",
       "      <td>2.875426</td>\n",
       "      <td>2.079080</td>\n",
       "      <td>2.036810</td>\n",
       "      <td>1.758083</td>\n",
       "    </tr>\n",
       "    <tr>\n",
       "      <th>1</th>\n",
       "      <td>-0.263694</td>\n",
       "      <td>0.532590</td>\n",
       "      <td>0.364997</td>\n",
       "      <td>-0.120182</td>\n",
       "      <td>2.562350</td>\n",
       "      <td>1.553339</td>\n",
       "      <td>1.517848</td>\n",
       "      <td>1.578391</td>\n",
       "    </tr>\n",
       "    <tr>\n",
       "      <th>2</th>\n",
       "      <td>0.330187</td>\n",
       "      <td>-0.074852</td>\n",
       "      <td>-0.840590</td>\n",
       "      <td>0.870242</td>\n",
       "      <td>2.626839</td>\n",
       "      <td>1.583670</td>\n",
       "      <td>1.528024</td>\n",
       "      <td>1.447706</td>\n",
       "    </tr>\n",
       "    <tr>\n",
       "      <th>3</th>\n",
       "      <td>0.924068</td>\n",
       "      <td>-1.289737</td>\n",
       "      <td>-0.562378</td>\n",
       "      <td>0.870242</td>\n",
       "      <td>-0.870313</td>\n",
       "      <td>-0.741725</td>\n",
       "      <td>-0.680111</td>\n",
       "      <td>-0.757604</td>\n",
       "    </tr>\n",
       "    <tr>\n",
       "      <th>4</th>\n",
       "      <td>0.330187</td>\n",
       "      <td>1.140032</td>\n",
       "      <td>-1.026065</td>\n",
       "      <td>-0.615395</td>\n",
       "      <td>-0.854101</td>\n",
       "      <td>-1.105700</td>\n",
       "      <td>-1.076965</td>\n",
       "      <td>-1.165995</td>\n",
       "    </tr>\n",
       "  </tbody>\n",
       "</table>\n",
       "</div>"
      ],
      "text/plain": [
       "      color   clarity     depth     table     price         x         y  \\\n",
       "0 -0.263694 -0.682295 -2.138915  0.375030  2.875426  2.079080  2.036810   \n",
       "1 -0.263694  0.532590  0.364997 -0.120182  2.562350  1.553339  1.517848   \n",
       "2  0.330187 -0.074852 -0.840590  0.870242  2.626839  1.583670  1.528024   \n",
       "3  0.924068 -1.289737 -0.562378  0.870242 -0.870313 -0.741725 -0.680111   \n",
       "4  0.330187  1.140032 -1.026065 -0.615395 -0.854101 -1.105700 -1.076965   \n",
       "\n",
       "          z  \n",
       "0  1.758083  \n",
       "1  1.578391  \n",
       "2  1.447706  \n",
       "3 -0.757604  \n",
       "4 -1.165995  "
      ]
     },
     "execution_count": 9,
     "metadata": {},
     "output_type": "execute_result"
    }
   ],
   "source": [
    "X_train, X_test, y_train, y_test = utils.preprocessing_LOS(df.drop(columns=[\"carat\"]))\n",
    "X_train.head()"
   ]
  },
  {
   "cell_type": "code",
   "execution_count": 10,
   "metadata": {},
   "outputs": [
    {
     "data": {
      "text/plain": [
       "[(0.7499537343027098, {'max_depth': 10}),\n",
       " (0.7451949768671515, {'max_depth': 8}),\n",
       " (0.7390614672835427, {'max_depth': 15}),\n",
       " (0.7363384005287509, {'max_depth': 5}),\n",
       " (0.7142101784534038, {'max_depth': 3})]"
      ]
     },
     "execution_count": 10,
     "metadata": {},
     "output_type": "execute_result"
    }
   ],
   "source": [
    "param_grid = {\n",
    "\t'max_depth': [3, 5, 8, 10, 15]\n",
    "}\n",
    "\n",
    "grid_search = GridSearchCV(DecisionTree(random_state=42), param_grid, cv=5, scoring='accuracy', return_train_score=True)\n",
    "grid_search.fit(X_train, y_train)\n",
    "sorted(zip(grid_search.cv_results_['mean_test_score'], grid_search.cv_results_['params']), reverse=True)"
   ]
  },
  {
   "cell_type": "code",
   "execution_count": 11,
   "metadata": {},
   "outputs": [
    {
     "data": {
      "text/plain": [
       "[(0.7499537343027098, {'max_depth': 10}),\n",
       " (0.7494514210178453, {'max_depth': 11}),\n",
       " (0.7477329808327826, {'max_depth': 9}),\n",
       " (0.7451949768671515, {'max_depth': 8}),\n",
       " (0.7424190350297423, {'max_depth': 7})]"
      ]
     },
     "execution_count": 11,
     "metadata": {},
     "output_type": "execute_result"
    }
   ],
   "source": [
    "param_grid = {\n",
    "\t'max_depth': [7, 8, 9, 10, 11]\n",
    "}\n",
    "\n",
    "grid_search2 = GridSearchCV(DecisionTree(random_state=42), param_grid, cv=5, scoring='accuracy', return_train_score=True)\n",
    "grid_search2.fit(X_train, y_train)\n",
    "sorted(zip(grid_search2.cv_results_['mean_test_score'], grid_search2.cv_results_['params']), reverse=True)"
   ]
  },
  {
   "cell_type": "code",
   "execution_count": 12,
   "metadata": {},
   "outputs": [
    {
     "name": "stdout",
     "output_type": "stream",
     "text": [
      "Performing cross validation\n"
     ]
    },
    {
     "name": "stderr",
     "output_type": "stream",
     "text": [
      "[Parallel(n_jobs=-1)]: Using backend LokyBackend with 12 concurrent workers.\n"
     ]
    },
    {
     "name": "stdout",
     "output_type": "stream",
     "text": [
      "Cross validation (accuracy) scores:\n",
      "\tmean: 0.7482881692002643 std: 0.00476345512420051\n"
     ]
    },
    {
     "name": "stderr",
     "output_type": "stream",
     "text": [
      "[Parallel(n_jobs=-1)]: Done   2 out of   5 | elapsed:    1.9s remaining:    3.0s\n",
      "[Parallel(n_jobs=-1)]: Done   3 out of   5 | elapsed:    2.0s remaining:    1.3s\n",
      "[Parallel(n_jobs=-1)]: Done   5 out of   5 | elapsed:    2.0s finished\n"
     ]
    }
   ],
   "source": [
    "model = DecisionTree(random_state=42, max_depth=10)\n",
    "model.cross_validation(X_train, y_train, n_splits=5, val_size=0.2)"
   ]
  },
  {
   "cell_type": "code",
   "execution_count": 13,
   "metadata": {},
   "outputs": [
    {
     "data": {
      "image/png": "[encoded data removed]",
      "text/plain": [
       "<Figure size 640x480 with 1 Axes>"
      ]
     },
     "metadata": {},
     "output_type": "display_data"
    }
   ],
   "source": [
    "model.fit(X_train, y_train)\n",
    "model.importances(features=X_train.columns, show=True)"
   ]
  },
  {
   "cell_type": "markdown",
   "metadata": {},
   "source": [
    "We observe that without `carat`, the model has less accuracy and more variance of accuracies. But the change is minimal.\n",
    "\n",
    "Now let's try combining `x`, `y` and `z` into one single feature."
   ]
  },
  {
   "cell_type": "code",
   "execution_count": 14,
   "metadata": {},
   "outputs": [
    {
     "data": {
      "text/html": [
       "<div>\n",
       "<style scoped>\n",
       "    .dataframe tbody tr th:only-of-type {\n",
       "        vertical-align: middle;\n",
       "    }\n",
       "\n",
       "    .dataframe tbody tr th {\n",
       "        vertical-align: top;\n",
       "    }\n",
       "\n",
       "    .dataframe thead th {\n",
       "        text-align: right;\n",
       "    }\n",
       "</style>\n",
       "<table border=\"1\" class=\"dataframe\">\n",
       "  <thead>\n",
       "    <tr style=\"text-align: right;\">\n",
       "      <th></th>\n",
       "      <th>carat</th>\n",
       "      <th>color</th>\n",
       "      <th>clarity</th>\n",
       "      <th>depth</th>\n",
       "      <th>table</th>\n",
       "      <th>price</th>\n",
       "      <th>volume</th>\n",
       "    </tr>\n",
       "  </thead>\n",
       "  <tbody>\n",
       "    <tr>\n",
       "      <th>0</th>\n",
       "      <td>1.424489</td>\n",
       "      <td>-1.470378</td>\n",
       "      <td>1.141170</td>\n",
       "      <td>-0.648895</td>\n",
       "      <td>-0.116851</td>\n",
       "      <td>1.411728</td>\n",
       "      <td>1.409874</td>\n",
       "    </tr>\n",
       "    <tr>\n",
       "      <th>1</th>\n",
       "      <td>0.009310</td>\n",
       "      <td>0.311758</td>\n",
       "      <td>1.750542</td>\n",
       "      <td>0.554459</td>\n",
       "      <td>-1.111241</td>\n",
       "      <td>0.519705</td>\n",
       "      <td>0.005004</td>\n",
       "    </tr>\n",
       "    <tr>\n",
       "      <th>2</th>\n",
       "      <td>-0.517913</td>\n",
       "      <td>-0.876333</td>\n",
       "      <td>-1.296321</td>\n",
       "      <td>-0.000935</td>\n",
       "      <td>-2.105632</td>\n",
       "      <td>-0.775889</td>\n",
       "      <td>-0.491102</td>\n",
       "    </tr>\n",
       "    <tr>\n",
       "      <th>3</th>\n",
       "      <td>1.479987</td>\n",
       "      <td>-0.282287</td>\n",
       "      <td>-0.077576</td>\n",
       "      <td>-0.278632</td>\n",
       "      <td>-1.608436</td>\n",
       "      <td>1.982746</td>\n",
       "      <td>1.531386</td>\n",
       "    </tr>\n",
       "    <tr>\n",
       "      <th>4</th>\n",
       "      <td>-0.989639</td>\n",
       "      <td>0.905804</td>\n",
       "      <td>-1.296321</td>\n",
       "      <td>1.757813</td>\n",
       "      <td>-1.111241</td>\n",
       "      <td>-0.919029</td>\n",
       "      <td>-0.989759</td>\n",
       "    </tr>\n",
       "  </tbody>\n",
       "</table>\n",
       "</div>"
      ],
      "text/plain": [
       "      carat     color   clarity     depth     table     price    volume\n",
       "0  1.424489 -1.470378  1.141170 -0.648895 -0.116851  1.411728  1.409874\n",
       "1  0.009310  0.311758  1.750542  0.554459 -1.111241  0.519705  0.005004\n",
       "2 -0.517913 -0.876333 -1.296321 -0.000935 -2.105632 -0.775889 -0.491102\n",
       "3  1.479987 -0.282287 -0.077576 -0.278632 -1.608436  1.982746  1.531386\n",
       "4 -0.989639  0.905804 -1.296321  1.757813 -1.111241 -0.919029 -0.989759"
      ]
     },
     "execution_count": 14,
     "metadata": {},
     "output_type": "execute_result"
    }
   ],
   "source": [
    "X_train, X_test, y_train, y_test = utils.preprocessing_LOS(utils.preprocessing_C(df))\n",
    "X_train.head()"
   ]
  },
  {
   "cell_type": "code",
   "execution_count": 15,
   "metadata": {},
   "outputs": [
    {
     "data": {
      "text/plain": [
       "[(0.740284869658694, {'max_depth': 10}),\n",
       " (0.7397205052405267, {'max_depth': 8}),\n",
       " (0.7346680999731254, {'max_depth': 5}),\n",
       " (0.7140284869658694, {'max_depth': 3}),\n",
       " (0.7102660575114217, {'max_depth': 15})]"
      ]
     },
     "execution_count": 15,
     "metadata": {},
     "output_type": "execute_result"
    }
   ],
   "source": [
    "param_grid = {\n",
    "\t'max_depth': [3, 5, 8, 10, 15]\n",
    "}\n",
    "\n",
    "grid_search = GridSearchCV(DecisionTree(random_state=42), param_grid, cv=5, scoring='accuracy', return_train_score=True)\n",
    "grid_search.fit(X_train, y_train)\n",
    "sorted(zip(grid_search.cv_results_['mean_test_score'], grid_search.cv_results_['params']), reverse=True)"
   ]
  },
  {
   "cell_type": "code",
   "execution_count": 16,
   "metadata": {},
   "outputs": [
    {
     "data": {
      "text/plain": [
       "[(0.740284869658694, {'max_depth': 10}),\n",
       " (0.7402311206664874, {'max_depth': 9}),\n",
       " (0.7400429991937651, {'max_depth': 7}),\n",
       " (0.7397205052405267, {'max_depth': 8}),\n",
       " (0.7355818328406342, {'max_depth': 11})]"
      ]
     },
     "execution_count": 16,
     "metadata": {},
     "output_type": "execute_result"
    }
   ],
   "source": [
    "param_grid = {\n",
    "\t'max_depth': [7, 8, 9, 10, 11]\n",
    "}\n",
    "\n",
    "grid_search2 = GridSearchCV(DecisionTree(random_state=42), param_grid, cv=5, scoring='accuracy', return_train_score=True)\n",
    "grid_search2.fit(X_train, y_train)\n",
    "sorted(zip(grid_search2.cv_results_['mean_test_score'], grid_search2.cv_results_['params']), reverse=True)"
   ]
  },
  {
   "cell_type": "code",
   "execution_count": 17,
   "metadata": {},
   "outputs": [
    {
     "name": "stdout",
     "output_type": "stream",
     "text": [
      "Performing cross validation\n"
     ]
    },
    {
     "name": "stderr",
     "output_type": "stream",
     "text": [
      "[Parallel(n_jobs=-1)]: Using backend LokyBackend with 12 concurrent workers.\n",
      "[Parallel(n_jobs=-1)]: Done   2 out of   5 | elapsed:    0.1s remaining:    0.2s\n",
      "[Parallel(n_jobs=-1)]: Done   3 out of   5 | elapsed:    0.1s remaining:    0.1s\n"
     ]
    },
    {
     "name": "stdout",
     "output_type": "stream",
     "text": [
      "Cross validation (accuracy) scores:\n",
      "\tmean: 0.7375436710561678 std: 0.004067204388582127\n"
     ]
    },
    {
     "name": "stderr",
     "output_type": "stream",
     "text": [
      "[Parallel(n_jobs=-1)]: Done   5 out of   5 | elapsed:    1.6s finished\n"
     ]
    }
   ],
   "source": [
    "model = DecisionTree(random_state=42, max_depth=7)\n",
    "model.cross_validation(X_train, y_train, n_splits=5, val_size=0.2)"
   ]
  },
  {
   "cell_type": "code",
   "execution_count": 18,
   "metadata": {},
   "outputs": [
    {
     "data": {
      "image/png": "[encoded data removed]",
      "text/plain": [
       "<Figure size 640x480 with 1 Axes>"
      ]
     },
     "metadata": {},
     "output_type": "display_data"
    }
   ],
   "source": [
    "model.fit(X_train, y_train)\n",
    "model.importances(features=X_train.columns, show=True)"
   ]
  },
  {
   "cell_type": "markdown",
   "metadata": {},
   "source": [
    "The accuracy has decreased a bit more. Also, we observe that, after this combination of features, `carat` gains more much importance, which make us think that maybe we should keep it, as its importance agains other features is not clear at all.\n",
    "\n",
    "Let's make one last attempt, this time we will use one hot encoding for the categorical features (except the `cut`, which is the target and makes more sense to encode it to a range [0,4])"
   ]
  },
  {
   "cell_type": "code",
   "execution_count": 19,
   "metadata": {},
   "outputs": [
    {
     "name": "stdout",
     "output_type": "stream",
     "text": [
      "22\n"
     ]
    },
    {
     "data": {
      "text/html": [
       "<div>\n",
       "<style scoped>\n",
       "    .dataframe tbody tr th:only-of-type {\n",
       "        vertical-align: middle;\n",
       "    }\n",
       "\n",
       "    .dataframe tbody tr th {\n",
       "        vertical-align: top;\n",
       "    }\n",
       "\n",
       "    .dataframe thead th {\n",
       "        text-align: right;\n",
       "    }\n",
       "</style>\n",
       "<table border=\"1\" class=\"dataframe\">\n",
       "  <thead>\n",
       "    <tr style=\"text-align: right;\">\n",
       "      <th></th>\n",
       "      <th>carat</th>\n",
       "      <th>depth</th>\n",
       "      <th>table</th>\n",
       "      <th>price</th>\n",
       "      <th>x</th>\n",
       "      <th>y</th>\n",
       "      <th>z</th>\n",
       "      <th>color_D</th>\n",
       "      <th>color_E</th>\n",
       "      <th>color_F</th>\n",
       "      <th>...</th>\n",
       "      <th>color_I</th>\n",
       "      <th>color_J</th>\n",
       "      <th>clarity_I1</th>\n",
       "      <th>clarity_IF</th>\n",
       "      <th>clarity_SI1</th>\n",
       "      <th>clarity_SI2</th>\n",
       "      <th>clarity_VS1</th>\n",
       "      <th>clarity_VS2</th>\n",
       "      <th>clarity_VVS1</th>\n",
       "      <th>clarity_VVS2</th>\n",
       "    </tr>\n",
       "  </thead>\n",
       "  <tbody>\n",
       "    <tr>\n",
       "      <th>0</th>\n",
       "      <td>0.891252</td>\n",
       "      <td>-2.238882</td>\n",
       "      <td>1.376095</td>\n",
       "      <td>0.938788</td>\n",
       "      <td>0.995677</td>\n",
       "      <td>1.110974</td>\n",
       "      <td>0.781410</td>\n",
       "      <td>0</td>\n",
       "      <td>0</td>\n",
       "      <td>1</td>\n",
       "      <td>...</td>\n",
       "      <td>0</td>\n",
       "      <td>0</td>\n",
       "      <td>0</td>\n",
       "      <td>0</td>\n",
       "      <td>1</td>\n",
       "      <td>0</td>\n",
       "      <td>0</td>\n",
       "      <td>0</td>\n",
       "      <td>0</td>\n",
       "      <td>0</td>\n",
       "    </tr>\n",
       "    <tr>\n",
       "      <th>1</th>\n",
       "      <td>-0.655872</td>\n",
       "      <td>-1.030724</td>\n",
       "      <td>-0.116047</td>\n",
       "      <td>-0.594611</td>\n",
       "      <td>-0.559529</td>\n",
       "      <td>-0.515909</td>\n",
       "      <td>-0.624511</td>\n",
       "      <td>0</td>\n",
       "      <td>0</td>\n",
       "      <td>0</td>\n",
       "      <td>...</td>\n",
       "      <td>0</td>\n",
       "      <td>0</td>\n",
       "      <td>0</td>\n",
       "      <td>0</td>\n",
       "      <td>0</td>\n",
       "      <td>0</td>\n",
       "      <td>0</td>\n",
       "      <td>0</td>\n",
       "      <td>1</td>\n",
       "      <td>0</td>\n",
       "    </tr>\n",
       "    <tr>\n",
       "      <th>2</th>\n",
       "      <td>-0.324346</td>\n",
       "      <td>-1.030724</td>\n",
       "      <td>1.873476</td>\n",
       "      <td>-0.522125</td>\n",
       "      <td>-0.051495</td>\n",
       "      <td>-0.265619</td>\n",
       "      <td>-0.222819</td>\n",
       "      <td>0</td>\n",
       "      <td>1</td>\n",
       "      <td>0</td>\n",
       "      <td>...</td>\n",
       "      <td>0</td>\n",
       "      <td>0</td>\n",
       "      <td>0</td>\n",
       "      <td>0</td>\n",
       "      <td>1</td>\n",
       "      <td>0</td>\n",
       "      <td>0</td>\n",
       "      <td>0</td>\n",
       "      <td>0</td>\n",
       "      <td>0</td>\n",
       "    </tr>\n",
       "    <tr>\n",
       "      <th>3</th>\n",
       "      <td>0.090063</td>\n",
       "      <td>-0.101371</td>\n",
       "      <td>-1.110808</td>\n",
       "      <td>-0.067156</td>\n",
       "      <td>0.332123</td>\n",
       "      <td>0.307962</td>\n",
       "      <td>0.312770</td>\n",
       "      <td>1</td>\n",
       "      <td>0</td>\n",
       "      <td>0</td>\n",
       "      <td>...</td>\n",
       "      <td>0</td>\n",
       "      <td>0</td>\n",
       "      <td>0</td>\n",
       "      <td>0</td>\n",
       "      <td>1</td>\n",
       "      <td>0</td>\n",
       "      <td>0</td>\n",
       "      <td>0</td>\n",
       "      <td>0</td>\n",
       "      <td>0</td>\n",
       "    </tr>\n",
       "    <tr>\n",
       "      <th>4</th>\n",
       "      <td>1.416170</td>\n",
       "      <td>-0.658983</td>\n",
       "      <td>-1.110808</td>\n",
       "      <td>1.412649</td>\n",
       "      <td>1.400031</td>\n",
       "      <td>1.382121</td>\n",
       "      <td>1.300262</td>\n",
       "      <td>0</td>\n",
       "      <td>0</td>\n",
       "      <td>1</td>\n",
       "      <td>...</td>\n",
       "      <td>0</td>\n",
       "      <td>0</td>\n",
       "      <td>0</td>\n",
       "      <td>0</td>\n",
       "      <td>1</td>\n",
       "      <td>0</td>\n",
       "      <td>0</td>\n",
       "      <td>0</td>\n",
       "      <td>0</td>\n",
       "      <td>0</td>\n",
       "    </tr>\n",
       "  </tbody>\n",
       "</table>\n",
       "<p>5 rows × 22 columns</p>\n",
       "</div>"
      ],
      "text/plain": [
       "      carat     depth     table     price         x         y         z  \\\n",
       "0  0.891252 -2.238882  1.376095  0.938788  0.995677  1.110974  0.781410   \n",
       "1 -0.655872 -1.030724 -0.116047 -0.594611 -0.559529 -0.515909 -0.624511   \n",
       "2 -0.324346 -1.030724  1.873476 -0.522125 -0.051495 -0.265619 -0.222819   \n",
       "3  0.090063 -0.101371 -1.110808 -0.067156  0.332123  0.307962  0.312770   \n",
       "4  1.416170 -0.658983 -1.110808  1.412649  1.400031  1.382121  1.300262   \n",
       "\n",
       "   color_D  color_E  color_F  ...  color_I  color_J  clarity_I1  clarity_IF  \\\n",
       "0        0        0        1  ...        0        0           0           0   \n",
       "1        0        0        0  ...        0        0           0           0   \n",
       "2        0        1        0  ...        0        0           0           0   \n",
       "3        1        0        0  ...        0        0           0           0   \n",
       "4        0        0        1  ...        0        0           0           0   \n",
       "\n",
       "   clarity_SI1  clarity_SI2  clarity_VS1  clarity_VS2  clarity_VVS1  \\\n",
       "0            1            0            0            0             0   \n",
       "1            0            0            0            0             1   \n",
       "2            1            0            0            0             0   \n",
       "3            1            0            0            0             0   \n",
       "4            1            0            0            0             0   \n",
       "\n",
       "   clarity_VVS2  \n",
       "0             0  \n",
       "1             0  \n",
       "2             0  \n",
       "3             0  \n",
       "4             0  \n",
       "\n",
       "[5 rows x 22 columns]"
      ]
     },
     "execution_count": 19,
     "metadata": {},
     "output_type": "execute_result"
    }
   ],
   "source": [
    "X_train, X_test, y_train, y_test = utils.preprocessing_HOS(df)\n",
    "\n",
    "print(len(X_train.columns))\n",
    "X_train.head()"
   ]
  },
  {
   "cell_type": "code",
   "execution_count": 20,
   "metadata": {},
   "outputs": [
    {
     "data": {
      "text/plain": [
       "[(0.7491804181365406, {'max_depth': 10}),\n",
       " (0.7416562488727823, {'max_depth': 15}),\n",
       " (0.7361208681455187, {'max_depth': 5}),\n",
       " (0.7221745103329964, {'max_depth': 20}),\n",
       " (0.710377787245053, {'max_depth': 25})]"
      ]
     },
     "execution_count": 20,
     "metadata": {},
     "output_type": "execute_result"
    }
   ],
   "source": [
    "param_grid = {\n",
    "\t'max_depth': [5, 10, 15, 20, 25]\n",
    "}\n",
    "\n",
    "grid_search = GridSearchCV(DecisionTree(random_state=42), param_grid, cv=5, scoring='accuracy', return_train_score=True)\n",
    "grid_search.fit(X_train, y_train)\n",
    "sorted(zip(grid_search.cv_results_['mean_test_score'], grid_search.cv_results_['params']), reverse=True)"
   ]
  },
  {
   "cell_type": "code",
   "execution_count": 21,
   "metadata": {},
   "outputs": [
    {
     "data": {
      "text/plain": [
       "[(0.7491804181365406, {'max_depth': 10}),\n",
       " (0.7484548139631693, {'max_depth': 11}),\n",
       " (0.7481861809340706, {'max_depth': 12}),\n",
       " (0.747406863875568, {'max_depth': 13}),\n",
       " (0.7463858207804378, {'max_depth': 9}),\n",
       " (0.7429192310362842, {'max_depth': 14}),\n",
       " (0.7416562488727823, {'max_depth': 15}),\n",
       " (0.7377331032157214, {'max_depth': 16})]"
      ]
     },
     "execution_count": 21,
     "metadata": {},
     "output_type": "execute_result"
    }
   ],
   "source": [
    "param_grid = {\n",
    "\t'max_depth': [9, 10, 11, 12, 13, 14, 15, 16]\n",
    "}\n",
    "\n",
    "grid_search2 = GridSearchCV(DecisionTree(random_state=42), param_grid, cv=5, scoring='accuracy', return_train_score=True)\n",
    "grid_search2.fit(X_train, y_train)\n",
    "sorted(zip(grid_search2.cv_results_['mean_test_score'], grid_search2.cv_results_['params']), reverse=True)"
   ]
  },
  {
   "cell_type": "code",
   "execution_count": 22,
   "metadata": {},
   "outputs": [
    {
     "name": "stdout",
     "output_type": "stream",
     "text": [
      "Performing cross validation\n"
     ]
    },
    {
     "name": "stderr",
     "output_type": "stream",
     "text": [
      "[Parallel(n_jobs=-1)]: Using backend LokyBackend with 12 concurrent workers.\n"
     ]
    },
    {
     "name": "stdout",
     "output_type": "stream",
     "text": [
      "Cross validation (accuracy) scores:\n",
      "\tmean: 0.7502888620180035 std: 0.005049010049468731\n"
     ]
    },
    {
     "name": "stderr",
     "output_type": "stream",
     "text": [
      "[Parallel(n_jobs=-1)]: Done   2 out of   5 | elapsed:    0.2s remaining:    0.4s\n",
      "[Parallel(n_jobs=-1)]: Done   3 out of   5 | elapsed:    0.2s remaining:    0.1s\n",
      "[Parallel(n_jobs=-1)]: Done   5 out of   5 | elapsed:    0.2s finished\n"
     ]
    }
   ],
   "source": [
    "model = DecisionTree(random_state=42, max_depth=11)\n",
    "model.cross_validation(X_train, y_train, n_splits=5, val_size=0.2)"
   ]
  },
  {
   "cell_type": "code",
   "execution_count": 23,
   "metadata": {},
   "outputs": [
    {
     "data": {
      "image/png": "[encoded data removed]",
      "text/plain": [
       "<Figure size 640x480 with 1 Axes>"
      ]
     },
     "metadata": {},
     "output_type": "display_data"
    }
   ],
   "source": [
    "model.fit(X_train, y_train)\n",
    "model.importances(features=X_train.columns, show=True)"
   ]
  },
  {
   "cell_type": "markdown",
   "metadata": {},
   "source": [
    "We can see the accuracy slightly decreased (mean: 0.751 -> 0.749), which is insignificant, and the importance of the hot-encoded features is very low. Due to the nature of Decision Trees, it might not make sense at all to one-hot encode features, but with this experiment we have made sure of it.\n",
    "\n",
    "After all this analysis we made with the help of decision trees, we conclude that the best we can do is train the models with all the features. The encoding of categorical features and handling of outliers will be a decision to make for every different model we train."
   ]
  }
 ],
 "metadata": {
  "kernelspec": {
   "display_name": "base",
   "language": "python",
   "name": "python3"
  },
  "language_info": {
   "codemirror_mode": {
    "name": "ipython",
    "version": 3
   },
   "file_extension": ".py",
   "mimetype": "text/x-python",
   "name": "python",
   "nbconvert_exporter": "python",
   "pygments_lexer": "ipython3",
   "version": "3.9.17"
  }
 },
 "nbformat": 4,
 "nbformat_minor": 2
}
