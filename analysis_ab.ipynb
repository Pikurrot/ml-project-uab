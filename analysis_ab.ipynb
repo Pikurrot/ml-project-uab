{
 "cells": [
  {
   "cell_type": "code",
   "execution_count": 1,
   "metadata": {},
   "outputs": [],
   "source": [
    "import pandas as pd\n",
    "from sklearn.model_selection import GridSearchCV, RandomizedSearchCV, train_test_split\n",
    "from src.adaboost import AdaBoost\n",
    "import src.utils as utils"
   ]
  },
  {
   "cell_type": "code",
   "execution_count": 2,
   "metadata": {},
   "outputs": [],
   "source": [
    "df = pd.read_csv(\"data/diamonds.csv\")\n",
    "X_train, X_test, y_train, y_test = utils.preprocessing_LOS(df)"
   ]
  },
  {
   "cell_type": "code",
   "execution_count": 17,
   "metadata": {},
   "outputs": [
    {
     "name": "stdout",
     "output_type": "stream",
     "text": [
      "Fitting 5 folds for each of 30 candidates, totalling 150 fits\n"
     ]
    },
    {
     "data": {
      "text/html": [
       "<style>#sk-container-id-3 {color: black;}#sk-container-id-3 pre{padding: 0;}#sk-container-id-3 div.sk-toggleable {background-color: white;}#sk-container-id-3 label.sk-toggleable__label {cursor: pointer;display: block;width: 100%;margin-bottom: 0;padding: 0.3em;box-sizing: border-box;text-align: center;}#sk-container-id-3 label.sk-toggleable__label-arrow:before {content: \"▸\";float: left;margin-right: 0.25em;color: #696969;}#sk-container-id-3 label.sk-toggleable__label-arrow:hover:before {color: black;}#sk-container-id-3 div.sk-estimator:hover label.sk-toggleable__label-arrow:before {color: black;}#sk-container-id-3 div.sk-toggleable__content {max-height: 0;max-width: 0;overflow: hidden;text-align: left;background-color: #f0f8ff;}#sk-container-id-3 div.sk-toggleable__content pre {margin: 0.2em;color: black;border-radius: 0.25em;background-color: #f0f8ff;}#sk-container-id-3 input.sk-toggleable__control:checked~div.sk-toggleable__content {max-height: 200px;max-width: 100%;overflow: auto;}#sk-container-id-3 input.sk-toggleable__control:checked~label.sk-toggleable__label-arrow:before {content: \"▾\";}#sk-container-id-3 div.sk-estimator input.sk-toggleable__control:checked~label.sk-toggleable__label {background-color: #d4ebff;}#sk-container-id-3 div.sk-label input.sk-toggleable__control:checked~label.sk-toggleable__label {background-color: #d4ebff;}#sk-container-id-3 input.sk-hidden--visually {border: 0;clip: rect(1px 1px 1px 1px);clip: rect(1px, 1px, 1px, 1px);height: 1px;margin: -1px;overflow: hidden;padding: 0;position: absolute;width: 1px;}#sk-container-id-3 div.sk-estimator {font-family: monospace;background-color: #f0f8ff;border: 1px dotted black;border-radius: 0.25em;box-sizing: border-box;margin-bottom: 0.5em;}#sk-container-id-3 div.sk-estimator:hover {background-color: #d4ebff;}#sk-container-id-3 div.sk-parallel-item::after {content: \"\";width: 100%;border-bottom: 1px solid gray;flex-grow: 1;}#sk-container-id-3 div.sk-label:hover label.sk-toggleable__label {background-color: #d4ebff;}#sk-container-id-3 div.sk-serial::before {content: \"\";position: absolute;border-left: 1px solid gray;box-sizing: border-box;top: 0;bottom: 0;left: 50%;z-index: 0;}#sk-container-id-3 div.sk-serial {display: flex;flex-direction: column;align-items: center;background-color: white;padding-right: 0.2em;padding-left: 0.2em;position: relative;}#sk-container-id-3 div.sk-item {position: relative;z-index: 1;}#sk-container-id-3 div.sk-parallel {display: flex;align-items: stretch;justify-content: center;background-color: white;position: relative;}#sk-container-id-3 div.sk-item::before, #sk-container-id-3 div.sk-parallel-item::before {content: \"\";position: absolute;border-left: 1px solid gray;box-sizing: border-box;top: 0;bottom: 0;left: 50%;z-index: -1;}#sk-container-id-3 div.sk-parallel-item {display: flex;flex-direction: column;z-index: 1;position: relative;background-color: white;}#sk-container-id-3 div.sk-parallel-item:first-child::after {align-self: flex-end;width: 50%;}#sk-container-id-3 div.sk-parallel-item:last-child::after {align-self: flex-start;width: 50%;}#sk-container-id-3 div.sk-parallel-item:only-child::after {width: 0;}#sk-container-id-3 div.sk-dashed-wrapped {border: 1px dashed gray;margin: 0 0.4em 0.5em 0.4em;box-sizing: border-box;padding-bottom: 0.4em;background-color: white;}#sk-container-id-3 div.sk-label label {font-family: monospace;font-weight: bold;display: inline-block;line-height: 1.2em;}#sk-container-id-3 div.sk-label-container {text-align: center;}#sk-container-id-3 div.sk-container {/* jupyter's `normalize.less` sets `[hidden] { display: none; }` but bootstrap.min.css set `[hidden] { display: none !important; }` so we also need the `!important` here to be able to override the default hidden behavior on the sphinx rendered scikit-learn.org. See: https://github.com/scikit-learn/scikit-learn/issues/21755 */display: inline-block !important;position: relative;}#sk-container-id-3 div.sk-text-repr-fallback {display: none;}</style><div id=\"sk-container-id-3\" class=\"sk-top-container\"><div class=\"sk-text-repr-fallback\"><pre>GridSearchCV(cv=5, estimator=AdaBoost(), n_jobs=-1,\n",
       "             param_grid={&#x27;algorithm&#x27;: [&#x27;SAMME&#x27;, &#x27;SAMME.R&#x27;],\n",
       "                         &#x27;learning_rate&#x27;: [0.01, 0.1, 1, 5, 10],\n",
       "                         &#x27;n_estimators&#x27;: [50, 100, 200]},\n",
       "             return_train_score=True, scoring=&#x27;accuracy&#x27;, verbose=10)</pre><b>In a Jupyter environment, please rerun this cell to show the HTML representation or trust the notebook. <br />On GitHub, the HTML representation is unable to render, please try loading this page with nbviewer.org.</b></div><div class=\"sk-container\" hidden><div class=\"sk-item sk-dashed-wrapped\"><div class=\"sk-label-container\"><div class=\"sk-label sk-toggleable\"><input class=\"sk-toggleable__control sk-hidden--visually\" id=\"sk-estimator-id-7\" type=\"checkbox\" ><label for=\"sk-estimator-id-7\" class=\"sk-toggleable__label sk-toggleable__label-arrow\">GridSearchCV</label><div class=\"sk-toggleable__content\"><pre>GridSearchCV(cv=5, estimator=AdaBoost(), n_jobs=-1,\n",
       "             param_grid={&#x27;algorithm&#x27;: [&#x27;SAMME&#x27;, &#x27;SAMME.R&#x27;],\n",
       "                         &#x27;learning_rate&#x27;: [0.01, 0.1, 1, 5, 10],\n",
       "                         &#x27;n_estimators&#x27;: [50, 100, 200]},\n",
       "             return_train_score=True, scoring=&#x27;accuracy&#x27;, verbose=10)</pre></div></div></div><div class=\"sk-parallel\"><div class=\"sk-parallel-item\"><div class=\"sk-item\"><div class=\"sk-label-container\"><div class=\"sk-label sk-toggleable\"><input class=\"sk-toggleable__control sk-hidden--visually\" id=\"sk-estimator-id-8\" type=\"checkbox\" ><label for=\"sk-estimator-id-8\" class=\"sk-toggleable__label sk-toggleable__label-arrow\">estimator: AdaBoost</label><div class=\"sk-toggleable__content\"><pre>AdaBoost()</pre></div></div></div><div class=\"sk-serial\"><div class=\"sk-item\"><div class=\"sk-estimator sk-toggleable\"><input class=\"sk-toggleable__control sk-hidden--visually\" id=\"sk-estimator-id-9\" type=\"checkbox\" ><label for=\"sk-estimator-id-9\" class=\"sk-toggleable__label sk-toggleable__label-arrow\">AdaBoost</label><div class=\"sk-toggleable__content\"><pre>AdaBoost()</pre></div></div></div></div></div></div></div></div></div></div>"
      ],
      "text/plain": [
       "GridSearchCV(cv=5, estimator=AdaBoost(), n_jobs=-1,\n",
       "             param_grid={'algorithm': ['SAMME', 'SAMME.R'],\n",
       "                         'learning_rate': [0.01, 0.1, 1, 5, 10],\n",
       "                         'n_estimators': [50, 100, 200]},\n",
       "             return_train_score=True, scoring='accuracy', verbose=10)"
      ]
     },
     "execution_count": 17,
     "metadata": {},
     "output_type": "execute_result"
    }
   ],
   "source": [
    "param_grid = {\n",
    "\t\"n_estimators\": [50, 100, 200],\n",
    "\t\"learning_rate\": [0.01, 0.1, 1, 5, 10],\n",
    "\t\"algorithm\": [\"SAMME\", \"SAMME.R\"]\n",
    "}\n",
    "\n",
    "grid_search = GridSearchCV(AdaBoost(), param_grid, cv=5, scoring=\"accuracy\", return_train_score=True, verbose=10, n_jobs=-1)\n",
    "grid_search.fit(X_train, y_train)"
   ]
  },
  {
   "cell_type": "code",
   "execution_count": 18,
   "metadata": {},
   "outputs": [
    {
     "data": {
      "text/plain": [
       "[(0.7113854837149658,\n",
       "  {'algorithm': 'SAMME', 'learning_rate': 1, 'n_estimators': 200}),\n",
       " (0.7095159747637525,\n",
       "  {'algorithm': 'SAMME', 'learning_rate': 1, 'n_estimators': 100}),\n",
       " (0.7021956637723121,\n",
       "  {'algorithm': 'SAMME', 'learning_rate': 1, 'n_estimators': 50}),\n",
       " (0.6926641720235972,\n",
       "  {'algorithm': 'SAMME.R', 'learning_rate': 1, 'n_estimators': 50}),\n",
       " (0.6924797258249985,\n",
       "  {'algorithm': 'SAMME.R', 'learning_rate': 1, 'n_estimators': 100}),\n",
       " (0.6898204557264989,\n",
       "  {'algorithm': 'SAMME.R', 'learning_rate': 0.1, 'n_estimators': 200}),\n",
       " (0.6890041361293027,\n",
       "  {'algorithm': 'SAMME.R', 'learning_rate': 0.1, 'n_estimators': 100}),\n",
       " (0.6877930763601369,\n",
       "  {'algorithm': 'SAMME.R', 'learning_rate': 1, 'n_estimators': 200}),\n",
       " (0.6869503647150141,\n",
       "  {'algorithm': 'SAMME', 'learning_rate': 0.1, 'n_estimators': 200}),\n",
       " (0.6869240350678314,\n",
       "  {'algorithm': 'SAMME', 'learning_rate': 0.1, 'n_estimators': 50}),\n",
       " (0.6828428288198529,\n",
       "  {'algorithm': 'SAMME', 'learning_rate': 0.1, 'n_estimators': 100}),\n",
       " (0.6793407430749908,\n",
       "  {'algorithm': 'SAMME.R', 'learning_rate': 0.1, 'n_estimators': 50}),\n",
       " (0.6651480960319713,\n",
       "  {'algorithm': 'SAMME.R', 'learning_rate': 0.01, 'n_estimators': 200}),\n",
       " (0.6473221760803389,\n",
       "  {'algorithm': 'SAMME.R', 'learning_rate': 0.01, 'n_estimators': 50}),\n",
       " (0.6473221760803389,\n",
       "  {'algorithm': 'SAMME.R', 'learning_rate': 0.01, 'n_estimators': 100}),\n",
       " (0.6272841878941863,\n",
       "  {'algorithm': 'SAMME', 'learning_rate': 0.01, 'n_estimators': 50}),\n",
       " (0.6272578582470036,\n",
       "  {'algorithm': 'SAMME', 'learning_rate': 0.01, 'n_estimators': 200}),\n",
       " (0.6272051954859302,\n",
       "  {'algorithm': 'SAMME', 'learning_rate': 0.01, 'n_estimators': 100}),\n",
       " (0.4836206575582381,\n",
       "  {'algorithm': 'SAMME', 'learning_rate': 10, 'n_estimators': 100}),\n",
       " (0.45862115503083467,\n",
       "  {'algorithm': 'SAMME', 'learning_rate': 10, 'n_estimators': 200}),\n",
       " (0.4372538576659834,\n",
       "  {'algorithm': 'SAMME', 'learning_rate': 5, 'n_estimators': 100}),\n",
       " (0.42116651603820443,\n",
       "  {'algorithm': 'SAMME', 'learning_rate': 5, 'n_estimators': 200}),\n",
       " (0.39920224462408926,\n",
       "  {'algorithm': 'SAMME', 'learning_rate': 5, 'n_estimators': 50}),\n",
       " (0.3883065027468461,\n",
       "  {'algorithm': 'SAMME', 'learning_rate': 10, 'n_estimators': 50}),\n",
       " (0.1724187325646255,\n",
       "  {'algorithm': 'SAMME.R', 'learning_rate': 10, 'n_estimators': 200}),\n",
       " (0.1720237878568846,\n",
       "  {'algorithm': 'SAMME.R', 'learning_rate': 10, 'n_estimators': 100}),\n",
       " (0.1633086746394017,\n",
       "  {'algorithm': 'SAMME.R', 'learning_rate': 10, 'n_estimators': 50}),\n",
       " (0.07359463298135846,\n",
       "  {'algorithm': 'SAMME.R', 'learning_rate': 5, 'n_estimators': 50}),\n",
       " (0.07359463298135846,\n",
       "  {'algorithm': 'SAMME.R', 'learning_rate': 5, 'n_estimators': 100}),\n",
       " (0.07359463298135846,\n",
       "  {'algorithm': 'SAMME.R', 'learning_rate': 5, 'n_estimators': 200})]"
      ]
     },
     "execution_count": 18,
     "metadata": {},
     "output_type": "execute_result"
    }
   ],
   "source": [
    "sorted(zip(grid_search.cv_results_[\"mean_test_score\"], grid_search.cv_results_[\"params\"]), reverse=True, key=lambda x: x[0])"
   ]
  },
  {
   "cell_type": "markdown",
   "metadata": {},
   "source": [
    "We observe that the SAMME `algorithm` performs better than SAMME.R, and the best `learning_rate` is 1.0. From the random forest, we already know that by increasing `max_depth` we increase the value of the metrics, and that it's irrelevant to choose 100 or 200 `n_estimators`, so we choose 100 that is computationally cheaper.\n",
    "\n",
    "Note: we perform Grid Search instead of Randomized Search because we want to ensure all combinations are made, so that we can see clear relations between parameters if there exist (we weren't able to find any)."
   ]
  },
  {
   "cell_type": "code",
   "execution_count": 3,
   "metadata": {},
   "outputs": [
    {
     "data": {
      "text/plain": [
       "{'accuracy': 0.6969457609268036,\n",
       " 'precision': 0.5751211631663974,\n",
       " 'recall': 0.624561403508772,\n",
       " 'f1': 0.5988225399495374}"
      ]
     },
     "execution_count": 3,
     "metadata": {},
     "output_type": "execute_result"
    }
   ],
   "source": [
    "model = AdaBoost(n_estimators=100, max_depth=4, learning_rate=1.0, algorithm=\"SAMME\")\n",
    "X_train2, X_val, y_train2, y_val = train_test_split(X_train, y_train, test_size=0.2, random_state=42)\n",
    "model.fit(X_train2, y_train2)\n",
    "model.compute_metrics(X_val, y_val)"
   ]
  },
  {
   "cell_type": "code",
   "execution_count": 27,
   "metadata": {},
   "outputs": [
    {
     "data": {
      "text/html": [
       "<div>\n",
       "<style scoped>\n",
       "    .dataframe tbody tr th:only-of-type {\n",
       "        vertical-align: middle;\n",
       "    }\n",
       "\n",
       "    .dataframe tbody tr th {\n",
       "        vertical-align: top;\n",
       "    }\n",
       "\n",
       "    .dataframe thead th {\n",
       "        text-align: right;\n",
       "    }\n",
       "</style>\n",
       "<table border=\"1\" class=\"dataframe\">\n",
       "  <thead>\n",
       "    <tr style=\"text-align: right;\">\n",
       "      <th></th>\n",
       "      <th>y_val</th>\n",
       "      <th>y_pred</th>\n",
       "    </tr>\n",
       "  </thead>\n",
       "  <tbody>\n",
       "    <tr>\n",
       "      <th>2</th>\n",
       "      <td>3195</td>\n",
       "      <td>3547</td>\n",
       "    </tr>\n",
       "    <tr>\n",
       "      <th>3</th>\n",
       "      <td>1978</td>\n",
       "      <td>1977</td>\n",
       "    </tr>\n",
       "    <tr>\n",
       "      <th>4</th>\n",
       "      <td>1801</td>\n",
       "      <td>1419</td>\n",
       "    </tr>\n",
       "    <tr>\n",
       "      <th>1</th>\n",
       "      <td>570</td>\n",
       "      <td>619</td>\n",
       "    </tr>\n",
       "    <tr>\n",
       "      <th>0</th>\n",
       "      <td>52</td>\n",
       "      <td>34</td>\n",
       "    </tr>\n",
       "  </tbody>\n",
       "</table>\n",
       "</div>"
      ],
      "text/plain": [
       "   y_val  y_pred\n",
       "2   3195    3547\n",
       "3   1978    1977\n",
       "4   1801    1419\n",
       "1    570     619\n",
       "0     52      34"
      ]
     },
     "execution_count": 27,
     "metadata": {},
     "output_type": "execute_result"
    }
   ],
   "source": [
    "result_df = pd.DataFrame({\"y_val\": y_val, \"y_pred\": model.predict(X_val)})\n",
    "result_counts = result_df.apply(pd.Series.value_counts)\n",
    "result_counts"
   ]
  },
  {
   "cell_type": "markdown",
   "metadata": {},
   "source": [
    "Unlike Random Forest, AdaBoost doesn't need balanced class weigths, the frequency of each class in the prediction is already proportional to the one in the training set.\n",
    "\n",
    "Now we increase the `max_depth` as we did with Random Forest."
   ]
  },
  {
   "cell_type": "code",
   "execution_count": 38,
   "metadata": {},
   "outputs": [
    {
     "data": {
      "text/plain": [
       "{'accuracy': 0.7740916271721959,\n",
       " 'precision': 0.7634615384615384,\n",
       " 'recall': 0.6964912280701754,\n",
       " 'f1': 0.7284403669724769}"
      ]
     },
     "execution_count": 38,
     "metadata": {},
     "output_type": "execute_result"
    }
   ],
   "source": [
    "model = AdaBoost(n_estimators=100, max_depth=15, learning_rate=1.0, algorithm=\"SAMME\")\n",
    "model.fit(X_train2, y_train2)\n",
    "model.compute_metrics(X_val, y_val)"
   ]
  },
  {
   "cell_type": "markdown",
   "metadata": {},
   "source": [
    "As expected, all metrics have increased as the model complexity increased. Finally, we test the model."
   ]
  },
  {
   "cell_type": "code",
   "execution_count": 41,
   "metadata": {},
   "outputs": [
    {
     "data": {
      "text/plain": [
       "{'accuracy': 0.7712480252764613,\n",
       " 'precision': 0.8097643097643098,\n",
       " 'recall': 0.6526458616010855,\n",
       " 'f1': 0.7227648384673178}"
      ]
     },
     "execution_count": 41,
     "metadata": {},
     "output_type": "execute_result"
    }
   ],
   "source": [
    "model1 = AdaBoost(n_estimators=100, max_depth=15, learning_rate=1.0, algorithm=\"SAMME\")\n",
    "model1.fit(X_train, y_train)\n",
    "model1.compute_metrics(X_test, y_test)"
   ]
  },
  {
   "cell_type": "code",
   "execution_count": 42,
   "metadata": {},
   "outputs": [
    {
     "data": {
      "image/png": "[encoded data removed]",
      "text/plain": [
       "<Figure size 500x400 with 2 Axes>"
      ]
     },
     "metadata": {},
     "output_type": "display_data"
    }
   ],
   "source": [
    "import matplotlib.pyplot as plt\n",
    "import seaborn as sns\n",
    "\n",
    "conf_mat = model1.conf_matrix(X_test, y_test)\n",
    "plt.figure(figsize=(5, 4))\n",
    "sns.heatmap(conf_mat, annot=True, fmt=\"d\", cmap=\"Blues\")\n",
    "plt.title(\"AdaBoost\")\n",
    "plt.xlabel(\"Predicted\")\n",
    "plt.ylabel(\"Actual\")\n",
    "plt.show()"
   ]
  },
  {
   "cell_type": "code",
   "execution_count": 43,
   "metadata": {},
   "outputs": [
    {
     "name": "stdout",
     "output_type": "stream",
     "text": [
      "accuracy -0.0032648762506581885\n",
      "precision 0.03690295283215639\n",
      "recall -0.05834464043419263\n",
      "f1 -0.017871203935509117\n",
      "confusion matrix [[  -3    1    0   -2    4]\n",
      " [   0  -43   -1   -6   50]\n",
      " [  -1    0  -42  -15   58]\n",
      " [   0  -12  -14  -73   99]\n",
      " [   1  -30   13 -114  130]]\n"
     ]
    }
   ],
   "source": [
    "from src.randomforest import RandomForest\n",
    "model2 = RandomForest(n_estimators=100, max_depth=16, bootstrap=True, class_weight=\"balanced\")\n",
    "model2.fit(X_train, y_train)\n",
    "diff = model1.compare(model2, X_test, y_test)"
   ]
  },
  {
   "cell_type": "code",
   "execution_count": 53,
   "metadata": {},
   "outputs": [
    {
     "data": {
      "image/png": "[encoded data removed]",
      "text/plain": [
       "<Figure size 500x400 with 3 Axes>"
      ]
     },
     "metadata": {},
     "output_type": "display_data"
    }
   ],
   "source": [
    "import numpy as np\n",
    "\n",
    "conf_mat_diff = diff[\"confusion matrix\"]\n",
    "\n",
    "mask = np.eye(conf_mat_diff.shape[0], dtype=bool)\n",
    "cmap_diag = sns.diverging_palette(250, 10, s=90, l=50, as_cmap=True)\n",
    "cmap_offdiag = sns.diverging_palette(10, 250, s=90, l=50, as_cmap=True)\n",
    "\n",
    "plt.figure(figsize=(5, 4))\n",
    "sns.heatmap(conf_mat_diff, mask=mask, annot=True, fmt=\"d\", cmap=cmap_diag, center=0)\n",
    "sns.heatmap(conf_mat_diff, mask=~mask, annot=True, fmt=\"d\", cmap=cmap_offdiag, center=0)\n",
    "plt.title(\"AdaBoost - RandomForest\")\n",
    "plt.xlabel(\"Predicted\")\n",
    "plt.ylabel(\"Actual\")\n",
    "plt.show()"
   ]
  },
  {
   "cell_type": "markdown",
   "metadata": {},
   "source": [
    "Colors meaning: Blue means better; red means worse. Normally we want higher values in the diagonal, but we got less with AdaBoost than with Random Forest, that's why it's red. For the rest of the matrix, we want lower values, ideally 0.\n",
    "\n",
    "Looking by rows, we observe that the precision lost in all classes is gained in class 4 (the one with the most frequency). Below we confirm this."
   ]
  },
  {
   "cell_type": "code",
   "execution_count": 54,
   "metadata": {},
   "outputs": [
    {
     "data": {
      "text/html": [
       "<div>\n",
       "<style scoped>\n",
       "    .dataframe tbody tr th:only-of-type {\n",
       "        vertical-align: middle;\n",
       "    }\n",
       "\n",
       "    .dataframe tbody tr th {\n",
       "        vertical-align: top;\n",
       "    }\n",
       "\n",
       "    .dataframe thead th {\n",
       "        text-align: right;\n",
       "    }\n",
       "</style>\n",
       "<table border=\"1\" class=\"dataframe\">\n",
       "  <thead>\n",
       "    <tr style=\"text-align: right;\">\n",
       "      <th></th>\n",
       "      <th>y_test</th>\n",
       "      <th>y_pred</th>\n",
       "    </tr>\n",
       "  </thead>\n",
       "  <tbody>\n",
       "    <tr>\n",
       "      <th>2</th>\n",
       "      <td>4104</td>\n",
       "      <td>4574</td>\n",
       "    </tr>\n",
       "    <tr>\n",
       "      <th>3</th>\n",
       "      <td>2413</td>\n",
       "      <td>2587</td>\n",
       "    </tr>\n",
       "    <tr>\n",
       "      <th>4</th>\n",
       "      <td>2179</td>\n",
       "      <td>1697</td>\n",
       "    </tr>\n",
       "    <tr>\n",
       "      <th>1</th>\n",
       "      <td>737</td>\n",
       "      <td>594</td>\n",
       "    </tr>\n",
       "    <tr>\n",
       "      <th>0</th>\n",
       "      <td>62</td>\n",
       "      <td>43</td>\n",
       "    </tr>\n",
       "  </tbody>\n",
       "</table>\n",
       "</div>"
      ],
      "text/plain": [
       "   y_test  y_pred\n",
       "2    4104    4574\n",
       "3    2413    2587\n",
       "4    2179    1697\n",
       "1     737     594\n",
       "0      62      43"
      ]
     },
     "execution_count": 54,
     "metadata": {},
     "output_type": "execute_result"
    }
   ],
   "source": [
    "result_df = pd.DataFrame({\"y_test\": y_test, \"y_pred\": model1.predict(X_test)})\n",
    "result_counts = result_df.apply(pd.Series.value_counts)\n",
    "result_counts"
   ]
  },
  {
   "cell_type": "markdown",
   "metadata": {},
   "source": [
    "Overall, AdaBoost performed worse than Random Forest. The only metric that increased was precision, which we dismiss because we saw it was because of a trend of the model in predicting class 4 more than others."
   ]
  }
 ],
 "metadata": {
  "kernelspec": {
   "display_name": "base",
   "language": "python",
   "name": "python3"
  },
  "language_info": {
   "codemirror_mode": {
    "name": "ipython",
    "version": 3
   },
   "file_extension": ".py",
   "mimetype": "text/x-python",
   "name": "python",
   "nbconvert_exporter": "python",
   "pygments_lexer": "ipython3",
   "version": "3.9.17"
  }
 },
 "nbformat": 4,
 "nbformat_minor": 2
}
