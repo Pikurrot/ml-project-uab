{
 "cells": [
  {
   "cell_type": "markdown",
   "metadata": {},
   "source": [
    "# Naive Bayes Classifier"
   ]
  },
  {
   "cell_type": "code",
   "execution_count": 1,
   "metadata": {},
   "outputs": [],
   "source": [
    "import pandas as pd\n",
    "from sklearn.model_selection import GridSearchCV, RandomizedSearchCV, train_test_split\n",
    "from src.naive_bayes import GNaiveBayes\n",
    "import src.utils as utils"
   ]
  },
  {
   "cell_type": "markdown",
   "metadata": {},
   "source": [
    "## Load Data Without Outliers"
   ]
  },
  {
   "cell_type": "code",
   "execution_count": 2,
   "metadata": {},
   "outputs": [],
   "source": [
    "df = pd.read_csv('data/diamonds.csv')\n",
    "X_train, X_test, y_train, y_test = utils.preprocessing_LOS(df)"
   ]
  },
  {
   "cell_type": "markdown",
   "metadata": {},
   "source": [
    "Create a **Gaussian Naive Bayes Classifier** and split our data into training set and validation set."
   ]
  },
  {
   "cell_type": "code",
   "execution_count": 3,
   "metadata": {},
   "outputs": [],
   "source": [
    "gnb = GNaiveBayes(random_state=42)\n",
    "# Cross validation with 20% validation set\n",
    "X_train2, X_val, y_train2, y_val = train_test_split(X_train, y_train, test_size=0.2, random_state=42)"
   ]
  },
  {
   "cell_type": "markdown",
   "metadata": {},
   "source": [
    "Let's fit the `gnb` model we just created to our training set and see how well it can perform."
   ]
  },
  {
   "cell_type": "code",
   "execution_count": 4,
   "metadata": {},
   "outputs": [
    {
     "name": "stdout",
     "output_type": "stream",
     "text": [
      "Score on validation set:  0.6048387096774194\n"
     ]
    },
    {
     "data": {
      "text/plain": [
       "{'precision': 0.508588430512589,\n",
       " 'recall': 0.44299168983161435,\n",
       " 'f1': 0.45595493637900775}"
      ]
     },
     "execution_count": 4,
     "metadata": {},
     "output_type": "execute_result"
    }
   ],
   "source": [
    "gnb.fit(X_train2, y_train2)\n",
    "score = gnb.score(X_val, y_val)\n",
    "print(\"Score on validation set: \", score)\n",
    "r = gnb.compute_metrics(X_val, y_val)\n",
    "del r['accuracy']\n",
    "r"
   ]
  },
  {
   "cell_type": "markdown",
   "metadata": {},
   "source": [
    "The score seems to be really low. We have to check which features are important in order to get an understanding on the problem. \n",
    "\n",
    "That way we will remove noise and redundancy in our data, potentially increasing the score.\n",
    "\n",
    "To compute the importances, we'll use **permutation** importance in which the values of every specific feature will be shuffled randomly (permuted), breaking the original relationship that feature had with the target variable (cut)."
   ]
  },
  {
   "cell_type": "code",
   "execution_count": 334,
   "metadata": {},
   "outputs": [
    {
     "name": "stdout",
     "output_type": "stream",
     "text": [
      "+---------+-----------------------+\n",
      "| Feature |       Importance      |\n",
      "+---------+-----------------------+\n",
      "|  carat  | -0.019807564698075653 |\n",
      "|  color  | -0.000962176509621715 |\n",
      "| clarity | 0.0006303915063039511 |\n",
      "|  depth  |  0.09157266091572669  |\n",
      "|  table  |   0.1556403450564035  |\n",
      "|  price  |  -0.01403450564034503 |\n",
      "|    x    | -0.018447246184472466 |\n",
      "|    y    |  -0.01725282017252816 |\n",
      "|    z    |  -0.01615792966157925 |\n",
      "+---------+-----------------------+\n"
     ]
    }
   ],
   "source": [
    "from prettytable import PrettyTable\n",
    "import warnings\n",
    "\n",
    "# Get feature names\n",
    "features = list(X_train2.columns)\n",
    "\n",
    "# Calculate permutation importance\n",
    "importance = gnb.calculate_permutation_importance(X_train2, y_train2, random_state=6)\n",
    "\n",
    "# Add feature names and importance values to dictionary\n",
    "def interpret_feature_importance(importance_array, feature_names):\n",
    "    \"\"\"\n",
    "    Interpret feature importance array.\n",
    "\n",
    "    Parameters:\n",
    "    importance_array : array-like/list, shape (n_features,)\n",
    "        Feature importances based on permutation importance.\n",
    "    feature_names : array-like/list, shape (n_features,)\n",
    "        Feature names.\n",
    "\n",
    "    Returns:\n",
    "    feature_importance : dict, shape (n_features,)\n",
    "        Feature importances based on permutation importance.\n",
    "        \"\"\"\n",
    "    dict_importance = {}\n",
    "    for i in range(len(importance_array)):\n",
    "        dict_importance[feature_names[i]] = importance_array[i]\n",
    "    return dict_importance\n",
    "\n",
    "# Get feature importances in a dictionary\n",
    "results = interpret_feature_importance(importance, features)\n",
    "\n",
    "# Create a PrettyTable object\n",
    "table = PrettyTable()\n",
    "\n",
    "# Define columns\n",
    "table.field_names = [\"Feature\", \"Importance\"]\n",
    "\n",
    "# Add data to the table\n",
    "for feature, importance in results.items():\n",
    "    table.add_row([feature, importance])\n",
    "\n",
    "# Print the table\n",
    "print(table)\n",
    "\n",
    "# To ignore UserWarning\n",
    "warnings.filterwarnings(\"ignore\", category=UserWarning)\n"
   ]
  },
  {
   "cell_type": "markdown",
   "metadata": {},
   "source": [
    "As we can see, the features that have **negative values** suggest that they might have a negative impact on the model's performance. They are less relevant and can even introduce noise in the model. The features with **positive values** indicate that they have a stronger influence on the model's performance and are important in predicting the target variable. "
   ]
  },
  {
   "cell_type": "markdown",
   "metadata": {},
   "source": [
    "## Managing importance of features"
   ]
  },
  {
   "cell_type": "markdown",
   "metadata": {},
   "source": [
    "We'll set an initial threshold of 0.01 to get some features out of the data we train."
   ]
  },
  {
   "cell_type": "code",
   "execution_count": 335,
   "metadata": {},
   "outputs": [
    {
     "name": "stdout",
     "output_type": "stream",
     "text": [
      "Features left:  ['depth', 'table']\n"
     ]
    }
   ],
   "source": [
    "# Threshold for importance\n",
    "threshold = 0.01\n",
    "\n",
    "# Get features with importance >= threshold\n",
    "selected_features = [feat for feat, importance in results.items() if importance >= threshold]\n",
    "\n",
    "# Features to drop\n",
    "features_to_drop = [feat for feat in results if feat not in selected_features]\n",
    "\n",
    "# Drop less important features from X_train based on the threshold\n",
    "X_train_dropped = X_train.drop(features_to_drop, axis=1)\n",
    "\n",
    "# Split the modified X_train_dropped and y_train into training and validation sets\n",
    "X_train2, X_val, y_train2, y_val = train_test_split(X_train_dropped, y_train, test_size=0.2, random_state=42)\n",
    "\n",
    "features = list(X_train2.columns)\n",
    "print(\"Features left: \", features)"
   ]
  },
  {
   "cell_type": "markdown",
   "metadata": {},
   "source": [
    "The only features left on our data are **depth** and **table** which are supposedly the most important for our problem.\n",
    "\n",
    "Let's see how the model performs now that we dropped all redundant features in the dataset."
   ]
  },
  {
   "cell_type": "code",
   "execution_count": 5,
   "metadata": {},
   "outputs": [
    {
     "name": "stdout",
     "output_type": "stream",
     "text": [
      "Score on validation set after dropping features:  0.6048387096774194\n"
     ]
    }
   ],
   "source": [
    "gnn = GNaiveBayes(random_state=42)\n",
    "\n",
    "# Fit the model on the modified training set\n",
    "gnn.fit(X_train2, y_train2)\n",
    "\n",
    "score = gnn.score(X_val, y_val)\n",
    "print(\"Score on validation set after dropping features: \", score)"
   ]
  },
  {
   "cell_type": "markdown",
   "metadata": {},
   "source": [
    "We increased the accuracy up to 0.67 aprox. However, the score seems to keep being low for our specific problem.\n",
    "\n",
    "Let's compute the rest of the metrics (precision, recall and f1-score)."
   ]
  },
  {
   "cell_type": "code",
   "execution_count": 6,
   "metadata": {},
   "outputs": [
    {
     "data": {
      "text/plain": [
       "{'precision': 0.508588430512589,\n",
       " 'recall': 0.44299168983161435,\n",
       " 'f1': 0.45595493637900775}"
      ]
     },
     "execution_count": 6,
     "metadata": {},
     "output_type": "execute_result"
    }
   ],
   "source": [
    "l = gnn.compute_metrics(X_val, y_val)\n",
    "del l['accuracy']\n",
    "l"
   ]
  },
  {
   "cell_type": "markdown",
   "metadata": {},
   "source": [
    "The recall and f1 scores went down quite a bit (although they were already low previously).\n",
    "\n",
    "Overall, both versions of the model (with and without managing feature importance) have performed below our expectations."
   ]
  },
  {
   "cell_type": "code",
   "execution_count": 8,
   "metadata": {},
   "outputs": [
    {
     "data": {
      "text/plain": [
       "{'accuracy': 0.593010752688172,\n",
       " 'precision': 0.509913701231699,\n",
       " 'recall': 0.4231474557668853,\n",
       " 'f1': 0.4349738310889887}"
      ]
     },
     "execution_count": 8,
     "metadata": {},
     "output_type": "execute_result"
    }
   ],
   "source": [
    "gnn = GNaiveBayes()\n",
    "gnn.fit(X_train, y_train)\n",
    "gnn.compute_metrics(X_test, y_test)"
   ]
  },
  {
   "cell_type": "code",
   "execution_count": 7,
   "metadata": {},
   "outputs": [
    {
     "data": {
      "image/png": "[encoded data removed]",
      "text/plain": [
       "<Figure size 500x400 with 2 Axes>"
      ]
     },
     "metadata": {},
     "output_type": "display_data"
    }
   ],
   "source": [
    "import matplotlib.pyplot as plt\n",
    "import seaborn as sns\n",
    "\n",
    "conf_matrix = gnb.conf_matrix(X_test, y_test)\n",
    "plt.figure(figsize=(5, 4))\n",
    "sns.heatmap(conf_matrix, annot=True, fmt=\"d\", cmap=\"gist_earth\")\n",
    "plt.title(\"Confusion Matrix\")\n",
    "plt.xlabel(\"Predicted\")\n",
    "plt.ylabel(\"Actual\")\n",
    "plt.show()"
   ]
  },
  {
   "cell_type": "markdown",
   "metadata": {},
   "source": [
    "We won't continue with Naïve Bayes, it's not suitable for our problem."
   ]
  }
 ],
 "metadata": {
  "kernelspec": {
   "display_name": "base",
   "language": "python",
   "name": "python3"
  },
  "language_info": {
   "codemirror_mode": {
    "name": "ipython",
    "version": 3
   },
   "file_extension": ".py",
   "mimetype": "text/x-python",
   "name": "python",
   "nbconvert_exporter": "python",
   "pygments_lexer": "ipython3",
   "version": "3.9.17"
  }
 },
 "nbformat": 4,
 "nbformat_minor": 2
}
