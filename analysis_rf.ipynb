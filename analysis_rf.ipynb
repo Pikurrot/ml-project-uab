{
 "cells": [
  {
   "cell_type": "markdown",
   "metadata": {},
   "source": [
    "# Random Forest"
   ]
  },
  {
   "cell_type": "code",
   "execution_count": 1,
   "metadata": {},
   "outputs": [],
   "source": [
    "import pandas as pd\n",
    "from sklearn.model_selection import GridSearchCV, RandomizedSearchCV, train_test_split\n",
    "from src.randomforest import RandomForest\n",
    "import src.utils as utils"
   ]
  },
  {
   "cell_type": "markdown",
   "metadata": {},
   "source": [
    "### Without outliers"
   ]
  },
  {
   "cell_type": "code",
   "execution_count": 2,
   "metadata": {},
   "outputs": [],
   "source": [
    "df = pd.read_csv(\"data/diamonds.csv\")\n",
    "X_train, X_test, y_train, y_test = utils.preprocessing_LOS(df)"
   ]
  },
  {
   "cell_type": "code",
   "execution_count": 7,
   "metadata": {},
   "outputs": [
    {
     "name": "stdout",
     "output_type": "stream",
     "text": [
      "Fitting 5 folds for each of 24 candidates, totalling 120 fits\n",
      "[CV 1/5; 1/24] START bootstrap=True, max_depth=2, n_estimators=10...............\n",
      "[CV 1/5; 1/24] END bootstrap=True, max_depth=2, n_estimators=10;, score=(train=0.578, test=0.577) total time=   0.0s\n",
      "[CV 2/5; 1/24] START bootstrap=True, max_depth=2, n_estimators=10...............\n",
      "[CV 2/5; 1/24] END bootstrap=True, max_depth=2, n_estimators=10;, score=(train=0.576, test=0.573) total time=   0.0s\n",
      "[CV 3/5; 1/24] START bootstrap=True, max_depth=2, n_estimators=10...............\n",
      "[CV 3/5; 1/24] END bootstrap=True, max_depth=2, n_estimators=10;, score=(train=0.575, test=0.581) total time=   0.0s\n",
      "[CV 4/5; 1/24] START bootstrap=True, max_depth=2, n_estimators=10...............\n",
      "[CV 4/5; 1/24] END bootstrap=True, max_depth=2, n_estimators=10;, score=(train=0.577, test=0.575) total time=   0.0s\n",
      "[CV 5/5; 1/24] START bootstrap=True, max_depth=2, n_estimators=10...............\n",
      "[CV 5/5; 1/24] END bootstrap=True, max_depth=2, n_estimators=10;, score=(train=0.603, test=0.597) total time=   0.0s\n",
      "[CV 1/5; 2/24] START bootstrap=True, max_depth=2, n_estimators=50...............\n",
      "[CV 1/5; 2/24] END bootstrap=True, max_depth=2, n_estimators=50;, score=(train=0.657, test=0.657) total time=   0.1s\n",
      "[CV 2/5; 2/24] START bootstrap=True, max_depth=2, n_estimators=50...............\n",
      "[CV 2/5; 2/24] END bootstrap=True, max_depth=2, n_estimators=50;, score=(train=0.657, test=0.659) total time=   0.1s\n",
      "[CV 3/5; 2/24] START bootstrap=True, max_depth=2, n_estimators=50...............\n",
      "[CV 3/5; 2/24] END bootstrap=True, max_depth=2, n_estimators=50;, score=(train=0.662, test=0.663) total time=   0.1s\n",
      "[CV 4/5; 2/24] START bootstrap=True, max_depth=2, n_estimators=50...............\n",
      "[CV 4/5; 2/24] END bootstrap=True, max_depth=2, n_estimators=50;, score=(train=0.662, test=0.662) total time=   0.1s\n",
      "[CV 5/5; 2/24] START bootstrap=True, max_depth=2, n_estimators=50...............\n",
      "[CV 5/5; 2/24] END bootstrap=True, max_depth=2, n_estimators=50;, score=(train=0.663, test=0.660) total time=   0.1s\n",
      "[CV 1/5; 3/24] START bootstrap=True, max_depth=2, n_estimators=100..............\n",
      "[CV 1/5; 3/24] END bootstrap=True, max_depth=2, n_estimators=100;, score=(train=0.667, test=0.668) total time=   0.2s\n",
      "[CV 2/5; 3/24] START bootstrap=True, max_depth=2, n_estimators=100..............\n",
      "[CV 2/5; 3/24] END bootstrap=True, max_depth=2, n_estimators=100;, score=(train=0.664, test=0.666) total time=   0.2s\n",
      "[CV 3/5; 3/24] START bootstrap=True, max_depth=2, n_estimators=100..............\n",
      "[CV 3/5; 3/24] END bootstrap=True, max_depth=2, n_estimators=100;, score=(train=0.665, test=0.665) total time=   0.3s\n",
      "[CV 4/5; 3/24] START bootstrap=True, max_depth=2, n_estimators=100..............\n",
      "[CV 4/5; 3/24] END bootstrap=True, max_depth=2, n_estimators=100;, score=(train=0.666, test=0.664) total time=   0.3s\n",
      "[CV 5/5; 3/24] START bootstrap=True, max_depth=2, n_estimators=100..............\n",
      "[CV 5/5; 3/24] END bootstrap=True, max_depth=2, n_estimators=100;, score=(train=0.666, test=0.663) total time=   0.2s\n",
      "[CV 1/5; 4/24] START bootstrap=True, max_depth=2, n_estimators=200..............\n",
      "[CV 1/5; 4/24] END bootstrap=True, max_depth=2, n_estimators=200;, score=(train=0.669, test=0.671) total time=   0.5s\n",
      "[CV 2/5; 4/24] START bootstrap=True, max_depth=2, n_estimators=200..............\n",
      "[CV 2/5; 4/24] END bootstrap=True, max_depth=2, n_estimators=200;, score=(train=0.668, test=0.671) total time=   0.5s\n",
      "[CV 3/5; 4/24] START bootstrap=True, max_depth=2, n_estimators=200..............\n",
      "[CV 3/5; 4/24] END bootstrap=True, max_depth=2, n_estimators=200;, score=(train=0.669, test=0.669) total time=   0.5s\n",
      "[CV 4/5; 4/24] START bootstrap=True, max_depth=2, n_estimators=200..............\n",
      "[CV 4/5; 4/24] END bootstrap=True, max_depth=2, n_estimators=200;, score=(train=0.669, test=0.668) total time=   0.5s\n",
      "[CV 5/5; 4/24] START bootstrap=True, max_depth=2, n_estimators=200..............\n",
      "[CV 5/5; 4/24] END bootstrap=True, max_depth=2, n_estimators=200;, score=(train=0.670, test=0.666) total time=   0.5s\n",
      "[CV 1/5; 5/24] START bootstrap=True, max_depth=3, n_estimators=10...............\n",
      "[CV 1/5; 5/24] END bootstrap=True, max_depth=3, n_estimators=10;, score=(train=0.696, test=0.694) total time=   0.0s\n",
      "[CV 2/5; 5/24] START bootstrap=True, max_depth=3, n_estimators=10...............\n",
      "[CV 2/5; 5/24] END bootstrap=True, max_depth=3, n_estimators=10;, score=(train=0.693, test=0.697) total time=   0.0s\n",
      "[CV 3/5; 5/24] START bootstrap=True, max_depth=3, n_estimators=10...............\n",
      "[CV 3/5; 5/24] END bootstrap=True, max_depth=3, n_estimators=10;, score=(train=0.696, test=0.694) total time=   0.0s\n",
      "[CV 4/5; 5/24] START bootstrap=True, max_depth=3, n_estimators=10...............\n",
      "[CV 4/5; 5/24] END bootstrap=True, max_depth=3, n_estimators=10;, score=(train=0.694, test=0.694) total time=   0.0s\n",
      "[CV 5/5; 5/24] START bootstrap=True, max_depth=3, n_estimators=10...............\n",
      "[CV 5/5; 5/24] END bootstrap=True, max_depth=3, n_estimators=10;, score=(train=0.696, test=0.690) total time=   0.0s\n",
      "[CV 1/5; 6/24] START bootstrap=True, max_depth=3, n_estimators=50...............\n",
      "[CV 1/5; 6/24] END bootstrap=True, max_depth=3, n_estimators=50;, score=(train=0.716, test=0.714) total time=   0.1s\n",
      "[CV 2/5; 6/24] START bootstrap=True, max_depth=3, n_estimators=50...............\n",
      "[CV 2/5; 6/24] END bootstrap=True, max_depth=3, n_estimators=50;, score=(train=0.715, test=0.723) total time=   0.1s\n",
      "[CV 3/5; 6/24] START bootstrap=True, max_depth=3, n_estimators=50...............\n",
      "[CV 3/5; 6/24] END bootstrap=True, max_depth=3, n_estimators=50;, score=(train=0.717, test=0.715) total time=   0.1s\n",
      "[CV 4/5; 6/24] START bootstrap=True, max_depth=3, n_estimators=50...............\n",
      "[CV 4/5; 6/24] END bootstrap=True, max_depth=3, n_estimators=50;, score=(train=0.717, test=0.717) total time=   0.1s\n",
      "[CV 5/5; 6/24] START bootstrap=True, max_depth=3, n_estimators=50...............\n",
      "[CV 5/5; 6/24] END bootstrap=True, max_depth=3, n_estimators=50;, score=(train=0.717, test=0.712) total time=   0.1s\n",
      "[CV 1/5; 7/24] START bootstrap=True, max_depth=3, n_estimators=100..............\n",
      "[CV 1/5; 7/24] END bootstrap=True, max_depth=3, n_estimators=100;, score=(train=0.716, test=0.714) total time=   0.3s\n",
      "[CV 2/5; 7/24] START bootstrap=True, max_depth=3, n_estimators=100..............\n",
      "[CV 2/5; 7/24] END bootstrap=True, max_depth=3, n_estimators=100;, score=(train=0.714, test=0.723) total time=   0.3s\n",
      "[CV 3/5; 7/24] START bootstrap=True, max_depth=3, n_estimators=100..............\n",
      "[CV 3/5; 7/24] END bootstrap=True, max_depth=3, n_estimators=100;, score=(train=0.716, test=0.714) total time=   0.3s\n",
      "[CV 4/5; 7/24] START bootstrap=True, max_depth=3, n_estimators=100..............\n",
      "[CV 4/5; 7/24] END bootstrap=True, max_depth=3, n_estimators=100;, score=(train=0.716, test=0.716) total time=   0.3s\n",
      "[CV 5/5; 7/24] START bootstrap=True, max_depth=3, n_estimators=100..............\n",
      "[CV 5/5; 7/24] END bootstrap=True, max_depth=3, n_estimators=100;, score=(train=0.717, test=0.711) total time=   0.3s\n",
      "[CV 1/5; 8/24] START bootstrap=True, max_depth=3, n_estimators=200..............\n",
      "[CV 1/5; 8/24] END bootstrap=True, max_depth=3, n_estimators=200;, score=(train=0.717, test=0.715) total time=   0.6s\n",
      "[CV 2/5; 8/24] START bootstrap=True, max_depth=3, n_estimators=200..............\n",
      "[CV 2/5; 8/24] END bootstrap=True, max_depth=3, n_estimators=200;, score=(train=0.714, test=0.723) total time=   0.6s\n",
      "[CV 3/5; 8/24] START bootstrap=True, max_depth=3, n_estimators=200..............\n",
      "[CV 3/5; 8/24] END bootstrap=True, max_depth=3, n_estimators=200;, score=(train=0.716, test=0.715) total time=   0.6s\n",
      "[CV 4/5; 8/24] START bootstrap=True, max_depth=3, n_estimators=200..............\n",
      "[CV 4/5; 8/24] END bootstrap=True, max_depth=3, n_estimators=200;, score=(train=0.716, test=0.716) total time=   0.6s\n",
      "[CV 5/5; 8/24] START bootstrap=True, max_depth=3, n_estimators=200..............\n",
      "[CV 5/5; 8/24] END bootstrap=True, max_depth=3, n_estimators=200;, score=(train=0.717, test=0.712) total time=   0.6s\n",
      "[CV 1/5; 9/24] START bootstrap=True, max_depth=4, n_estimators=10...............\n",
      "[CV 1/5; 9/24] END bootstrap=True, max_depth=4, n_estimators=10;, score=(train=0.716, test=0.715) total time=   0.0s\n",
      "[CV 2/5; 9/24] START bootstrap=True, max_depth=4, n_estimators=10...............\n",
      "[CV 2/5; 9/24] END bootstrap=True, max_depth=4, n_estimators=10;, score=(train=0.715, test=0.722) total time=   0.0s\n",
      "[CV 3/5; 9/24] START bootstrap=True, max_depth=4, n_estimators=10...............\n",
      "[CV 3/5; 9/24] END bootstrap=True, max_depth=4, n_estimators=10;, score=(train=0.716, test=0.714) total time=   0.0s\n",
      "[CV 4/5; 9/24] START bootstrap=True, max_depth=4, n_estimators=10...............\n",
      "[CV 4/5; 9/24] END bootstrap=True, max_depth=4, n_estimators=10;, score=(train=0.716, test=0.716) total time=   0.0s\n",
      "[CV 5/5; 9/24] START bootstrap=True, max_depth=4, n_estimators=10...............\n",
      "[CV 5/5; 9/24] END bootstrap=True, max_depth=4, n_estimators=10;, score=(train=0.721, test=0.715) total time=   0.0s\n",
      "[CV 1/5; 10/24] START bootstrap=True, max_depth=4, n_estimators=50..............\n",
      "[CV 1/5; 10/24] END bootstrap=True, max_depth=4, n_estimators=50;, score=(train=0.717, test=0.716) total time=   0.1s\n",
      "[CV 2/5; 10/24] START bootstrap=True, max_depth=4, n_estimators=50..............\n",
      "[CV 2/5; 10/24] END bootstrap=True, max_depth=4, n_estimators=50;, score=(train=0.716, test=0.724) total time=   0.1s\n",
      "[CV 3/5; 10/24] START bootstrap=True, max_depth=4, n_estimators=50..............\n",
      "[CV 3/5; 10/24] END bootstrap=True, max_depth=4, n_estimators=50;, score=(train=0.717, test=0.715) total time=   0.1s\n",
      "[CV 4/5; 10/24] START bootstrap=True, max_depth=4, n_estimators=50..............\n",
      "[CV 4/5; 10/24] END bootstrap=True, max_depth=4, n_estimators=50;, score=(train=0.717, test=0.717) total time=   0.1s\n",
      "[CV 5/5; 10/24] START bootstrap=True, max_depth=4, n_estimators=50..............\n",
      "[CV 5/5; 10/24] END bootstrap=True, max_depth=4, n_estimators=50;, score=(train=0.718, test=0.712) total time=   0.1s\n",
      "[CV 1/5; 11/24] START bootstrap=True, max_depth=4, n_estimators=100.............\n",
      "[CV 1/5; 11/24] END bootstrap=True, max_depth=4, n_estimators=100;, score=(train=0.719, test=0.717) total time=   0.3s\n",
      "[CV 2/5; 11/24] START bootstrap=True, max_depth=4, n_estimators=100.............\n",
      "[CV 2/5; 11/24] END bootstrap=True, max_depth=4, n_estimators=100;, score=(train=0.716, test=0.725) total time=   0.4s\n",
      "[CV 3/5; 11/24] START bootstrap=True, max_depth=4, n_estimators=100.............\n",
      "[CV 3/5; 11/24] END bootstrap=True, max_depth=4, n_estimators=100;, score=(train=0.717, test=0.715) total time=   0.3s\n",
      "[CV 4/5; 11/24] START bootstrap=True, max_depth=4, n_estimators=100.............\n",
      "[CV 4/5; 11/24] END bootstrap=True, max_depth=4, n_estimators=100;, score=(train=0.717, test=0.717) total time=   0.3s\n",
      "[CV 5/5; 11/24] START bootstrap=True, max_depth=4, n_estimators=100.............\n",
      "[CV 5/5; 11/24] END bootstrap=True, max_depth=4, n_estimators=100;, score=(train=0.718, test=0.712) total time=   0.3s\n",
      "[CV 1/5; 12/24] START bootstrap=True, max_depth=4, n_estimators=200.............\n",
      "[CV 1/5; 12/24] END bootstrap=True, max_depth=4, n_estimators=200;, score=(train=0.719, test=0.717) total time=   0.7s\n",
      "[CV 2/5; 12/24] START bootstrap=True, max_depth=4, n_estimators=200.............\n",
      "[CV 2/5; 12/24] END bootstrap=True, max_depth=4, n_estimators=200;, score=(train=0.716, test=0.724) total time=   0.7s\n",
      "[CV 3/5; 12/24] START bootstrap=True, max_depth=4, n_estimators=200.............\n",
      "[CV 3/5; 12/24] END bootstrap=True, max_depth=4, n_estimators=200;, score=(train=0.717, test=0.715) total time=   0.7s\n",
      "[CV 4/5; 12/24] START bootstrap=True, max_depth=4, n_estimators=200.............\n",
      "[CV 4/5; 12/24] END bootstrap=True, max_depth=4, n_estimators=200;, score=(train=0.718, test=0.718) total time=   0.7s\n",
      "[CV 5/5; 12/24] START bootstrap=True, max_depth=4, n_estimators=200.............\n",
      "[CV 5/5; 12/24] END bootstrap=True, max_depth=4, n_estimators=200;, score=(train=0.719, test=0.712) total time=   0.7s\n",
      "[CV 1/5; 13/24] START bootstrap=False, max_depth=2, n_estimators=10.............\n",
      "[CV 1/5; 13/24] END bootstrap=False, max_depth=2, n_estimators=10;, score=(train=0.579, test=0.579) total time=   0.0s\n",
      "[CV 2/5; 13/24] START bootstrap=False, max_depth=2, n_estimators=10.............\n",
      "[CV 2/5; 13/24] END bootstrap=False, max_depth=2, n_estimators=10;, score=(train=0.579, test=0.577) total time=   0.0s\n",
      "[CV 3/5; 13/24] START bootstrap=False, max_depth=2, n_estimators=10.............\n",
      "[CV 3/5; 13/24] END bootstrap=False, max_depth=2, n_estimators=10;, score=(train=0.578, test=0.584) total time=   0.0s\n",
      "[CV 4/5; 13/24] START bootstrap=False, max_depth=2, n_estimators=10.............\n",
      "[CV 4/5; 13/24] END bootstrap=False, max_depth=2, n_estimators=10;, score=(train=0.593, test=0.594) total time=   0.0s\n",
      "[CV 5/5; 13/24] START bootstrap=False, max_depth=2, n_estimators=10.............\n",
      "[CV 5/5; 13/24] END bootstrap=False, max_depth=2, n_estimators=10;, score=(train=0.601, test=0.595) total time=   0.0s\n",
      "[CV 1/5; 14/24] START bootstrap=False, max_depth=2, n_estimators=50.............\n",
      "[CV 1/5; 14/24] END bootstrap=False, max_depth=2, n_estimators=50;, score=(train=0.662, test=0.662) total time=   0.1s\n",
      "[CV 2/5; 14/24] START bootstrap=False, max_depth=2, n_estimators=50.............\n",
      "[CV 2/5; 14/24] END bootstrap=False, max_depth=2, n_estimators=50;, score=(train=0.662, test=0.663) total time=   0.1s\n",
      "[CV 3/5; 14/24] START bootstrap=False, max_depth=2, n_estimators=50.............\n",
      "[CV 3/5; 14/24] END bootstrap=False, max_depth=2, n_estimators=50;, score=(train=0.662, test=0.663) total time=   0.1s\n",
      "[CV 4/5; 14/24] START bootstrap=False, max_depth=2, n_estimators=50.............\n",
      "[CV 4/5; 14/24] END bootstrap=False, max_depth=2, n_estimators=50;, score=(train=0.662, test=0.662) total time=   0.1s\n",
      "[CV 5/5; 14/24] START bootstrap=False, max_depth=2, n_estimators=50.............\n",
      "[CV 5/5; 14/24] END bootstrap=False, max_depth=2, n_estimators=50;, score=(train=0.663, test=0.660) total time=   0.1s\n",
      "[CV 1/5; 15/24] START bootstrap=False, max_depth=2, n_estimators=100............\n",
      "[CV 1/5; 15/24] END bootstrap=False, max_depth=2, n_estimators=100;, score=(train=0.667, test=0.668) total time=   0.2s\n",
      "[CV 2/5; 15/24] START bootstrap=False, max_depth=2, n_estimators=100............\n",
      "[CV 2/5; 15/24] END bootstrap=False, max_depth=2, n_estimators=100;, score=(train=0.664, test=0.666) total time=   0.2s\n",
      "[CV 3/5; 15/24] START bootstrap=False, max_depth=2, n_estimators=100............\n",
      "[CV 3/5; 15/24] END bootstrap=False, max_depth=2, n_estimators=100;, score=(train=0.665, test=0.666) total time=   0.2s\n",
      "[CV 4/5; 15/24] START bootstrap=False, max_depth=2, n_estimators=100............\n",
      "[CV 4/5; 15/24] END bootstrap=False, max_depth=2, n_estimators=100;, score=(train=0.666, test=0.665) total time=   0.2s\n",
      "[CV 5/5; 15/24] START bootstrap=False, max_depth=2, n_estimators=100............\n",
      "[CV 5/5; 15/24] END bootstrap=False, max_depth=2, n_estimators=100;, score=(train=0.666, test=0.663) total time=   0.2s\n",
      "[CV 1/5; 16/24] START bootstrap=False, max_depth=2, n_estimators=200............\n",
      "[CV 1/5; 16/24] END bootstrap=False, max_depth=2, n_estimators=200;, score=(train=0.669, test=0.671) total time=   0.5s\n",
      "[CV 2/5; 16/24] START bootstrap=False, max_depth=2, n_estimators=200............\n",
      "[CV 2/5; 16/24] END bootstrap=False, max_depth=2, n_estimators=200;, score=(train=0.668, test=0.670) total time=   0.4s\n",
      "[CV 3/5; 16/24] START bootstrap=False, max_depth=2, n_estimators=200............\n",
      "[CV 3/5; 16/24] END bootstrap=False, max_depth=2, n_estimators=200;, score=(train=0.669, test=0.669) total time=   0.5s\n",
      "[CV 4/5; 16/24] START bootstrap=False, max_depth=2, n_estimators=200............\n",
      "[CV 4/5; 16/24] END bootstrap=False, max_depth=2, n_estimators=200;, score=(train=0.669, test=0.668) total time=   0.4s\n",
      "[CV 5/5; 16/24] START bootstrap=False, max_depth=2, n_estimators=200............\n",
      "[CV 5/5; 16/24] END bootstrap=False, max_depth=2, n_estimators=200;, score=(train=0.667, test=0.664) total time=   0.5s\n",
      "[CV 1/5; 17/24] START bootstrap=False, max_depth=3, n_estimators=10.............\n",
      "[CV 1/5; 17/24] END bootstrap=False, max_depth=3, n_estimators=10;, score=(train=0.696, test=0.692) total time=   0.0s\n",
      "[CV 2/5; 17/24] START bootstrap=False, max_depth=3, n_estimators=10.............\n",
      "[CV 2/5; 17/24] END bootstrap=False, max_depth=3, n_estimators=10;, score=(train=0.693, test=0.698) total time=   0.0s\n",
      "[CV 3/5; 17/24] START bootstrap=False, max_depth=3, n_estimators=10.............\n",
      "[CV 3/5; 17/24] END bootstrap=False, max_depth=3, n_estimators=10;, score=(train=0.696, test=0.694) total time=   0.0s\n",
      "[CV 4/5; 17/24] START bootstrap=False, max_depth=3, n_estimators=10.............\n",
      "[CV 4/5; 17/24] END bootstrap=False, max_depth=3, n_estimators=10;, score=(train=0.694, test=0.694) total time=   0.0s\n",
      "[CV 5/5; 17/24] START bootstrap=False, max_depth=3, n_estimators=10.............\n",
      "[CV 5/5; 17/24] END bootstrap=False, max_depth=3, n_estimators=10;, score=(train=0.696, test=0.691) total time=   0.0s\n",
      "[CV 1/5; 18/24] START bootstrap=False, max_depth=3, n_estimators=50.............\n",
      "[CV 1/5; 18/24] END bootstrap=False, max_depth=3, n_estimators=50;, score=(train=0.716, test=0.715) total time=   0.1s\n",
      "[CV 2/5; 18/24] START bootstrap=False, max_depth=3, n_estimators=50.............\n",
      "[CV 2/5; 18/24] END bootstrap=False, max_depth=3, n_estimators=50;, score=(train=0.715, test=0.722) total time=   0.1s\n",
      "[CV 3/5; 18/24] START bootstrap=False, max_depth=3, n_estimators=50.............\n",
      "[CV 3/5; 18/24] END bootstrap=False, max_depth=3, n_estimators=50;, score=(train=0.716, test=0.715) total time=   0.1s\n",
      "[CV 4/5; 18/24] START bootstrap=False, max_depth=3, n_estimators=50.............\n",
      "[CV 4/5; 18/24] END bootstrap=False, max_depth=3, n_estimators=50;, score=(train=0.716, test=0.716) total time=   0.1s\n",
      "[CV 5/5; 18/24] START bootstrap=False, max_depth=3, n_estimators=50.............\n",
      "[CV 5/5; 18/24] END bootstrap=False, max_depth=3, n_estimators=50;, score=(train=0.717, test=0.712) total time=   0.1s\n",
      "[CV 1/5; 19/24] START bootstrap=False, max_depth=3, n_estimators=100............\n",
      "[CV 1/5; 19/24] END bootstrap=False, max_depth=3, n_estimators=100;, score=(train=0.717, test=0.714) total time=   0.3s\n",
      "[CV 2/5; 19/24] START bootstrap=False, max_depth=3, n_estimators=100............\n",
      "[CV 2/5; 19/24] END bootstrap=False, max_depth=3, n_estimators=100;, score=(train=0.715, test=0.723) total time=   0.3s\n",
      "[CV 3/5; 19/24] START bootstrap=False, max_depth=3, n_estimators=100............\n",
      "[CV 3/5; 19/24] END bootstrap=False, max_depth=3, n_estimators=100;, score=(train=0.716, test=0.714) total time=   0.3s\n",
      "[CV 4/5; 19/24] START bootstrap=False, max_depth=3, n_estimators=100............\n",
      "[CV 4/5; 19/24] END bootstrap=False, max_depth=3, n_estimators=100;, score=(train=0.716, test=0.717) total time=   0.3s\n",
      "[CV 5/5; 19/24] START bootstrap=False, max_depth=3, n_estimators=100............\n",
      "[CV 5/5; 19/24] END bootstrap=False, max_depth=3, n_estimators=100;, score=(train=0.717, test=0.712) total time=   0.3s\n",
      "[CV 1/5; 20/24] START bootstrap=False, max_depth=3, n_estimators=200............\n",
      "[CV 1/5; 20/24] END bootstrap=False, max_depth=3, n_estimators=200;, score=(train=0.716, test=0.715) total time=   0.6s\n",
      "[CV 2/5; 20/24] START bootstrap=False, max_depth=3, n_estimators=200............\n",
      "[CV 2/5; 20/24] END bootstrap=False, max_depth=3, n_estimators=200;, score=(train=0.715, test=0.723) total time=   0.6s\n",
      "[CV 3/5; 20/24] START bootstrap=False, max_depth=3, n_estimators=200............\n",
      "[CV 3/5; 20/24] END bootstrap=False, max_depth=3, n_estimators=200;, score=(train=0.717, test=0.715) total time=   0.6s\n",
      "[CV 4/5; 20/24] START bootstrap=False, max_depth=3, n_estimators=200............\n",
      "[CV 4/5; 20/24] END bootstrap=False, max_depth=3, n_estimators=200;, score=(train=0.716, test=0.717) total time=   0.6s\n",
      "[CV 5/5; 20/24] START bootstrap=False, max_depth=3, n_estimators=200............\n",
      "[CV 5/5; 20/24] END bootstrap=False, max_depth=3, n_estimators=200;, score=(train=0.717, test=0.712) total time=   0.6s\n",
      "[CV 1/5; 21/24] START bootstrap=False, max_depth=4, n_estimators=10.............\n",
      "[CV 1/5; 21/24] END bootstrap=False, max_depth=4, n_estimators=10;, score=(train=0.714, test=0.714) total time=   0.0s\n",
      "[CV 2/5; 21/24] START bootstrap=False, max_depth=4, n_estimators=10.............\n",
      "[CV 2/5; 21/24] END bootstrap=False, max_depth=4, n_estimators=10;, score=(train=0.713, test=0.720) total time=   0.0s\n",
      "[CV 3/5; 21/24] START bootstrap=False, max_depth=4, n_estimators=10.............\n",
      "[CV 3/5; 21/24] END bootstrap=False, max_depth=4, n_estimators=10;, score=(train=0.716, test=0.715) total time=   0.0s\n",
      "[CV 4/5; 21/24] START bootstrap=False, max_depth=4, n_estimators=10.............\n",
      "[CV 4/5; 21/24] END bootstrap=False, max_depth=4, n_estimators=10;, score=(train=0.717, test=0.716) total time=   0.0s\n",
      "[CV 5/5; 21/24] START bootstrap=False, max_depth=4, n_estimators=10.............\n",
      "[CV 5/5; 21/24] END bootstrap=False, max_depth=4, n_estimators=10;, score=(train=0.719, test=0.711) total time=   0.0s\n",
      "[CV 1/5; 22/24] START bootstrap=False, max_depth=4, n_estimators=50.............\n",
      "[CV 1/5; 22/24] END bootstrap=False, max_depth=4, n_estimators=50;, score=(train=0.717, test=0.716) total time=   0.1s\n",
      "[CV 2/5; 22/24] START bootstrap=False, max_depth=4, n_estimators=50.............\n",
      "[CV 2/5; 22/24] END bootstrap=False, max_depth=4, n_estimators=50;, score=(train=0.716, test=0.723) total time=   0.1s\n",
      "[CV 3/5; 22/24] START bootstrap=False, max_depth=4, n_estimators=50.............\n",
      "[CV 3/5; 22/24] END bootstrap=False, max_depth=4, n_estimators=50;, score=(train=0.717, test=0.716) total time=   0.1s\n",
      "[CV 4/5; 22/24] START bootstrap=False, max_depth=4, n_estimators=50.............\n",
      "[CV 4/5; 22/24] END bootstrap=False, max_depth=4, n_estimators=50;, score=(train=0.717, test=0.717) total time=   0.1s\n",
      "[CV 5/5; 22/24] START bootstrap=False, max_depth=4, n_estimators=50.............\n",
      "[CV 5/5; 22/24] END bootstrap=False, max_depth=4, n_estimators=50;, score=(train=0.718, test=0.712) total time=   0.1s\n",
      "[CV 1/5; 23/24] START bootstrap=False, max_depth=4, n_estimators=100............\n",
      "[CV 1/5; 23/24] END bootstrap=False, max_depth=4, n_estimators=100;, score=(train=0.718, test=0.716) total time=   0.3s\n",
      "[CV 2/5; 23/24] START bootstrap=False, max_depth=4, n_estimators=100............\n",
      "[CV 2/5; 23/24] END bootstrap=False, max_depth=4, n_estimators=100;, score=(train=0.716, test=0.724) total time=   0.3s\n",
      "[CV 3/5; 23/24] START bootstrap=False, max_depth=4, n_estimators=100............\n",
      "[CV 3/5; 23/24] END bootstrap=False, max_depth=4, n_estimators=100;, score=(train=0.717, test=0.715) total time=   0.3s\n",
      "[CV 4/5; 23/24] START bootstrap=False, max_depth=4, n_estimators=100............\n",
      "[CV 4/5; 23/24] END bootstrap=False, max_depth=4, n_estimators=100;, score=(train=0.718, test=0.717) total time=   0.3s\n",
      "[CV 5/5; 23/24] START bootstrap=False, max_depth=4, n_estimators=100............\n",
      "[CV 5/5; 23/24] END bootstrap=False, max_depth=4, n_estimators=100;, score=(train=0.719, test=0.712) total time=   0.3s\n",
      "[CV 1/5; 24/24] START bootstrap=False, max_depth=4, n_estimators=200............\n",
      "[CV 1/5; 24/24] END bootstrap=False, max_depth=4, n_estimators=200;, score=(train=0.717, test=0.717) total time=   0.7s\n",
      "[CV 2/5; 24/24] START bootstrap=False, max_depth=4, n_estimators=200............\n",
      "[CV 2/5; 24/24] END bootstrap=False, max_depth=4, n_estimators=200;, score=(train=0.716, test=0.724) total time=   0.8s\n",
      "[CV 3/5; 24/24] START bootstrap=False, max_depth=4, n_estimators=200............\n",
      "[CV 3/5; 24/24] END bootstrap=False, max_depth=4, n_estimators=200;, score=(train=0.718, test=0.716) total time=   0.7s\n",
      "[CV 4/5; 24/24] START bootstrap=False, max_depth=4, n_estimators=200............\n",
      "[CV 4/5; 24/24] END bootstrap=False, max_depth=4, n_estimators=200;, score=(train=0.718, test=0.717) total time=   0.7s\n",
      "[CV 5/5; 24/24] START bootstrap=False, max_depth=4, n_estimators=200............\n",
      "[CV 5/5; 24/24] END bootstrap=False, max_depth=4, n_estimators=200;, score=(train=0.719, test=0.712) total time=   0.8s\n"
     ]
    },
    {
     "data": {
      "text/html": [
       "<style>#sk-container-id-1 {color: black;}#sk-container-id-1 pre{padding: 0;}#sk-container-id-1 div.sk-toggleable {background-color: white;}#sk-container-id-1 label.sk-toggleable__label {cursor: pointer;display: block;width: 100%;margin-bottom: 0;padding: 0.3em;box-sizing: border-box;text-align: center;}#sk-container-id-1 label.sk-toggleable__label-arrow:before {content: \"▸\";float: left;margin-right: 0.25em;color: #696969;}#sk-container-id-1 label.sk-toggleable__label-arrow:hover:before {color: black;}#sk-container-id-1 div.sk-estimator:hover label.sk-toggleable__label-arrow:before {color: black;}#sk-container-id-1 div.sk-toggleable__content {max-height: 0;max-width: 0;overflow: hidden;text-align: left;background-color: #f0f8ff;}#sk-container-id-1 div.sk-toggleable__content pre {margin: 0.2em;color: black;border-radius: 0.25em;background-color: #f0f8ff;}#sk-container-id-1 input.sk-toggleable__control:checked~div.sk-toggleable__content {max-height: 200px;max-width: 100%;overflow: auto;}#sk-container-id-1 input.sk-toggleable__control:checked~label.sk-toggleable__label-arrow:before {content: \"▾\";}#sk-container-id-1 div.sk-estimator input.sk-toggleable__control:checked~label.sk-toggleable__label {background-color: #d4ebff;}#sk-container-id-1 div.sk-label input.sk-toggleable__control:checked~label.sk-toggleable__label {background-color: #d4ebff;}#sk-container-id-1 input.sk-hidden--visually {border: 0;clip: rect(1px 1px 1px 1px);clip: rect(1px, 1px, 1px, 1px);height: 1px;margin: -1px;overflow: hidden;padding: 0;position: absolute;width: 1px;}#sk-container-id-1 div.sk-estimator {font-family: monospace;background-color: #f0f8ff;border: 1px dotted black;border-radius: 0.25em;box-sizing: border-box;margin-bottom: 0.5em;}#sk-container-id-1 div.sk-estimator:hover {background-color: #d4ebff;}#sk-container-id-1 div.sk-parallel-item::after {content: \"\";width: 100%;border-bottom: 1px solid gray;flex-grow: 1;}#sk-container-id-1 div.sk-label:hover label.sk-toggleable__label {background-color: #d4ebff;}#sk-container-id-1 div.sk-serial::before {content: \"\";position: absolute;border-left: 1px solid gray;box-sizing: border-box;top: 0;bottom: 0;left: 50%;z-index: 0;}#sk-container-id-1 div.sk-serial {display: flex;flex-direction: column;align-items: center;background-color: white;padding-right: 0.2em;padding-left: 0.2em;position: relative;}#sk-container-id-1 div.sk-item {position: relative;z-index: 1;}#sk-container-id-1 div.sk-parallel {display: flex;align-items: stretch;justify-content: center;background-color: white;position: relative;}#sk-container-id-1 div.sk-item::before, #sk-container-id-1 div.sk-parallel-item::before {content: \"\";position: absolute;border-left: 1px solid gray;box-sizing: border-box;top: 0;bottom: 0;left: 50%;z-index: -1;}#sk-container-id-1 div.sk-parallel-item {display: flex;flex-direction: column;z-index: 1;position: relative;background-color: white;}#sk-container-id-1 div.sk-parallel-item:first-child::after {align-self: flex-end;width: 50%;}#sk-container-id-1 div.sk-parallel-item:last-child::after {align-self: flex-start;width: 50%;}#sk-container-id-1 div.sk-parallel-item:only-child::after {width: 0;}#sk-container-id-1 div.sk-dashed-wrapped {border: 1px dashed gray;margin: 0 0.4em 0.5em 0.4em;box-sizing: border-box;padding-bottom: 0.4em;background-color: white;}#sk-container-id-1 div.sk-label label {font-family: monospace;font-weight: bold;display: inline-block;line-height: 1.2em;}#sk-container-id-1 div.sk-label-container {text-align: center;}#sk-container-id-1 div.sk-container {/* jupyter's `normalize.less` sets `[hidden] { display: none; }` but bootstrap.min.css set `[hidden] { display: none !important; }` so we also need the `!important` here to be able to override the default hidden behavior on the sphinx rendered scikit-learn.org. See: https://github.com/scikit-learn/scikit-learn/issues/21755 */display: inline-block !important;position: relative;}#sk-container-id-1 div.sk-text-repr-fallback {display: none;}</style><div id=\"sk-container-id-1\" class=\"sk-top-container\"><div class=\"sk-text-repr-fallback\"><pre>GridSearchCV(cv=5, estimator=RandomForest(),\n",
       "             param_grid={&#x27;bootstrap&#x27;: [True, False], &#x27;max_depth&#x27;: [2, 3, 4],\n",
       "                         &#x27;n_estimators&#x27;: [10, 50, 100, 200]},\n",
       "             return_train_score=True, scoring=&#x27;accuracy&#x27;, verbose=10)</pre><b>In a Jupyter environment, please rerun this cell to show the HTML representation or trust the notebook. <br />On GitHub, the HTML representation is unable to render, please try loading this page with nbviewer.org.</b></div><div class=\"sk-container\" hidden><div class=\"sk-item sk-dashed-wrapped\"><div class=\"sk-label-container\"><div class=\"sk-label sk-toggleable\"><input class=\"sk-toggleable__control sk-hidden--visually\" id=\"sk-estimator-id-1\" type=\"checkbox\" ><label for=\"sk-estimator-id-1\" class=\"sk-toggleable__label sk-toggleable__label-arrow\">GridSearchCV</label><div class=\"sk-toggleable__content\"><pre>GridSearchCV(cv=5, estimator=RandomForest(),\n",
       "             param_grid={&#x27;bootstrap&#x27;: [True, False], &#x27;max_depth&#x27;: [2, 3, 4],\n",
       "                         &#x27;n_estimators&#x27;: [10, 50, 100, 200]},\n",
       "             return_train_score=True, scoring=&#x27;accuracy&#x27;, verbose=10)</pre></div></div></div><div class=\"sk-parallel\"><div class=\"sk-parallel-item\"><div class=\"sk-item\"><div class=\"sk-label-container\"><div class=\"sk-label sk-toggleable\"><input class=\"sk-toggleable__control sk-hidden--visually\" id=\"sk-estimator-id-2\" type=\"checkbox\" ><label for=\"sk-estimator-id-2\" class=\"sk-toggleable__label sk-toggleable__label-arrow\">estimator: RandomForest</label><div class=\"sk-toggleable__content\"><pre>RandomForest()</pre></div></div></div><div class=\"sk-serial\"><div class=\"sk-item\"><div class=\"sk-estimator sk-toggleable\"><input class=\"sk-toggleable__control sk-hidden--visually\" id=\"sk-estimator-id-3\" type=\"checkbox\" ><label for=\"sk-estimator-id-3\" class=\"sk-toggleable__label sk-toggleable__label-arrow\">RandomForest</label><div class=\"sk-toggleable__content\"><pre>RandomForest()</pre></div></div></div></div></div></div></div></div></div></div>"
      ],
      "text/plain": [
       "GridSearchCV(cv=5, estimator=RandomForest(),\n",
       "             param_grid={'bootstrap': [True, False], 'max_depth': [2, 3, 4],\n",
       "                         'n_estimators': [10, 50, 100, 200]},\n",
       "             return_train_score=True, scoring='accuracy', verbose=10)"
      ]
     },
     "execution_count": 7,
     "metadata": {},
     "output_type": "execute_result"
    }
   ],
   "source": [
    "param_grid = {\n",
    "\t\"n_estimators\": [10, 50, 100, 200],\n",
    "\t\"max_depth\": [2, 3, 4],\n",
    "\t\"bootstrap\": [True, False]\n",
    "}\n",
    "\n",
    "grid_search = GridSearchCV(RandomForest(), param_grid, cv=5, scoring=\"accuracy\", return_train_score=True, verbose=10)\n",
    "grid_search.fit(X_train, y_train)"
   ]
  },
  {
   "cell_type": "code",
   "execution_count": 8,
   "metadata": {},
   "outputs": [
    {
     "data": {
      "text/plain": [
       "[(0.7172084383707045,\n",
       "  {'bootstrap': False, 'max_depth': 4, 'n_estimators': 200}),\n",
       " (0.717181902613772, {'bootstrap': True, 'max_depth': 4, 'n_estimators': 100}),\n",
       " (0.7171553668568396,\n",
       "  {'bootstrap': True, 'max_depth': 4, 'n_estimators': 200}),\n",
       " (0.7169961523152447,\n",
       "  {'bootstrap': False, 'max_depth': 4, 'n_estimators': 100}),\n",
       " (0.7169165450444475,\n",
       "  {'bootstrap': False, 'max_depth': 4, 'n_estimators': 50}),\n",
       " (0.7167042589889877, {'bootstrap': True, 'max_depth': 4, 'n_estimators': 50}),\n",
       " (0.7164389014196629, {'bootstrap': True, 'max_depth': 4, 'n_estimators': 10}),\n",
       " (0.7161470080934059,\n",
       "  {'bootstrap': False, 'max_depth': 3, 'n_estimators': 50}),\n",
       " (0.7161204723364734,\n",
       "  {'bootstrap': True, 'max_depth': 3, 'n_estimators': 200}),\n",
       " (0.7160674008226084,\n",
       "  {'bootstrap': False, 'max_depth': 3, 'n_estimators': 200}),\n",
       " (0.7159347220379462, {'bootstrap': True, 'max_depth': 3, 'n_estimators': 50}),\n",
       " (0.7159081862810136,\n",
       "  {'bootstrap': False, 'max_depth': 3, 'n_estimators': 100}),\n",
       " (0.7158285790102162,\n",
       "  {'bootstrap': True, 'max_depth': 3, 'n_estimators': 100}),\n",
       " (0.7150059705453098,\n",
       "  {'bootstrap': False, 'max_depth': 4, 'n_estimators': 10}),\n",
       " (0.6940427225686612, {'bootstrap': True, 'max_depth': 3, 'n_estimators': 10}),\n",
       " (0.6939631152978637,\n",
       "  {'bootstrap': False, 'max_depth': 3, 'n_estimators': 10}),\n",
       " (0.6690195037813454,\n",
       "  {'bootstrap': True, 'max_depth': 2, 'n_estimators': 200}),\n",
       " (0.668488788642696,\n",
       "  {'bootstrap': False, 'max_depth': 2, 'n_estimators': 200}),\n",
       " (0.6654902481093273,\n",
       "  {'bootstrap': False, 'max_depth': 2, 'n_estimators': 100}),\n",
       " (0.6653575693246649,\n",
       "  {'bootstrap': True, 'max_depth': 2, 'n_estimators': 100}),\n",
       " (0.6620140639511741,\n",
       "  {'bootstrap': False, 'max_depth': 2, 'n_estimators': 50}),\n",
       " (0.6600238821812392, {'bootstrap': True, 'max_depth': 2, 'n_estimators': 50}),\n",
       " (0.5858299057980629,\n",
       "  {'bootstrap': False, 'max_depth': 2, 'n_estimators': 10}),\n",
       " (0.5809207907655566, {'bootstrap': True, 'max_depth': 2, 'n_estimators': 10})]"
      ]
     },
     "execution_count": 8,
     "metadata": {},
     "output_type": "execute_result"
    }
   ],
   "source": [
    "sorted(zip(grid_search.cv_results_[\"mean_test_score\"], grid_search.cv_results_[\"params\"]), reverse=True)"
   ]
  },
  {
   "cell_type": "markdown",
   "metadata": {},
   "source": [
    "From this grid search, we conclude that the `max_depth` is the one increasing the most the accuracy (up to 0.71), followed by the `n_estimators`, both directly proportionally. `bootstrap` is not influencing that much, so we will set it to `True`, as we think it might be more beneficial to avoid overfitting. Also, altough higher `n_estimators` do increase the accuracy, the difference between 100 and 200 is insignificant, so we will use 100 as it's less computationally expensive.  \n",
    "First, we show that increasing `n_estimators` a lot still doesn't improve the accuracy."
   ]
  },
  {
   "cell_type": "code",
   "execution_count": 31,
   "metadata": {},
   "outputs": [
    {
     "name": "stdout",
     "output_type": "stream",
     "text": [
      "Performing cross validation\n"
     ]
    },
    {
     "name": "stderr",
     "output_type": "stream",
     "text": [
      "[Parallel(n_jobs=-1)]: Using backend LokyBackend with 12 concurrent workers.\n",
      "[Parallel(n_jobs=-1)]: Done   2 out of   5 | elapsed:   56.6s remaining:  1.4min\n",
      "[Parallel(n_jobs=-1)]: Done   3 out of   5 | elapsed:   56.8s remaining:   37.9s\n"
     ]
    },
    {
     "name": "stdout",
     "output_type": "stream",
     "text": [
      "Cross validation (accuracy) scores:\n",
      "\tmean: 0.718205024855569 std: 0.006377293900250426\n"
     ]
    },
    {
     "name": "stderr",
     "output_type": "stream",
     "text": [
      "[Parallel(n_jobs=-1)]: Done   5 out of   5 | elapsed:  1.1min finished\n"
     ]
    }
   ],
   "source": [
    "X_train, X_test, y_train, y_test = utils.preprocessing_LOS(df)\n",
    "model = RandomForest(n_estimators=5000, max_depth=3, bootstrap=True)\n",
    "X_train2, X_val, y_train2, y_val = train_test_split(X_train, y_train, test_size=0.2, random_state=42)\n",
    "model.cross_validation(X_train, y_train, 5, 0.2)"
   ]
  },
  {
   "cell_type": "markdown",
   "metadata": {},
   "source": [
    "It didn't. Now we continue the analysis with 100 trees."
   ]
  },
  {
   "cell_type": "code",
   "execution_count": 3,
   "metadata": {},
   "outputs": [
    {
     "name": "stderr",
     "output_type": "stream",
     "text": [
      "c:\\Users\\pikur\\Anaconda3\\lib\\site-packages\\sklearn\\metrics\\_classification.py:1471: UndefinedMetricWarning: Precision and F-score are ill-defined and being set to 0.0 in labels with no predicted samples. Use `zero_division` parameter to control this behavior.\n",
      "  _warn_prf(average, modifier, msg_start, len(result))\n",
      "c:\\Users\\pikur\\Anaconda3\\lib\\site-packages\\sklearn\\metrics\\_classification.py:1471: UndefinedMetricWarning: Precision and F-score are ill-defined and being set to 0.0 in labels with no predicted samples. Use `zero_division` parameter to control this behavior.\n",
      "  _warn_prf(average, modifier, msg_start, len(result))\n",
      "c:\\Users\\pikur\\Anaconda3\\lib\\site-packages\\sklearn\\metrics\\_classification.py:1471: UndefinedMetricWarning: Precision and F-score are ill-defined and being set to 0.0 in labels with no predicted samples. Use `zero_division` parameter to control this behavior.\n",
      "  _warn_prf(average, modifier, msg_start, len(result))\n"
     ]
    },
    {
     "data": {
      "text/plain": [
       "{'accuracy': 0.7146079341913228,\n",
       " 'precision': 0.5635555990568771,\n",
       " 'recall': 0.5134250547585308,\n",
       " 'f1': 0.5045873324804544}"
      ]
     },
     "execution_count": 3,
     "metadata": {},
     "output_type": "execute_result"
    }
   ],
   "source": [
    "model = RandomForest(n_estimators=100, max_depth=4, bootstrap=True)\n",
    "X_train2, X_val, y_train2, y_val = train_test_split(X_train, y_train, test_size=0.2, random_state=42)\n",
    "model.fit(X_train2, y_train2)\n",
    "model.compute_metrics(X_val, y_val)"
   ]
  },
  {
   "cell_type": "markdown",
   "metadata": {},
   "source": [
    "The warning says us that the model is predicting no samples for some classes."
   ]
  },
  {
   "cell_type": "code",
   "execution_count": 4,
   "metadata": {},
   "outputs": [
    {
     "data": {
      "text/plain": [
       "4    12835\n",
       "3     7679\n",
       "2     7037\n",
       "1     2387\n",
       "0      210\n",
       "Name: cut, dtype: int64"
      ]
     },
     "execution_count": 4,
     "metadata": {},
     "output_type": "execute_result"
    }
   ],
   "source": [
    "y_train2.value_counts()"
   ]
  },
  {
   "cell_type": "markdown",
   "metadata": {},
   "source": [
    "We can see that there are very few samples for class `0` in the training set, which the model might be missing, and it's not reflected in the accuracy at all.  \n",
    "We will train the Random Forest again, this time with `class_weight = \"balanced\"`, so that classes with low frequency have more weigth."
   ]
  },
  {
   "cell_type": "code",
   "execution_count": 5,
   "metadata": {},
   "outputs": [
    {
     "data": {
      "text/plain": [
       "{'accuracy': 0.6939100437839989,\n",
       " 'precision': 0.6498287130739284,\n",
       " 'recall': 0.6567486459175618,\n",
       " 'f1': 0.587211732930613}"
      ]
     },
     "execution_count": 5,
     "metadata": {},
     "output_type": "execute_result"
    }
   ],
   "source": [
    "model = RandomForest(n_estimators=100, max_depth=4, bootstrap=True, class_weight=\"balanced\")\n",
    "model.fit(X_train2, y_train2)\n",
    "model.compute_metrics(X_val, y_val)"
   ]
  },
  {
   "cell_type": "markdown",
   "metadata": {},
   "source": [
    "We observe that accuracy decreases a bit, while the other metrics increase."
   ]
  },
  {
   "cell_type": "code",
   "execution_count": 6,
   "metadata": {},
   "outputs": [
    {
     "data": {
      "text/plain": [
       "4    3861\n",
       "3    2667\n",
       "1     857\n",
       "2     100\n",
       "0      52\n",
       "dtype: int64"
      ]
     },
     "execution_count": 6,
     "metadata": {},
     "output_type": "execute_result"
    }
   ],
   "source": [
    "pd.Series(model.predict(X_val)).value_counts()\n"
   ]
  },
  {
   "cell_type": "markdown",
   "metadata": {},
   "source": [
    "Indeed, the frequency of each class in the predictions is proportional to the frequency in the training set.\n",
    "\n",
    "Finally, as we observed, increasing the `max_depth` yields better results, so we will increase it exagerately to see to what end we can bring this Random Forest.  \n",
    "As we try a big range of parameters, we use Randomized Search to accelerate the process."
   ]
  },
  {
   "cell_type": "code",
   "execution_count": 55,
   "metadata": {},
   "outputs": [
    {
     "name": "stdout",
     "output_type": "stream",
     "text": [
      "Fitting 5 folds for each of 10 candidates, totalling 50 fits\n",
      "[CV 1/5; 1/10] START max_depth=6................................................\n",
      "[CV 1/5; 1/10] END max_depth=6;, score=(train=0.703, test=0.698) total time=   0.5s\n",
      "[CV 2/5; 1/10] START max_depth=6................................................\n",
      "[CV 2/5; 1/10] END max_depth=6;, score=(train=0.699, test=0.703) total time=   0.4s\n",
      "[CV 3/5; 1/10] START max_depth=6................................................\n",
      "[CV 3/5; 1/10] END max_depth=6;, score=(train=0.699, test=0.695) total time=   0.4s\n",
      "[CV 4/5; 1/10] START max_depth=6................................................\n",
      "[CV 4/5; 1/10] END max_depth=6;, score=(train=0.700, test=0.701) total time=   0.5s\n",
      "[CV 5/5; 1/10] START max_depth=6................................................\n",
      "[CV 5/5; 1/10] END max_depth=6;, score=(train=0.702, test=0.694) total time=   0.4s\n",
      "[CV 1/5; 2/10] START max_depth=18...............................................\n",
      "[CV 1/5; 2/10] END max_depth=18;, score=(train=0.947, test=0.780) total time=   1.4s\n",
      "[CV 2/5; 2/10] START max_depth=18...............................................\n",
      "[CV 2/5; 2/10] END max_depth=18;, score=(train=0.946, test=0.788) total time=   1.3s\n",
      "[CV 3/5; 2/10] START max_depth=18...............................................\n",
      "[CV 3/5; 2/10] END max_depth=18;, score=(train=0.949, test=0.776) total time=   1.4s\n",
      "[CV 4/5; 2/10] START max_depth=18...............................................\n",
      "[CV 4/5; 2/10] END max_depth=18;, score=(train=0.948, test=0.781) total time=   1.4s\n",
      "[CV 5/5; 2/10] START max_depth=18...............................................\n",
      "[CV 5/5; 2/10] END max_depth=18;, score=(train=0.950, test=0.782) total time=   1.4s\n",
      "[CV 1/5; 3/10] START max_depth=7................................................\n",
      "[CV 1/5; 3/10] END max_depth=7;, score=(train=0.712, test=0.704) total time=   0.5s\n",
      "[CV 2/5; 3/10] START max_depth=7................................................\n",
      "[CV 2/5; 3/10] END max_depth=7;, score=(train=0.707, test=0.707) total time=   0.5s\n",
      "[CV 3/5; 3/10] START max_depth=7................................................\n",
      "[CV 3/5; 3/10] END max_depth=7;, score=(train=0.707, test=0.699) total time=   0.5s\n",
      "[CV 4/5; 3/10] START max_depth=7................................................\n",
      "[CV 4/5; 3/10] END max_depth=7;, score=(train=0.706, test=0.704) total time=   0.5s\n",
      "[CV 5/5; 3/10] START max_depth=7................................................\n",
      "[CV 5/5; 3/10] END max_depth=7;, score=(train=0.710, test=0.699) total time=   0.5s\n",
      "[CV 1/5; 4/10] START max_depth=24...............................................\n",
      "[CV 1/5; 4/10] END max_depth=24;, score=(train=0.999, test=0.778) total time=   1.6s\n",
      "[CV 2/5; 4/10] START max_depth=24...............................................\n",
      "[CV 2/5; 4/10] END max_depth=24;, score=(train=0.999, test=0.791) total time=   1.6s\n",
      "[CV 3/5; 4/10] START max_depth=24...............................................\n",
      "[CV 3/5; 4/10] END max_depth=24;, score=(train=0.999, test=0.777) total time=   1.6s\n",
      "[CV 4/5; 4/10] START max_depth=24...............................................\n",
      "[CV 4/5; 4/10] END max_depth=24;, score=(train=0.999, test=0.781) total time=   1.6s\n",
      "[CV 5/5; 4/10] START max_depth=24...............................................\n",
      "[CV 5/5; 4/10] END max_depth=24;, score=(train=0.999, test=0.782) total time=   1.7s\n",
      "[CV 1/5; 5/10] START max_depth=20...............................................\n",
      "[CV 1/5; 5/10] END max_depth=20;, score=(train=0.976, test=0.778) total time=   1.5s\n",
      "[CV 2/5; 5/10] START max_depth=20...............................................\n",
      "[CV 2/5; 5/10] END max_depth=20;, score=(train=0.977, test=0.791) total time=   1.5s\n",
      "[CV 3/5; 5/10] START max_depth=20...............................................\n",
      "[CV 3/5; 5/10] END max_depth=20;, score=(train=0.977, test=0.777) total time=   1.5s\n",
      "[CV 4/5; 5/10] START max_depth=20...............................................\n",
      "[CV 4/5; 5/10] END max_depth=20;, score=(train=0.978, test=0.783) total time=   1.6s\n",
      "[CV 5/5; 5/10] START max_depth=20...............................................\n",
      "[CV 5/5; 5/10] END max_depth=20;, score=(train=0.980, test=0.781) total time=   1.6s\n",
      "[CV 1/5; 6/10] START max_depth=12...............................................\n",
      "[CV 1/5; 6/10] END max_depth=12;, score=(train=0.820, test=0.756) total time=   0.9s\n",
      "[CV 2/5; 6/10] START max_depth=12...............................................\n",
      "[CV 2/5; 6/10] END max_depth=12;, score=(train=0.815, test=0.764) total time=   0.9s\n",
      "[CV 3/5; 6/10] START max_depth=12...............................................\n",
      "[CV 3/5; 6/10] END max_depth=12;, score=(train=0.823, test=0.764) total time=   0.9s\n",
      "[CV 4/5; 6/10] START max_depth=12...............................................\n",
      "[CV 4/5; 6/10] END max_depth=12;, score=(train=0.817, test=0.761) total time=   0.9s\n",
      "[CV 5/5; 6/10] START max_depth=12...............................................\n",
      "[CV 5/5; 6/10] END max_depth=12;, score=(train=0.821, test=0.764) total time=   0.9s\n",
      "[CV 1/5; 7/10] START max_depth=10...............................................\n",
      "[CV 1/5; 7/10] END max_depth=10;, score=(train=0.774, test=0.740) total time=   0.7s\n",
      "[CV 2/5; 7/10] START max_depth=10...............................................\n",
      "[CV 2/5; 7/10] END max_depth=10;, score=(train=0.773, test=0.748) total time=   0.8s\n",
      "[CV 3/5; 7/10] START max_depth=10...............................................\n",
      "[CV 3/5; 7/10] END max_depth=10;, score=(train=0.781, test=0.747) total time=   0.8s\n",
      "[CV 4/5; 7/10] START max_depth=10...............................................\n",
      "[CV 4/5; 7/10] END max_depth=10;, score=(train=0.774, test=0.742) total time=   0.7s\n",
      "[CV 5/5; 7/10] START max_depth=10...............................................\n",
      "[CV 5/5; 7/10] END max_depth=10;, score=(train=0.778, test=0.746) total time=   0.7s\n",
      "[CV 1/5; 8/10] START max_depth=23...............................................\n",
      "[CV 1/5; 8/10] END max_depth=23;, score=(train=0.997, test=0.779) total time=   1.6s\n",
      "[CV 2/5; 8/10] START max_depth=23...............................................\n",
      "[CV 2/5; 8/10] END max_depth=23;, score=(train=0.997, test=0.790) total time=   1.7s\n",
      "[CV 3/5; 8/10] START max_depth=23...............................................\n",
      "[CV 3/5; 8/10] END max_depth=23;, score=(train=0.997, test=0.777) total time=   1.8s\n",
      "[CV 4/5; 8/10] START max_depth=23...............................................\n",
      "[CV 4/5; 8/10] END max_depth=23;, score=(train=0.998, test=0.783) total time=   1.7s\n",
      "[CV 5/5; 8/10] START max_depth=23...............................................\n",
      "[CV 5/5; 8/10] END max_depth=23;, score=(train=0.998, test=0.781) total time=   1.8s\n",
      "[CV 1/5; 9/10] START max_depth=22...............................................\n",
      "[CV 1/5; 9/10] END max_depth=22;, score=(train=0.994, test=0.780) total time=   1.7s\n",
      "[CV 2/5; 9/10] START max_depth=22...............................................\n",
      "[CV 2/5; 9/10] END max_depth=22;, score=(train=0.994, test=0.791) total time=   1.7s\n",
      "[CV 3/5; 9/10] START max_depth=22...............................................\n",
      "[CV 3/5; 9/10] END max_depth=22;, score=(train=0.994, test=0.778) total time=   1.7s\n",
      "[CV 4/5; 9/10] START max_depth=22...............................................\n",
      "[CV 4/5; 9/10] END max_depth=22;, score=(train=0.995, test=0.782) total time=   1.8s\n",
      "[CV 5/5; 9/10] START max_depth=22...............................................\n",
      "[CV 5/5; 9/10] END max_depth=22;, score=(train=0.995, test=0.778) total time=   1.7s\n",
      "[CV 1/5; 10/10] START max_depth=16..............................................\n",
      "[CV 1/5; 10/10] END max_depth=16;, score=(train=0.912, test=0.774) total time=   1.3s\n",
      "[CV 2/5; 10/10] START max_depth=16..............................................\n",
      "[CV 2/5; 10/10] END max_depth=16;, score=(train=0.908, test=0.785) total time=   1.4s\n",
      "[CV 3/5; 10/10] START max_depth=16..............................................\n",
      "[CV 3/5; 10/10] END max_depth=16;, score=(train=0.915, test=0.774) total time=   1.4s\n",
      "[CV 4/5; 10/10] START max_depth=16..............................................\n",
      "[CV 4/5; 10/10] END max_depth=16;, score=(train=0.910, test=0.777) total time=   1.4s\n",
      "[CV 5/5; 10/10] START max_depth=16..............................................\n",
      "[CV 5/5; 10/10] END max_depth=16;, score=(train=0.912, test=0.776) total time=   1.4s\n"
     ]
    },
    {
     "data": {
      "text/html": [
       "<style>#sk-container-id-2 {color: black;}#sk-container-id-2 pre{padding: 0;}#sk-container-id-2 div.sk-toggleable {background-color: white;}#sk-container-id-2 label.sk-toggleable__label {cursor: pointer;display: block;width: 100%;margin-bottom: 0;padding: 0.3em;box-sizing: border-box;text-align: center;}#sk-container-id-2 label.sk-toggleable__label-arrow:before {content: \"▸\";float: left;margin-right: 0.25em;color: #696969;}#sk-container-id-2 label.sk-toggleable__label-arrow:hover:before {color: black;}#sk-container-id-2 div.sk-estimator:hover label.sk-toggleable__label-arrow:before {color: black;}#sk-container-id-2 div.sk-toggleable__content {max-height: 0;max-width: 0;overflow: hidden;text-align: left;background-color: #f0f8ff;}#sk-container-id-2 div.sk-toggleable__content pre {margin: 0.2em;color: black;border-radius: 0.25em;background-color: #f0f8ff;}#sk-container-id-2 input.sk-toggleable__control:checked~div.sk-toggleable__content {max-height: 200px;max-width: 100%;overflow: auto;}#sk-container-id-2 input.sk-toggleable__control:checked~label.sk-toggleable__label-arrow:before {content: \"▾\";}#sk-container-id-2 div.sk-estimator input.sk-toggleable__control:checked~label.sk-toggleable__label {background-color: #d4ebff;}#sk-container-id-2 div.sk-label input.sk-toggleable__control:checked~label.sk-toggleable__label {background-color: #d4ebff;}#sk-container-id-2 input.sk-hidden--visually {border: 0;clip: rect(1px 1px 1px 1px);clip: rect(1px, 1px, 1px, 1px);height: 1px;margin: -1px;overflow: hidden;padding: 0;position: absolute;width: 1px;}#sk-container-id-2 div.sk-estimator {font-family: monospace;background-color: #f0f8ff;border: 1px dotted black;border-radius: 0.25em;box-sizing: border-box;margin-bottom: 0.5em;}#sk-container-id-2 div.sk-estimator:hover {background-color: #d4ebff;}#sk-container-id-2 div.sk-parallel-item::after {content: \"\";width: 100%;border-bottom: 1px solid gray;flex-grow: 1;}#sk-container-id-2 div.sk-label:hover label.sk-toggleable__label {background-color: #d4ebff;}#sk-container-id-2 div.sk-serial::before {content: \"\";position: absolute;border-left: 1px solid gray;box-sizing: border-box;top: 0;bottom: 0;left: 50%;z-index: 0;}#sk-container-id-2 div.sk-serial {display: flex;flex-direction: column;align-items: center;background-color: white;padding-right: 0.2em;padding-left: 0.2em;position: relative;}#sk-container-id-2 div.sk-item {position: relative;z-index: 1;}#sk-container-id-2 div.sk-parallel {display: flex;align-items: stretch;justify-content: center;background-color: white;position: relative;}#sk-container-id-2 div.sk-item::before, #sk-container-id-2 div.sk-parallel-item::before {content: \"\";position: absolute;border-left: 1px solid gray;box-sizing: border-box;top: 0;bottom: 0;left: 50%;z-index: -1;}#sk-container-id-2 div.sk-parallel-item {display: flex;flex-direction: column;z-index: 1;position: relative;background-color: white;}#sk-container-id-2 div.sk-parallel-item:first-child::after {align-self: flex-end;width: 50%;}#sk-container-id-2 div.sk-parallel-item:last-child::after {align-self: flex-start;width: 50%;}#sk-container-id-2 div.sk-parallel-item:only-child::after {width: 0;}#sk-container-id-2 div.sk-dashed-wrapped {border: 1px dashed gray;margin: 0 0.4em 0.5em 0.4em;box-sizing: border-box;padding-bottom: 0.4em;background-color: white;}#sk-container-id-2 div.sk-label label {font-family: monospace;font-weight: bold;display: inline-block;line-height: 1.2em;}#sk-container-id-2 div.sk-label-container {text-align: center;}#sk-container-id-2 div.sk-container {/* jupyter's `normalize.less` sets `[hidden] { display: none; }` but bootstrap.min.css set `[hidden] { display: none !important; }` so we also need the `!important` here to be able to override the default hidden behavior on the sphinx rendered scikit-learn.org. See: https://github.com/scikit-learn/scikit-learn/issues/21755 */display: inline-block !important;position: relative;}#sk-container-id-2 div.sk-text-repr-fallback {display: none;}</style><div id=\"sk-container-id-2\" class=\"sk-top-container\"><div class=\"sk-text-repr-fallback\"><pre>RandomizedSearchCV(cv=5, estimator=RandomForest(class_weight=&#x27;balanced&#x27;),\n",
       "                   param_distributions={&#x27;max_depth&#x27;: [5, 6, 7, 8, 9, 10, 11, 12,\n",
       "                                                      13, 14, 15, 16, 17, 18,\n",
       "                                                      19, 20, 21, 22, 23, 24]},\n",
       "                   return_train_score=True, scoring=&#x27;accuracy&#x27;, verbose=10)</pre><b>In a Jupyter environment, please rerun this cell to show the HTML representation or trust the notebook. <br />On GitHub, the HTML representation is unable to render, please try loading this page with nbviewer.org.</b></div><div class=\"sk-container\" hidden><div class=\"sk-item sk-dashed-wrapped\"><div class=\"sk-label-container\"><div class=\"sk-label sk-toggleable\"><input class=\"sk-toggleable__control sk-hidden--visually\" id=\"sk-estimator-id-4\" type=\"checkbox\" ><label for=\"sk-estimator-id-4\" class=\"sk-toggleable__label sk-toggleable__label-arrow\">RandomizedSearchCV</label><div class=\"sk-toggleable__content\"><pre>RandomizedSearchCV(cv=5, estimator=RandomForest(class_weight=&#x27;balanced&#x27;),\n",
       "                   param_distributions={&#x27;max_depth&#x27;: [5, 6, 7, 8, 9, 10, 11, 12,\n",
       "                                                      13, 14, 15, 16, 17, 18,\n",
       "                                                      19, 20, 21, 22, 23, 24]},\n",
       "                   return_train_score=True, scoring=&#x27;accuracy&#x27;, verbose=10)</pre></div></div></div><div class=\"sk-parallel\"><div class=\"sk-parallel-item\"><div class=\"sk-item\"><div class=\"sk-label-container\"><div class=\"sk-label sk-toggleable\"><input class=\"sk-toggleable__control sk-hidden--visually\" id=\"sk-estimator-id-5\" type=\"checkbox\" ><label for=\"sk-estimator-id-5\" class=\"sk-toggleable__label sk-toggleable__label-arrow\">estimator: RandomForest</label><div class=\"sk-toggleable__content\"><pre>RandomForest(class_weight=&#x27;balanced&#x27;)</pre></div></div></div><div class=\"sk-serial\"><div class=\"sk-item\"><div class=\"sk-estimator sk-toggleable\"><input class=\"sk-toggleable__control sk-hidden--visually\" id=\"sk-estimator-id-6\" type=\"checkbox\" ><label for=\"sk-estimator-id-6\" class=\"sk-toggleable__label sk-toggleable__label-arrow\">RandomForest</label><div class=\"sk-toggleable__content\"><pre>RandomForest(class_weight=&#x27;balanced&#x27;)</pre></div></div></div></div></div></div></div></div></div></div>"
      ],
      "text/plain": [
       "RandomizedSearchCV(cv=5, estimator=RandomForest(class_weight='balanced'),\n",
       "                   param_distributions={'max_depth': [5, 6, 7, 8, 9, 10, 11, 12,\n",
       "                                                      13, 14, 15, 16, 17, 18,\n",
       "                                                      19, 20, 21, 22, 23, 24]},\n",
       "                   return_train_score=True, scoring='accuracy', verbose=10)"
      ]
     },
     "execution_count": 55,
     "metadata": {},
     "output_type": "execute_result"
    }
   ],
   "source": [
    "param_grid = {\n",
    "\t\"max_depth\": list(range(5, 25)),\n",
    "}\n",
    "\n",
    "random_search = RandomizedSearchCV(RandomForest(class_weight=\"balanced\"), param_grid, cv=5, scoring=\"accuracy\", \n",
    "\t\t\t\t\t\t\t\t   return_train_score=True, verbose=10, n_iter=10)\n",
    "random_search.fit(X_train, y_train)"
   ]
  },
  {
   "cell_type": "code",
   "execution_count": 56,
   "metadata": {},
   "outputs": [
    {
     "data": {
      "text/plain": [
       "[(0.78214143558445, {'max_depth': 23}),\n",
       " (0.7820883640705851, {'max_depth': 20}),\n",
       " (0.7819291495289903, {'max_depth': 24}),\n",
       " (0.7819026137720579, {'max_depth': 22}),\n",
       " (0.7811330768210164, {'max_depth': 18}),\n",
       " (0.7772057847950112, {'max_depth': 16}),\n",
       " (0.761549688204856, {'max_depth': 12}),\n",
       " (0.7445668037680775, {'max_depth': 10}),\n",
       " (0.7025607005439831, {'max_depth': 7}),\n",
       " (0.6982884436778558, {'max_depth': 6})]"
      ]
     },
     "execution_count": 56,
     "metadata": {},
     "output_type": "execute_result"
    }
   ],
   "source": [
    "sorted(zip(random_search.cv_results_[\"mean_test_score\"], random_search.cv_results_[\"params\"]), reverse=True)"
   ]
  },
  {
   "cell_type": "markdown",
   "metadata": {},
   "source": [
    "Values of `max_depth` over 20 seem to achieve the most accuracy in the validation set, despite highly overfitting the training set. We will now compare the metrics of setting `max_depth` to 16 and to 24."
   ]
  },
  {
   "cell_type": "code",
   "execution_count": 7,
   "metadata": {},
   "outputs": [
    {
     "data": {
      "text/plain": [
       "{'accuracy': 0.7810800053071514,\n",
       " 'precision': 0.7815104043045576,\n",
       " 'recall': 0.7267601113942389,\n",
       " 'f1': 0.7489894493280119}"
      ]
     },
     "execution_count": 7,
     "metadata": {},
     "output_type": "execute_result"
    }
   ],
   "source": [
    "model_24 = RandomForest(n_estimators=100, max_depth=24, bootstrap=True, class_weight=\"balanced\")\n",
    "model_24.fit(X_train2, y_train2)\n",
    "model_24.compute_metrics(X_val, y_val)"
   ]
  },
  {
   "cell_type": "code",
   "execution_count": 8,
   "metadata": {},
   "outputs": [
    {
     "data": {
      "text/plain": [
       "{'accuracy': 0.7773649993366061,\n",
       " 'precision': 0.7744753142851063,\n",
       " 'recall': 0.7255917931869048,\n",
       " 'f1': 0.7428291679142989}"
      ]
     },
     "execution_count": 8,
     "metadata": {},
     "output_type": "execute_result"
    }
   ],
   "source": [
    "model_16 = RandomForest(n_estimators=100, max_depth=16, bootstrap=True, class_weight=\"balanced\")\n",
    "model_16.fit(X_train2, y_train2)\n",
    "model_16.compute_metrics(X_val, y_val)"
   ]
  },
  {
   "cell_type": "code",
   "execution_count": 9,
   "metadata": {},
   "outputs": [
    {
     "name": "stdout",
     "output_type": "stream",
     "text": [
      "accuracy 0.0037150059705453042\n",
      "precision 0.007035090019451351\n",
      "recall 0.0011683182073340959\n",
      "f1 0.0061602814137130535\n",
      "confusion matrix [[  1  -1   0   0   0]\n",
      " [  0 -31  38  -7   0]\n",
      " [  0 -29  82 -56   3]\n",
      " [  0  -1  33 -31  -1]\n",
      " [  0  -2  14 -19   7]]\n"
     ]
    }
   ],
   "source": [
    "_ = model_24.compare(model_16, X_val, y_val)"
   ]
  },
  {
   "cell_type": "markdown",
   "metadata": {},
   "source": [
    "The comparison shows us that `model_24` has very similar metrics than `model_16`. The lines of zeros in the **difference** confusion matrix suggests that both model perform equally good in the class 0 (the one with few samples), so we are happy.  \n",
    "Actually, the difference between both is very small, so we will take `max_depth = 16` as it's less computationally expensive and less complex."
   ]
  },
  {
   "cell_type": "markdown",
   "metadata": {},
   "source": [
    "### With outliers\n",
    "Here we experiment by including outliers and training the model with them. We think that choosing bagging vs pasting can be even more significant this time, we will check it."
   ]
  },
  {
   "cell_type": "code",
   "execution_count": 7,
   "metadata": {},
   "outputs": [
    {
     "data": {
      "text/html": [
       "<style>#sk-container-id-1 {color: black;}#sk-container-id-1 pre{padding: 0;}#sk-container-id-1 div.sk-toggleable {background-color: white;}#sk-container-id-1 label.sk-toggleable__label {cursor: pointer;display: block;width: 100%;margin-bottom: 0;padding: 0.3em;box-sizing: border-box;text-align: center;}#sk-container-id-1 label.sk-toggleable__label-arrow:before {content: \"▸\";float: left;margin-right: 0.25em;color: #696969;}#sk-container-id-1 label.sk-toggleable__label-arrow:hover:before {color: black;}#sk-container-id-1 div.sk-estimator:hover label.sk-toggleable__label-arrow:before {color: black;}#sk-container-id-1 div.sk-toggleable__content {max-height: 0;max-width: 0;overflow: hidden;text-align: left;background-color: #f0f8ff;}#sk-container-id-1 div.sk-toggleable__content pre {margin: 0.2em;color: black;border-radius: 0.25em;background-color: #f0f8ff;}#sk-container-id-1 input.sk-toggleable__control:checked~div.sk-toggleable__content {max-height: 200px;max-width: 100%;overflow: auto;}#sk-container-id-1 input.sk-toggleable__control:checked~label.sk-toggleable__label-arrow:before {content: \"▾\";}#sk-container-id-1 div.sk-estimator input.sk-toggleable__control:checked~label.sk-toggleable__label {background-color: #d4ebff;}#sk-container-id-1 div.sk-label input.sk-toggleable__control:checked~label.sk-toggleable__label {background-color: #d4ebff;}#sk-container-id-1 input.sk-hidden--visually {border: 0;clip: rect(1px 1px 1px 1px);clip: rect(1px, 1px, 1px, 1px);height: 1px;margin: -1px;overflow: hidden;padding: 0;position: absolute;width: 1px;}#sk-container-id-1 div.sk-estimator {font-family: monospace;background-color: #f0f8ff;border: 1px dotted black;border-radius: 0.25em;box-sizing: border-box;margin-bottom: 0.5em;}#sk-container-id-1 div.sk-estimator:hover {background-color: #d4ebff;}#sk-container-id-1 div.sk-parallel-item::after {content: \"\";width: 100%;border-bottom: 1px solid gray;flex-grow: 1;}#sk-container-id-1 div.sk-label:hover label.sk-toggleable__label {background-color: #d4ebff;}#sk-container-id-1 div.sk-serial::before {content: \"\";position: absolute;border-left: 1px solid gray;box-sizing: border-box;top: 0;bottom: 0;left: 50%;z-index: 0;}#sk-container-id-1 div.sk-serial {display: flex;flex-direction: column;align-items: center;background-color: white;padding-right: 0.2em;padding-left: 0.2em;position: relative;}#sk-container-id-1 div.sk-item {position: relative;z-index: 1;}#sk-container-id-1 div.sk-parallel {display: flex;align-items: stretch;justify-content: center;background-color: white;position: relative;}#sk-container-id-1 div.sk-item::before, #sk-container-id-1 div.sk-parallel-item::before {content: \"\";position: absolute;border-left: 1px solid gray;box-sizing: border-box;top: 0;bottom: 0;left: 50%;z-index: -1;}#sk-container-id-1 div.sk-parallel-item {display: flex;flex-direction: column;z-index: 1;position: relative;background-color: white;}#sk-container-id-1 div.sk-parallel-item:first-child::after {align-self: flex-end;width: 50%;}#sk-container-id-1 div.sk-parallel-item:last-child::after {align-self: flex-start;width: 50%;}#sk-container-id-1 div.sk-parallel-item:only-child::after {width: 0;}#sk-container-id-1 div.sk-dashed-wrapped {border: 1px dashed gray;margin: 0 0.4em 0.5em 0.4em;box-sizing: border-box;padding-bottom: 0.4em;background-color: white;}#sk-container-id-1 div.sk-label label {font-family: monospace;font-weight: bold;display: inline-block;line-height: 1.2em;}#sk-container-id-1 div.sk-label-container {text-align: center;}#sk-container-id-1 div.sk-container {/* jupyter's `normalize.less` sets `[hidden] { display: none; }` but bootstrap.min.css set `[hidden] { display: none !important; }` so we also need the `!important` here to be able to override the default hidden behavior on the sphinx rendered scikit-learn.org. See: https://github.com/scikit-learn/scikit-learn/issues/21755 */display: inline-block !important;position: relative;}#sk-container-id-1 div.sk-text-repr-fallback {display: none;}</style><div id=\"sk-container-id-1\" class=\"sk-top-container\"><div class=\"sk-text-repr-fallback\"><pre>GridSearchCV(cv=5,\n",
       "             estimator=RandomForest(class_weight=&#x27;balanced&#x27;, max_depth=16),\n",
       "             n_jobs=-1, param_grid={&#x27;bootstrap&#x27;: [True, False]},\n",
       "             return_train_score=True, scoring=&#x27;accuracy&#x27;)</pre><b>In a Jupyter environment, please rerun this cell to show the HTML representation or trust the notebook. <br />On GitHub, the HTML representation is unable to render, please try loading this page with nbviewer.org.</b></div><div class=\"sk-container\" hidden><div class=\"sk-item sk-dashed-wrapped\"><div class=\"sk-label-container\"><div class=\"sk-label sk-toggleable\"><input class=\"sk-toggleable__control sk-hidden--visually\" id=\"sk-estimator-id-1\" type=\"checkbox\" ><label for=\"sk-estimator-id-1\" class=\"sk-toggleable__label sk-toggleable__label-arrow\">GridSearchCV</label><div class=\"sk-toggleable__content\"><pre>GridSearchCV(cv=5,\n",
       "             estimator=RandomForest(class_weight=&#x27;balanced&#x27;, max_depth=16),\n",
       "             n_jobs=-1, param_grid={&#x27;bootstrap&#x27;: [True, False]},\n",
       "             return_train_score=True, scoring=&#x27;accuracy&#x27;)</pre></div></div></div><div class=\"sk-parallel\"><div class=\"sk-parallel-item\"><div class=\"sk-item\"><div class=\"sk-label-container\"><div class=\"sk-label sk-toggleable\"><input class=\"sk-toggleable__control sk-hidden--visually\" id=\"sk-estimator-id-2\" type=\"checkbox\" ><label for=\"sk-estimator-id-2\" class=\"sk-toggleable__label sk-toggleable__label-arrow\">estimator: RandomForest</label><div class=\"sk-toggleable__content\"><pre>RandomForest(class_weight=&#x27;balanced&#x27;, max_depth=16)</pre></div></div></div><div class=\"sk-serial\"><div class=\"sk-item\"><div class=\"sk-estimator sk-toggleable\"><input class=\"sk-toggleable__control sk-hidden--visually\" id=\"sk-estimator-id-3\" type=\"checkbox\" ><label for=\"sk-estimator-id-3\" class=\"sk-toggleable__label sk-toggleable__label-arrow\">RandomForest</label><div class=\"sk-toggleable__content\"><pre>RandomForest(class_weight=&#x27;balanced&#x27;, max_depth=16)</pre></div></div></div></div></div></div></div></div></div></div>"
      ],
      "text/plain": [
       "GridSearchCV(cv=5,\n",
       "             estimator=RandomForest(class_weight='balanced', max_depth=16),\n",
       "             n_jobs=-1, param_grid={'bootstrap': [True, False]},\n",
       "             return_train_score=True, scoring='accuracy')"
      ]
     },
     "execution_count": 7,
     "metadata": {},
     "output_type": "execute_result"
    }
   ],
   "source": [
    "X_train, X_test, y_train, y_test = utils.preprocessing_LS(df)\n",
    "\n",
    "param_grid = {\n",
    "\t\"bootstrap\": [True, False]\n",
    "}\n",
    "\n",
    "grid_search = GridSearchCV(RandomForest(max_depth=16, class_weight=\"balanced\"), param_grid, cv=5, scoring=\"accuracy\", return_train_score=True, n_jobs=-1)\n",
    "grid_search.fit(X_train, y_train)"
   ]
  },
  {
   "cell_type": "code",
   "execution_count": 8,
   "metadata": {},
   "outputs": [
    {
     "data": {
      "text/plain": [
       "[(0.7736142550103355, {'bootstrap': True}),\n",
       " (0.7717371199479952, {'bootstrap': False})]"
      ]
     },
     "execution_count": 8,
     "metadata": {},
     "output_type": "execute_result"
    }
   ],
   "source": [
    "sorted(zip(grid_search.cv_results_[\"mean_test_score\"], grid_search.cv_results_[\"params\"]), reverse=True)"
   ]
  },
  {
   "cell_type": "markdown",
   "metadata": {},
   "source": [
    "We were wrong, choosing bagging or pasting is not significant in this case. Maybe this time the model needs a different maximum tree depth."
   ]
  },
  {
   "cell_type": "code",
   "execution_count": 35,
   "metadata": {},
   "outputs": [
    {
     "data": {
      "text/html": [
       "<style>#sk-container-id-3 {color: black;}#sk-container-id-3 pre{padding: 0;}#sk-container-id-3 div.sk-toggleable {background-color: white;}#sk-container-id-3 label.sk-toggleable__label {cursor: pointer;display: block;width: 100%;margin-bottom: 0;padding: 0.3em;box-sizing: border-box;text-align: center;}#sk-container-id-3 label.sk-toggleable__label-arrow:before {content: \"▸\";float: left;margin-right: 0.25em;color: #696969;}#sk-container-id-3 label.sk-toggleable__label-arrow:hover:before {color: black;}#sk-container-id-3 div.sk-estimator:hover label.sk-toggleable__label-arrow:before {color: black;}#sk-container-id-3 div.sk-toggleable__content {max-height: 0;max-width: 0;overflow: hidden;text-align: left;background-color: #f0f8ff;}#sk-container-id-3 div.sk-toggleable__content pre {margin: 0.2em;color: black;border-radius: 0.25em;background-color: #f0f8ff;}#sk-container-id-3 input.sk-toggleable__control:checked~div.sk-toggleable__content {max-height: 200px;max-width: 100%;overflow: auto;}#sk-container-id-3 input.sk-toggleable__control:checked~label.sk-toggleable__label-arrow:before {content: \"▾\";}#sk-container-id-3 div.sk-estimator input.sk-toggleable__control:checked~label.sk-toggleable__label {background-color: #d4ebff;}#sk-container-id-3 div.sk-label input.sk-toggleable__control:checked~label.sk-toggleable__label {background-color: #d4ebff;}#sk-container-id-3 input.sk-hidden--visually {border: 0;clip: rect(1px 1px 1px 1px);clip: rect(1px, 1px, 1px, 1px);height: 1px;margin: -1px;overflow: hidden;padding: 0;position: absolute;width: 1px;}#sk-container-id-3 div.sk-estimator {font-family: monospace;background-color: #f0f8ff;border: 1px dotted black;border-radius: 0.25em;box-sizing: border-box;margin-bottom: 0.5em;}#sk-container-id-3 div.sk-estimator:hover {background-color: #d4ebff;}#sk-container-id-3 div.sk-parallel-item::after {content: \"\";width: 100%;border-bottom: 1px solid gray;flex-grow: 1;}#sk-container-id-3 div.sk-label:hover label.sk-toggleable__label {background-color: #d4ebff;}#sk-container-id-3 div.sk-serial::before {content: \"\";position: absolute;border-left: 1px solid gray;box-sizing: border-box;top: 0;bottom: 0;left: 50%;z-index: 0;}#sk-container-id-3 div.sk-serial {display: flex;flex-direction: column;align-items: center;background-color: white;padding-right: 0.2em;padding-left: 0.2em;position: relative;}#sk-container-id-3 div.sk-item {position: relative;z-index: 1;}#sk-container-id-3 div.sk-parallel {display: flex;align-items: stretch;justify-content: center;background-color: white;position: relative;}#sk-container-id-3 div.sk-item::before, #sk-container-id-3 div.sk-parallel-item::before {content: \"\";position: absolute;border-left: 1px solid gray;box-sizing: border-box;top: 0;bottom: 0;left: 50%;z-index: -1;}#sk-container-id-3 div.sk-parallel-item {display: flex;flex-direction: column;z-index: 1;position: relative;background-color: white;}#sk-container-id-3 div.sk-parallel-item:first-child::after {align-self: flex-end;width: 50%;}#sk-container-id-3 div.sk-parallel-item:last-child::after {align-self: flex-start;width: 50%;}#sk-container-id-3 div.sk-parallel-item:only-child::after {width: 0;}#sk-container-id-3 div.sk-dashed-wrapped {border: 1px dashed gray;margin: 0 0.4em 0.5em 0.4em;box-sizing: border-box;padding-bottom: 0.4em;background-color: white;}#sk-container-id-3 div.sk-label label {font-family: monospace;font-weight: bold;display: inline-block;line-height: 1.2em;}#sk-container-id-3 div.sk-label-container {text-align: center;}#sk-container-id-3 div.sk-container {/* jupyter's `normalize.less` sets `[hidden] { display: none; }` but bootstrap.min.css set `[hidden] { display: none !important; }` so we also need the `!important` here to be able to override the default hidden behavior on the sphinx rendered scikit-learn.org. See: https://github.com/scikit-learn/scikit-learn/issues/21755 */display: inline-block !important;position: relative;}#sk-container-id-3 div.sk-text-repr-fallback {display: none;}</style><div id=\"sk-container-id-3\" class=\"sk-top-container\"><div class=\"sk-text-repr-fallback\"><pre>GridSearchCV(cv=5, estimator=RandomForest(class_weight=&#x27;balanced&#x27;), n_jobs=-1,\n",
       "             param_grid={&#x27;max_depth&#x27;: [12, 13, 14, 15, 16, 17, 18, 19, 20, 21,\n",
       "                                       22, 23, 24]},\n",
       "             return_train_score=True, scoring=&#x27;accuracy&#x27;)</pre><b>In a Jupyter environment, please rerun this cell to show the HTML representation or trust the notebook. <br />On GitHub, the HTML representation is unable to render, please try loading this page with nbviewer.org.</b></div><div class=\"sk-container\" hidden><div class=\"sk-item sk-dashed-wrapped\"><div class=\"sk-label-container\"><div class=\"sk-label sk-toggleable\"><input class=\"sk-toggleable__control sk-hidden--visually\" id=\"sk-estimator-id-7\" type=\"checkbox\" ><label for=\"sk-estimator-id-7\" class=\"sk-toggleable__label sk-toggleable__label-arrow\">GridSearchCV</label><div class=\"sk-toggleable__content\"><pre>GridSearchCV(cv=5, estimator=RandomForest(class_weight=&#x27;balanced&#x27;), n_jobs=-1,\n",
       "             param_grid={&#x27;max_depth&#x27;: [12, 13, 14, 15, 16, 17, 18, 19, 20, 21,\n",
       "                                       22, 23, 24]},\n",
       "             return_train_score=True, scoring=&#x27;accuracy&#x27;)</pre></div></div></div><div class=\"sk-parallel\"><div class=\"sk-parallel-item\"><div class=\"sk-item\"><div class=\"sk-label-container\"><div class=\"sk-label sk-toggleable\"><input class=\"sk-toggleable__control sk-hidden--visually\" id=\"sk-estimator-id-8\" type=\"checkbox\" ><label for=\"sk-estimator-id-8\" class=\"sk-toggleable__label sk-toggleable__label-arrow\">estimator: RandomForest</label><div class=\"sk-toggleable__content\"><pre>RandomForest(class_weight=&#x27;balanced&#x27;)</pre></div></div></div><div class=\"sk-serial\"><div class=\"sk-item\"><div class=\"sk-estimator sk-toggleable\"><input class=\"sk-toggleable__control sk-hidden--visually\" id=\"sk-estimator-id-9\" type=\"checkbox\" ><label for=\"sk-estimator-id-9\" class=\"sk-toggleable__label sk-toggleable__label-arrow\">RandomForest</label><div class=\"sk-toggleable__content\"><pre>RandomForest(class_weight=&#x27;balanced&#x27;)</pre></div></div></div></div></div></div></div></div></div></div>"
      ],
      "text/plain": [
       "GridSearchCV(cv=5, estimator=RandomForest(class_weight='balanced'), n_jobs=-1,\n",
       "             param_grid={'max_depth': [12, 13, 14, 15, 16, 17, 18, 19, 20, 21,\n",
       "                                       22, 23, 24]},\n",
       "             return_train_score=True, scoring='accuracy')"
      ]
     },
     "execution_count": 35,
     "metadata": {},
     "output_type": "execute_result"
    }
   ],
   "source": [
    "param_grid = {\n",
    "\t\"max_depth\": list(range(12, 25)),\n",
    "}\n",
    "\n",
    "grid_search = GridSearchCV(RandomForest(class_weight=\"balanced\"), param_grid, cv=5, scoring=\"accuracy\", \n",
    "\t\t\t\t\t\t\t\t   return_train_score=True, n_jobs=-1)\n",
    "grid_search.fit(X_train, y_train)"
   ]
  },
  {
   "cell_type": "code",
   "execution_count": 36,
   "metadata": {},
   "outputs": [
    {
     "data": {
      "text/plain": [
       "[(0.780473608766696, {'max_depth': 23}),\n",
       " (0.7801260674388704, {'max_depth': 24}),\n",
       " (0.779523558468336, {'max_depth': 21}),\n",
       " (0.7790368813915938, {'max_depth': 22}),\n",
       " (0.7779477302504259, {'max_depth': 20}),\n",
       " (0.7772061714537039, {'max_depth': 19}),\n",
       " (0.7757462207760353, {'max_depth': 18}),\n",
       " (0.774031340046852, {'max_depth': 17}),\n",
       " (0.7736142550103355, {'max_depth': 16}),\n",
       " (0.7707638893084334, {'max_depth': 15}),\n",
       " (0.7658046173531959, {'max_depth': 14}),\n",
       " (0.7604746505797838, {'max_depth': 13}),\n",
       " (0.754403052512347, {'max_depth': 12})]"
      ]
     },
     "execution_count": 36,
     "metadata": {},
     "output_type": "execute_result"
    }
   ],
   "source": [
    "sorted(zip(grid_search.cv_results_[\"mean_test_score\"], grid_search.cv_results_[\"params\"]), reverse=True)"
   ]
  },
  {
   "cell_type": "markdown",
   "metadata": {},
   "source": [
    "The difference in accuracy is very low. For the same reason as before, we will stay with 16."
   ]
  },
  {
   "cell_type": "code",
   "execution_count": 10,
   "metadata": {},
   "outputs": [
    {
     "data": {
      "text/plain": [
       "{'accuracy': 0.7773649993366061,\n",
       " 'precision': 0.7744753142851063,\n",
       " 'recall': 0.7255917931869048,\n",
       " 'f1': 0.7428291679142989}"
      ]
     },
     "execution_count": 10,
     "metadata": {},
     "output_type": "execute_result"
    }
   ],
   "source": [
    "model = RandomForest(n_estimators=100, max_depth=16, bootstrap=True, class_weight=\"balanced\")\n",
    "X_train2, X_val, y_train2, y_val = train_test_split(X_train, y_train, test_size=0.2, random_state=42)\n",
    "model.fit(X_train2, y_train2)\n",
    "model.compute_metrics(X_val, y_val)"
   ]
  },
  {
   "cell_type": "markdown",
   "metadata": {},
   "source": [
    "Overall, training with outliers didn't change the metrics of the model much. The precision slightly decreased and the recall slightly increased.  \n",
    "We believe that outliers in this dataset are more likely rare diamonds than measurement errors, as this is a very meticulous field of study. So, if the model is able to generalize despite these outliers, we should keep it, as real world samples may also contain rare diamonds."
   ]
  },
  {
   "cell_type": "code",
   "execution_count": 20,
   "metadata": {},
   "outputs": [
    {
     "data": {
      "image/png": "[encoded data removed]",
      "text/plain": [
       "<Figure size 640x480 with 1 Axes>"
      ]
     },
     "metadata": {},
     "output_type": "display_data"
    }
   ],
   "source": [
    "import matplotlib.pyplot as plt\n",
    "\n",
    "X_train_o, X_test_o, y_train_o, y_test_o = utils.preprocessing_LS(df)\n",
    "X_train_no, X_test_no, y_train_no, y_test_no = utils.preprocessing_LOS(df)\n",
    "outliers_percentage_o = y_train_o.value_counts(normalize=True)\n",
    "outliers_percentage_no = y_train_no.value_counts(normalize=True)\n",
    "\n",
    "plt.figure()\n",
    "outliers_percentage_o.plot.bar(color='b', alpha=0.5, label='With outliers')\n",
    "outliers_percentage_no.plot.bar(color='r', alpha=0.5, label='Without outliers')\n",
    "plt.legend()\n",
    "plt.show()"
   ]
  },
  {
   "cell_type": "markdown",
   "metadata": {},
   "source": [
    "Moreover, we see that class 0 losses a lot of observations if we remove outliers, so it's good if we have a model that can classify more confidently this class, that other models struggled with due to having few samples."
   ]
  },
  {
   "cell_type": "markdown",
   "metadata": {},
   "source": [
    "### Final test\n",
    "We test the model with outliers."
   ]
  },
  {
   "cell_type": "code",
   "execution_count": 15,
   "metadata": {},
   "outputs": [
    {
     "data": {
      "text/plain": [
       "{'accuracy': 0.753615127919911,\n",
       " 'precision': 0.7647340744860867,\n",
       " 'recall': 0.7305996146062969,\n",
       " 'f1': 0.7371562742692406}"
      ]
     },
     "execution_count": 15,
     "metadata": {},
     "output_type": "execute_result"
    }
   ],
   "source": [
    "X_train, X_test, y_train, y_test = utils.preprocessing_LS(df)\n",
    "model = RandomForest(n_estimators=100, max_depth=16, bootstrap=True, class_weight=\"balanced\")\n",
    "model.fit(X_train, y_train)\n",
    "model.compute_metrics(X_test, y_test)"
   ]
  },
  {
   "cell_type": "code",
   "execution_count": 17,
   "metadata": {},
   "outputs": [
    {
     "data": {
      "image/png": "[encoded data removed]",
      "text/plain": [
       "<Figure size 500x400 with 2 Axes>"
      ]
     },
     "metadata": {},
     "output_type": "display_data"
    }
   ],
   "source": [
    "import seaborn as sns\n",
    "\n",
    "conf_mat = model.conf_matrix(X_test, y_test)\n",
    "plt.figure(figsize=(5, 4))\n",
    "sns.heatmap(conf_mat, annot=True, fmt=\"d\", cmap=\"Blues\")\n",
    "plt.title(\"Confusion Matrix\")\n",
    "plt.xlabel(\"Predicted\")\n",
    "plt.ylabel(\"Actual\")\n",
    "plt.show()"
   ]
  },
  {
   "cell_type": "code",
   "execution_count": 18,
   "metadata": {},
   "outputs": [
    {
     "data": {
      "image/png": "[encoded data removed]",
      "text/plain": [
       "<Figure size 500x500 with 1 Axes>"
      ]
     },
     "metadata": {},
     "output_type": "display_data"
    }
   ],
   "source": [
    "model.roc_curve(X_test, y_test)"
   ]
  },
  {
   "cell_type": "markdown",
   "metadata": {},
   "source": [
    "Random Forest achieves a high AUC in all classes, except with class 2, a target that we observed other models also struggled with. Overall, it generalizes quite well despite the presence of important outliers."
   ]
  }
 ],
 "metadata": {
  "kernelspec": {
   "display_name": "base",
   "language": "python",
   "name": "python3"
  },
  "language_info": {
   "codemirror_mode": {
    "name": "ipython",
    "version": 3
   },
   "file_extension": ".py",
   "mimetype": "text/x-python",
   "name": "python",
   "nbconvert_exporter": "python",
   "pygments_lexer": "ipython3",
   "version": "3.9.17"
  }
 },
 "nbformat": 4,
 "nbformat_minor": 2
}
